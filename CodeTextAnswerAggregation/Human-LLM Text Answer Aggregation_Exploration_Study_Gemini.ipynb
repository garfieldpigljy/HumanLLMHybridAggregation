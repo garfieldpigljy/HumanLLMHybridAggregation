{
 "cells": [
  {
   "cell_type": "markdown",
   "metadata": {
    "id": "ApIyCfhnzPob"
   },
   "source": [
    "#Data Helper"
   ]
  },
  {
   "cell_type": "code",
   "execution_count": null,
   "metadata": {
    "colab": {
     "base_uri": "https://localhost:8080/"
    },
    "executionInfo": {
     "elapsed": 13401,
     "status": "ok",
     "timestamp": 1718460854421,
     "user": {
      "displayName": "Jiyi Li",
      "userId": "12552177904401594396"
     },
     "user_tz": -540
    },
    "id": "RPR1wqDd37jP",
    "outputId": "3c15c32a-9438-44ce-b05d-077d0937ed5a"
   },
   "outputs": [],
   "source": [
    "from google.colab import drive\n",
    "drive.mount('/content/drive')"
   ]
  },
  {
   "cell_type": "code",
   "execution_count": null,
   "metadata": {
    "colab": {
     "base_uri": "https://localhost:8080/"
    },
    "executionInfo": {
     "elapsed": 755,
     "status": "ok",
     "timestamp": 1718460855174,
     "user": {
      "displayName": "Jiyi Li",
      "userId": "12552177904401594396"
     },
     "user_tz": -540
    },
    "id": "7JNbgehXd9Bi",
    "outputId": "fa75cc5c-d527-441a-c629-adc7a09b0e96"
   },
   "outputs": [],
   "source": [
    "workfolder = \"MyDrive/HumanLLMTextAnswerAgg/Gemini/\"\n",
    "folder = \"data/\"\n",
    "\n",
    "import os\n",
    "os.chdir('/content/drive')\n",
    "os.chdir(workfolder)\n",
    "!ls"
   ]
  },
  {
   "cell_type": "code",
   "execution_count": 3,
   "metadata": {
    "executionInfo": {
     "elapsed": 1981,
     "status": "ok",
     "timestamp": 1718460857151,
     "user": {
      "displayName": "Jiyi Li",
      "userId": "12552177904401594396"
     },
     "user_tz": -540
    },
    "id": "m_6GqVGnid4q"
   },
   "outputs": [],
   "source": [
    "import pandas as pd\n",
    "import numpy as np\n",
    "\n",
    "def loaddata(labelfilename,gtfilename):\n",
    "  gtdf = pd.read_csv(gtfilename,sep='\\t',encoding='utf-8')\n",
    "\n",
    "  sentences = gtdf['sentence'].values.tolist()\n",
    "  truelabels = {}\n",
    "  for idx,row in gtdf.iterrows():\n",
    "    truelabels[row['sentence']] = row['trueanswer']\n",
    "\n",
    "  labeldf = pd.read_csv(labelfilename,sep='\\t',encoding='utf-8')\n",
    "\n",
    "  workers = []\n",
    "  swlabels = []\n",
    "\n",
    "  for idx,row in labeldf.iterrows():\n",
    "    worker = row['worker']\n",
    "    if worker not in workers:\n",
    "      workers.append(worker)\n",
    "    workerid = workers.index(worker)\n",
    "    sentenceid = sentences.index(row['sentence'])\n",
    "    label = row['workeranswer'].strip()\n",
    "    swlabels.append((sentenceid,workerid,label))\n",
    "\n",
    "  return (workers,sentences,swlabels,truelabels)\n",
    "\n",
    "def labelformatconversion(workers,sentences,swlabels):\n",
    "  wlabelidlists = {}\n",
    "  wsentenceidlists = {}\n",
    "  for worker in workers:\n",
    "    wlabelidlists[worker] = []\n",
    "    wsentenceidlists[worker] = []\n",
    "\n",
    "  slabelidlists = {}\n",
    "  sworkeridlists = {}\n",
    "  for sentence in sentences:\n",
    "    slabelidlists[sentence] = []\n",
    "    sworkeridlists[sentence] = []\n",
    "\n",
    "  labellist = []\n",
    "  labelidx = 0\n",
    "  for (sentenceid,workerid,label) in swlabels:\n",
    "    labellist.append(label)\n",
    "    sentence = sentences[sentenceid]\n",
    "    slabelidlists[sentence].append(labelidx)\n",
    "    sworkeridlists[sentence].append(workerid)\n",
    "    worker = workers[workerid]\n",
    "    wlabelidlists[worker].append(labelidx)\n",
    "    wsentenceidlists[worker].append(sentenceid)\n",
    "    labelidx += 1\n",
    "\n",
    "  return (labellist,slabelidlists,sworkeridlists,wlabelidlists,wsentenceidlists)\n",
    "\n",
    "def truelabelformatonversion(sentences,truelabels):\n",
    "  truelabellist = []\n",
    "  for i in range(len(sentences)):\n",
    "    sentence = sentences[i]\n",
    "    truelabellist.append(truelabels[sentence])\n",
    "\n",
    "  return truelabellist"
   ]
  },
  {
   "cell_type": "markdown",
   "metadata": {
    "id": "fPS2voaTz2yA"
   },
   "source": [
    "# Universal Sentence Encoder"
   ]
  },
  {
   "cell_type": "code",
   "execution_count": 4,
   "metadata": {
    "executionInfo": {
     "elapsed": 66201,
     "status": "ok",
     "timestamp": 1718460923347,
     "user": {
      "displayName": "Jiyi Li",
      "userId": "12552177904401594396"
     },
     "user_tz": -540
    },
    "id": "bFUa2_Yp_Hov"
   },
   "outputs": [],
   "source": [
    "# Install the latest Tensorflow version.\n",
    "!pip3 install --quiet \"tensorflow>=1.7\"\n",
    "# Install TF-Hub.\n",
    "!pip3 install --quiet tensorflow-hub\n",
    "!pip3 install --quiet seaborn"
   ]
  },
  {
   "cell_type": "code",
   "execution_count": 5,
   "metadata": {
    "colab": {
     "base_uri": "https://localhost:8080/"
    },
    "executionInfo": {
     "elapsed": 7031,
     "status": "ok",
     "timestamp": 1718460930375,
     "user": {
      "displayName": "Jiyi Li",
      "userId": "12552177904401594396"
     },
     "user_tz": -540
    },
    "id": "7pVpk5Jg_J6k",
    "outputId": "7b187e55-f268-4e26-d91f-3c4b95805380"
   },
   "outputs": [
    {
     "name": "stderr",
     "output_type": "stream",
     "text": [
      "WARNING:tensorflow:From /usr/local/lib/python3.10/dist-packages/tensorflow/python/compat/v2_compat.py:108: disable_resource_variables (from tensorflow.python.ops.variable_scope) is deprecated and will be removed in a future version.\n",
      "Instructions for updating:\n",
      "non-resource variables are not supported in the long term\n"
     ]
    }
   ],
   "source": [
    "#import tensorflow as tf\n",
    "import tensorflow.compat.v1 as tf\n",
    "tf.disable_v2_behavior()\n",
    "import tensorflow_hub as hub\n",
    "import os\n",
    "import re"
   ]
  },
  {
   "cell_type": "code",
   "execution_count": null,
   "metadata": {
    "id": "fTgWfpMU_NDW"
   },
   "outputs": [],
   "source": [
    "#module_url = \"https://tfhub.dev/google/universal-sentence-encoder/2\" #@param [\"https://tfhub.dev/google/universal-sentence-encoder/2\", \"https://tfhub.dev/google/universal-sentence-encoder-large/3\"]"
   ]
  },
  {
   "cell_type": "code",
   "execution_count": 6,
   "metadata": {
    "executionInfo": {
     "elapsed": 13,
     "status": "ok",
     "timestamp": 1718460930375,
     "user": {
      "displayName": "Jiyi Li",
      "userId": "12552177904401594396"
     },
     "user_tz": -540
    },
    "id": "oPBtI8rFeWA-"
   },
   "outputs": [],
   "source": [
    "module_url = \"https://tfhub.dev/google/universal-sentence-encoder/4\""
   ]
  },
  {
   "cell_type": "markdown",
   "metadata": {
    "id": "i0SgMy6k_rvV"
   },
   "source": [
    "# Evaluation Method"
   ]
  },
  {
   "cell_type": "code",
   "execution_count": 7,
   "metadata": {
    "executionInfo": {
     "elapsed": 12,
     "status": "ok",
     "timestamp": 1718460930375,
     "user": {
      "displayName": "Jiyi Li",
      "userId": "12552177904401594396"
     },
     "user_tz": -540
    },
    "id": "SEtDUi895wlp"
   },
   "outputs": [],
   "source": [
    "DEFAULT_SIM_TYPE = 'COSINE'\n",
    "def similarity(embed1, embed2, simtype = DEFAULT_SIM_TYPE):\n",
    "  if (simtype == 'COSINE'):\n",
    "    l1 = np.sqrt(np.sum(embed1**2))\n",
    "    l2 = np.sqrt(np.sum(embed2**2))\n",
    "    sim = np.inner(embed1,embed2) / (l1*l2)\n",
    "\n",
    "  return sim"
   ]
  },
  {
   "cell_type": "markdown",
   "metadata": {
    "id": "9lAPMiUblQB9"
   },
   "source": [
    "## Embedding"
   ]
  },
  {
   "cell_type": "code",
   "execution_count": 8,
   "metadata": {
    "executionInfo": {
     "elapsed": 11,
     "status": "ok",
     "timestamp": 1718460930375,
     "user": {
      "displayName": "Jiyi Li",
      "userId": "12552177904401594396"
     },
     "user_tz": -540
    },
    "id": "BqJP7lGCcXoA"
   },
   "outputs": [],
   "source": [
    "def evaluationbyEmbedding(sentences, elabels, label_embeddings, truelabels, truelabel_embeddings):\n",
    "  totalsim = 0\n",
    "  for sentence in elabels:\n",
    "    elabel_embedding = label_embeddings[elabels[sentence]]\n",
    "    truelabel_embedding = truelabel_embeddings[sentences.index(sentence)]\n",
    "    totalsim += similarity(elabel_embedding,truelabel_embedding)\n",
    "\n",
    "  #print(len(elabels),totalsim/len(elabels))\n",
    "  return totalsim/len(elabels)\n"
   ]
  },
  {
   "cell_type": "markdown",
   "metadata": {
    "id": "edlrVNvtlRPF"
   },
   "source": [
    "## GLEU"
   ]
  },
  {
   "cell_type": "code",
   "execution_count": 9,
   "metadata": {
    "colab": {
     "base_uri": "https://localhost:8080/"
    },
    "executionInfo": {
     "elapsed": 4759,
     "status": "ok",
     "timestamp": 1718460935123,
     "user": {
      "displayName": "Jiyi Li",
      "userId": "12552177904401594396"
     },
     "user_tz": -540
    },
    "id": "YFqsU43l0OF9",
    "outputId": "316f086e-cb87-4cfe-9581-c8aed400d51b"
   },
   "outputs": [
    {
     "name": "stderr",
     "output_type": "stream",
     "text": [
      "[nltk_data] Downloading package punkt to /root/nltk_data...\n",
      "[nltk_data]   Unzipping tokenizers/punkt.zip.\n"
     ]
    }
   ],
   "source": [
    "import nltk\n",
    "import nltk.translate.gleu_score as gleu\n",
    "\n",
    "try:\n",
    "  nltk.data.find('tokenizers/punkt')\n",
    "except LookupError:\n",
    "  nltk.download('punkt')\n",
    "\n",
    "def evaluationbyGLEU(sentences, labels, elabelidxs, truelabels):\n",
    "  n = len(sentences)\n",
    "  sim = 0\n",
    "  for i in range(n):\n",
    "    sentence = sentences[i]\n",
    "    labelidx = elabelidxs[sentence]\n",
    "    label = labels[labelidx]\n",
    "    truelabel = truelabels[sentence]\n",
    "    sim += gleu.sentence_gleu([truelabel.split()], label.split())\n",
    "  #print(n,sim/n)\n",
    "  return sim/n"
   ]
  },
  {
   "cell_type": "markdown",
   "metadata": {
    "id": "tIeC7xA8X0ZD"
   },
   "source": [
    "## METEOR"
   ]
  },
  {
   "cell_type": "code",
   "execution_count": 10,
   "metadata": {
    "colab": {
     "base_uri": "https://localhost:8080/"
    },
    "executionInfo": {
     "elapsed": 442,
     "status": "ok",
     "timestamp": 1718460935559,
     "user": {
      "displayName": "Jiyi Li",
      "userId": "12552177904401594396"
     },
     "user_tz": -540
    },
    "id": "VmeYv0HnXzYt",
    "outputId": "466ee07b-c34c-4f18-b147-2c9b8c48b387"
   },
   "outputs": [
    {
     "name": "stderr",
     "output_type": "stream",
     "text": [
      "[nltk_data] Downloading package wordnet to /root/nltk_data...\n"
     ]
    }
   ],
   "source": [
    "import nltk\n",
    "import nltk.translate.meteor_score as meteor\n",
    "\n",
    "try:\n",
    "  nltk.data.find('tokenizers/punkt')\n",
    "except LookupError:\n",
    "  nltk.download('punkt')\n",
    "\n",
    "try:\n",
    "  nltk.data.find('wordnet')\n",
    "except LookupError:\n",
    "  nltk.download('wordnet')\n",
    "\n",
    "def evaluationbyMETEOR(sentences, labels, elabelidxs, truelabels):\n",
    "  n = len(sentences)\n",
    "  sim = 0\n",
    "  for i in range(n):\n",
    "    sentence = sentences[i]\n",
    "    labelidx = elabelidxs[sentence]\n",
    "    label = labels[labelidx]\n",
    "    truelabel = truelabels[sentence]\n",
    "    sim += meteor.meteor_score([truelabel.split()], label.split())\n",
    "  #print(n,sim/n)\n",
    "  return sim/n"
   ]
  },
  {
   "cell_type": "markdown",
   "metadata": {
    "id": "qe7P3aGepwFf"
   },
   "source": [
    "# Figures in Exploration Study"
   ]
  },
  {
   "cell_type": "markdown",
   "metadata": {
    "id": "vnDF1OBKS8Fa"
   },
   "source": [
    "## Embedding Functions"
   ]
  },
  {
   "cell_type": "markdown",
   "metadata": {
    "id": "dhrP6utuTAEP"
   },
   "source": [
    "### Worker Reliability"
   ]
  },
  {
   "cell_type": "code",
   "execution_count": 11,
   "metadata": {
    "executionInfo": {
     "elapsed": 6,
     "status": "ok",
     "timestamp": 1718460935559,
     "user": {
      "displayName": "Jiyi Li",
      "userId": "12552177904401594396"
     },
     "user_tz": -540
    },
    "id": "k-DJB9XDglZF"
   },
   "outputs": [],
   "source": [
    "def WorkerReliabilityEmbedding(workers, sentences, wlabelidlists, wsentenceidlists, label_embeddings, truelabel_embeddings):\n",
    "  w_num = len(workers)\n",
    "  reliability = np.zeros(w_num)\n",
    "  s_num = len(sentences)\n",
    "\n",
    "  # compute reliability\n",
    "  for j in range(w_num):\n",
    "    worker = workers[j]\n",
    "    wtruelabel_embeddings = truelabel_embeddings[wsentenceidlists[worker]]\n",
    "    wlabelidlist = wlabelidlists[worker]\n",
    "    wlabel_embeddings = label_embeddings[wlabelidlist]\n",
    "\n",
    "    nw = len(wlabel_embeddings)\n",
    "    totalsim = 0\n",
    "    for i in range(nw):\n",
    "      elabel_embedding = wlabel_embeddings[i]\n",
    "      truelabel_embedding = wtruelabel_embeddings[i]\n",
    "      totalsim += similarity(elabel_embedding,truelabel_embedding)\n",
    "    reliability[j] = totalsim / nw\n",
    "\n",
    "  return reliability\n",
    "\n",
    "def DatasetWorkerReliabilityEmbedding(labelfilename,gtfilename):\n",
    "  (workers,sentences,swlabels,truelabels) = loaddata(labelfilename,gtfilename)\n",
    "  (labellist,slabelidlists,sworkeridlists,wlabelidlists,wsentenceidlists) = labelformatconversion(workers,sentences,swlabels)\n",
    "  (truelabellist) = truelabelformatonversion(sentences,truelabels)\n",
    "\n",
    "  #embed = hub.Module(module_url)\n",
    "  embed = hub.load(module_url)\n",
    "  tf.logging.set_verbosity(tf.logging.ERROR)\n",
    "  with tf.Session() as session:\n",
    "    session.run([tf.global_variables_initializer(), tf.tables_initializer()])\n",
    "    label_embeddings = session.run(embed(labellist))\n",
    "  with tf.Session() as session:\n",
    "    session.run([tf.global_variables_initializer(), tf.tables_initializer()])\n",
    "    truelabel_embeddings = session.run(embed(truelabellist))\n",
    "\n",
    "  workerreliability = WorkerReliabilityEmbedding(workers, sentences, wlabelidlists, wsentenceidlists, label_embeddings, truelabel_embeddings)\n",
    "\n",
    "  return workerreliability\n"
   ]
  },
  {
   "cell_type": "markdown",
   "metadata": {
    "id": "YAvGqi_2qaei"
   },
   "source": [
    "### Question Reliability"
   ]
  },
  {
   "cell_type": "code",
   "execution_count": 12,
   "metadata": {
    "executionInfo": {
     "elapsed": 5,
     "status": "ok",
     "timestamp": 1718460935559,
     "user": {
      "displayName": "Jiyi Li",
      "userId": "12552177904401594396"
     },
     "user_tz": -540
    },
    "id": "LqMu1WkRqdB3"
   },
   "outputs": [],
   "source": [
    "def QuestionReliabilityEmbedding(sentences, slabelidlists, label_embeddings, truelabel_embeddings):\n",
    "  reliability = np.zeros(len(sentences))\n",
    "  for i in range(len(sentences)):\n",
    "    sentence = sentences[i]\n",
    "    truelabel_embedding = truelabel_embeddings[sentences.index(sentence)]\n",
    "    slabel_embeddings = label_embeddings[slabelidlists[sentence]]\n",
    "    ns = len(slabel_embeddings)\n",
    "    sim = 0\n",
    "    for k in range(ns):\n",
    "      label_embedding = slabel_embeddings[k]\n",
    "      sim += similarity(label_embedding,truelabel_embedding)\n",
    "    reliability[i] = sim / ns\n",
    "\n",
    "  return reliability\n",
    "\n",
    "def DatasetQuestionReliabilityEmbedding(labelfilename,gtfilename):\n",
    "  (workers,sentences,swlabels,truelabels) = loaddata(labelfilename,gtfilename)\n",
    "  (labellist,slabelidlists,sworkeridlists,wlabelidlists,wsentenceidlists) = labelformatconversion(workers,sentences,swlabels)\n",
    "  (truelabellist) = truelabelformatonversion(sentences,truelabels)\n",
    "\n",
    "  #embed = hub.Module(module_url)\n",
    "  embed = hub.load(module_url)\n",
    "  tf.logging.set_verbosity(tf.logging.ERROR)\n",
    "  with tf.Session() as session:\n",
    "    session.run([tf.global_variables_initializer(), tf.tables_initializer()])\n",
    "    label_embeddings = session.run(embed(labellist))\n",
    "  with tf.Session() as session:\n",
    "    session.run([tf.global_variables_initializer(), tf.tables_initializer()])\n",
    "    truelabel_embeddings = session.run(embed(truelabellist))\n",
    "\n",
    "  questionreliability = QuestionReliabilityEmbedding(sentences, slabelidlists, label_embeddings, truelabel_embeddings)\n",
    "\n",
    "  return questionreliability"
   ]
  },
  {
   "cell_type": "code",
   "execution_count": 13,
   "metadata": {
    "executionInfo": {
     "elapsed": 5,
     "status": "ok",
     "timestamp": 1718460935559,
     "user": {
      "displayName": "Jiyi Li",
      "userId": "12552177904401594396"
     },
     "user_tz": -540
    },
    "id": "1Siy74lCHYVN"
   },
   "outputs": [],
   "source": [
    "def QuestionReliabilityEmbeddingInter(sentences, slabelidlists, label_embeddings, truelabel_embeddings):\n",
    "  reliability = np.zeros(len(sentences))\n",
    "  for i in range(len(sentences)):\n",
    "    sentence = sentences[i]\n",
    "    truelabel_embedding = truelabel_embeddings[sentences.index(sentence)]\n",
    "    slabel_embeddings = label_embeddings[slabelidlists[sentence]]\n",
    "    ns = len(slabel_embeddings)\n",
    "    sim = 0\n",
    "    count = 0\n",
    "    for k1 in range(ns):\n",
    "      label1_embedding = slabel_embeddings[k1]\n",
    "      for k2 in range(k1+1,ns):\n",
    "        label2_embedding = slabel_embeddings[k2]\n",
    "        sim += similarity(label2_embedding,label1_embedding)\n",
    "        count += 1\n",
    "    reliability[i] = sim / count\n",
    "\n",
    "  return reliability\n",
    "\n",
    "def DatasetQuestionReliabilityEmbeddingInter(labelfilename,gtfilename):\n",
    "  (workers,sentences,swlabels,truelabels) = loaddata(labelfilename,gtfilename)\n",
    "  (labellist,slabelidlists,sworkeridlists,wlabelidlists,wsentenceidlists) = labelformatconversion(workers,sentences,swlabels)\n",
    "  (truelabellist) = truelabelformatonversion(sentences,truelabels)\n",
    "\n",
    "  #embed = hub.Module(module_url)\n",
    "  embed = hub.load(module_url)\n",
    "  tf.logging.set_verbosity(tf.logging.ERROR)\n",
    "  with tf.Session() as session:\n",
    "    session.run([tf.global_variables_initializer(), tf.tables_initializer()])\n",
    "    label_embeddings = session.run(embed(labellist))\n",
    "  with tf.Session() as session:\n",
    "    session.run([tf.global_variables_initializer(), tf.tables_initializer()])\n",
    "    truelabel_embeddings = session.run(embed(truelabellist))\n",
    "\n",
    "  questionreliability = QuestionReliabilityEmbeddingInter(sentences, slabelidlists, label_embeddings, truelabel_embeddings)\n",
    "\n",
    "  return questionreliability"
   ]
  },
  {
   "cell_type": "markdown",
   "metadata": {
    "id": "4fWI05-NEIej"
   },
   "source": [
    "##GLEU Functions"
   ]
  },
  {
   "cell_type": "markdown",
   "metadata": {
    "id": "g6HojDdOExG8"
   },
   "source": [
    "### Worker GLEU"
   ]
  },
  {
   "cell_type": "code",
   "execution_count": 14,
   "metadata": {
    "executionInfo": {
     "elapsed": 4,
     "status": "ok",
     "timestamp": 1718460935559,
     "user": {
      "displayName": "Jiyi Li",
      "userId": "12552177904401594396"
     },
     "user_tz": -540
    },
    "id": "Q7HRz8YgEwki"
   },
   "outputs": [],
   "source": [
    "def WorkerReliabilityGLEU(workers, sentences, wlabelidlists, wsentenceidlists, labels, truelabels):\n",
    "  w_num = len(workers)\n",
    "  reliability = np.zeros(w_num)\n",
    "  s_num = len(sentences)\n",
    "\n",
    "  for j in range(w_num):\n",
    "    worker = workers[j]\n",
    "    wtruelabels = truelabels[wsentenceidlists[worker]]\n",
    "    wlabelidlist = wlabelidlists[worker]\n",
    "    wlabels = labels[wlabelidlist]\n",
    "\n",
    "    nw = len(wlabels)\n",
    "    totalsim = 0\n",
    "    for i in range(nw):\n",
    "      label = wlabels[i]\n",
    "      truelabel = wtruelabels[i]\n",
    "      totalsim += gleu.sentence_gleu([truelabel.split()], label.split())\n",
    "    reliability[j] = totalsim / nw\n",
    "\n",
    "  return reliability"
   ]
  },
  {
   "cell_type": "markdown",
   "metadata": {
    "id": "j1FVmYNUF4Hj"
   },
   "source": [
    "###Question GLEU"
   ]
  },
  {
   "cell_type": "code",
   "execution_count": 15,
   "metadata": {
    "executionInfo": {
     "elapsed": 5,
     "status": "ok",
     "timestamp": 1718460935560,
     "user": {
      "displayName": "Jiyi Li",
      "userId": "12552177904401594396"
     },
     "user_tz": -540
    },
    "id": "CkwdJ5ALF6gl"
   },
   "outputs": [],
   "source": [
    "def QuestionReliabilityGLEU(sentences, slabelidlists, labels, truelabels):\n",
    "  reliability = np.zeros(len(sentences))\n",
    "  for i in range(len(sentences)):\n",
    "    sentence = sentences[i]\n",
    "    truelabel = truelabels[sentences.index(sentence)]\n",
    "    slabels = labels[slabelidlists[sentence]]\n",
    "    ns = len(slabels)\n",
    "    sim = 0\n",
    "    for k in range(ns):\n",
    "      label = slabels[k]\n",
    "      sim += gleu.sentence_gleu([truelabel.split()], label.split())\n",
    "    reliability[i] = sim / ns\n",
    "\n",
    "  return reliability"
   ]
  },
  {
   "cell_type": "code",
   "execution_count": 16,
   "metadata": {
    "executionInfo": {
     "elapsed": 5,
     "status": "ok",
     "timestamp": 1718460935560,
     "user": {
      "displayName": "Jiyi Li",
      "userId": "12552177904401594396"
     },
     "user_tz": -540
    },
    "id": "D4qB6DED2wjL"
   },
   "outputs": [],
   "source": [
    "def QuestionReliabilityGLEUVec(sentences, slabelidlists, labels, truelabels):\n",
    "  reliabilityvec = np.zeros((len(sentences),len(labels[slabelidlists[sentences[0]]])))\n",
    "  for i in range(len(sentences)):\n",
    "    sentence = sentences[i]\n",
    "    truelabel = truelabels[sentences.index(sentence)]\n",
    "    slabels = labels[slabelidlists[sentence]]\n",
    "    ns = len(slabels)\n",
    "    sim = 0\n",
    "    for k in range(ns):\n",
    "      label = slabels[k]\n",
    "      #sim += gleu.sentence_gleu([truelabel.split()], label.split())\n",
    "      reliabilityvec[i][k] = gleu.sentence_gleu([truelabel.split()], label.split())\n",
    "\n",
    "  return reliabilityvec"
   ]
  },
  {
   "cell_type": "code",
   "execution_count": 17,
   "metadata": {
    "executionInfo": {
     "elapsed": 5,
     "status": "ok",
     "timestamp": 1718460935560,
     "user": {
      "displayName": "Jiyi Li",
      "userId": "12552177904401594396"
     },
     "user_tz": -540
    },
    "id": "U4Ts0vNaEPEG"
   },
   "outputs": [],
   "source": [
    "def QuestionReliabilityGLEUInter(sentences, slabelidlists, labels, truelabels):\n",
    "  reliabilityInter = np.zeros(len(sentences))\n",
    "  for i in range(len(sentences)):\n",
    "    sentence = sentences[i]\n",
    "    truelabel = truelabels[sentences.index(sentence)]\n",
    "    slabels = labels[slabelidlists[sentence]]\n",
    "    ns = len(slabels)\n",
    "    sim = 0\n",
    "    count = 0\n",
    "    for k1 in range(ns):\n",
    "      label1 = slabels[k1]\n",
    "      for k2 in range(k1+1,ns):\n",
    "        label2 = slabels[k2]\n",
    "        sim += gleu.sentence_gleu([label1.split()], label2.split())\n",
    "        count += 1\n",
    "    reliabilityInter[i] = sim / count\n",
    "\n",
    "  return reliabilityInter"
   ]
  },
  {
   "cell_type": "markdown",
   "metadata": {
    "id": "JqDnlUFXZXHA"
   },
   "source": [
    "## METEOR Functions"
   ]
  },
  {
   "cell_type": "markdown",
   "metadata": {
    "id": "rcnwbKULZans"
   },
   "source": [
    "### Worker METEOR"
   ]
  },
  {
   "cell_type": "code",
   "execution_count": 18,
   "metadata": {
    "executionInfo": {
     "elapsed": 5,
     "status": "ok",
     "timestamp": 1718460935560,
     "user": {
      "displayName": "Jiyi Li",
      "userId": "12552177904401594396"
     },
     "user_tz": -540
    },
    "id": "CNHeJ5gfZtEt"
   },
   "outputs": [],
   "source": [
    "def WorkerReliabilityMETEOR(workers, sentences, wlabelidlists, wsentenceidlists, labels, truelabels):\n",
    "  w_num = len(workers)\n",
    "  reliability = np.zeros(w_num)\n",
    "  s_num = len(sentences)\n",
    "\n",
    "  for j in range(w_num):\n",
    "    worker = workers[j]\n",
    "    wtruelabels = truelabels[wsentenceidlists[worker]]\n",
    "    wlabelidlist = wlabelidlists[worker]\n",
    "    wlabels = labels[wlabelidlist]\n",
    "\n",
    "    nw = len(wlabels)\n",
    "    totalsim = 0\n",
    "    for i in range(nw):\n",
    "      label = wlabels[i]\n",
    "      truelabel = wtruelabels[i]\n",
    "      totalsim += meteor.meteor_score([truelabel.split()], label.split())\n",
    "    reliability[j] = totalsim / nw\n",
    "\n",
    "  return reliability"
   ]
  },
  {
   "cell_type": "markdown",
   "metadata": {
    "id": "m4rRosZeZap6"
   },
   "source": [
    "### Question METEOR"
   ]
  },
  {
   "cell_type": "code",
   "execution_count": 19,
   "metadata": {
    "executionInfo": {
     "elapsed": 4,
     "status": "ok",
     "timestamp": 1718460935560,
     "user": {
      "displayName": "Jiyi Li",
      "userId": "12552177904401594396"
     },
     "user_tz": -540
    },
    "id": "f0NikVziaAIP"
   },
   "outputs": [],
   "source": [
    "def QuestionReliabilityMETEOR(sentences, slabelidlists, labels, truelabels):\n",
    "  reliability = np.zeros(len(sentences))\n",
    "  for i in range(len(sentences)):\n",
    "    sentence = sentences[i]\n",
    "    truelabel = truelabels[sentences.index(sentence)]\n",
    "    slabels = labels[slabelidlists[sentence]]\n",
    "    ns = len(slabels)\n",
    "    sim = 0\n",
    "    for k in range(ns):\n",
    "      label = slabels[k]\n",
    "      sim += meteor.meteor_score([truelabel.split()], label.split())\n",
    "    reliability[i] = sim / ns\n",
    "\n",
    "  return reliability"
   ]
  },
  {
   "cell_type": "code",
   "execution_count": 20,
   "metadata": {
    "executionInfo": {
     "elapsed": 4,
     "status": "ok",
     "timestamp": 1718460935560,
     "user": {
      "displayName": "Jiyi Li",
      "userId": "12552177904401594396"
     },
     "user_tz": -540
    },
    "id": "S1c16nURGQL4"
   },
   "outputs": [],
   "source": [
    "def QuestionReliabilityMETEORInter(sentences, slabelidlists, labels, truelabels):\n",
    "  reliability = np.zeros(len(sentences))\n",
    "  for i in range(len(sentences)):\n",
    "    sentence = sentences[i]\n",
    "    truelabel = truelabels[sentences.index(sentence)]\n",
    "    slabels = labels[slabelidlists[sentence]]\n",
    "    ns = len(slabels)\n",
    "    sim = 0\n",
    "    count = 0\n",
    "    for k1 in range(ns):\n",
    "      label1 = slabels[k1]\n",
    "      for k2 in range(k1+1,ns):\n",
    "        label2 = slabels[k2]\n",
    "        sim += meteor.meteor_score([label1.split()], label2.split())\n",
    "        count += 1\n",
    "    reliability[i] = sim / count\n",
    "\n",
    "  return reliability"
   ]
  },
  {
   "cell_type": "markdown",
   "metadata": {
    "id": "y9EfDOoy2N42"
   },
   "source": [
    "## Crowd Only"
   ]
  },
  {
   "cell_type": "markdown",
   "metadata": {
    "id": "eSgAd4uL2iza"
   },
   "source": [
    "### Embedding: Worker Reliability"
   ]
  },
  {
   "cell_type": "code",
   "execution_count": null,
   "metadata": {
    "colab": {
     "base_uri": "https://localhost:8080/"
    },
    "executionInfo": {
     "elapsed": 153691,
     "status": "ok",
     "timestamp": 1718118047326,
     "user": {
      "displayName": "Jiyi Li",
      "userId": "12552177904401594396"
     },
     "user_tz": -540
    },
    "id": "vDW7voR2HL50",
    "outputId": "a9482fea-81e9-427e-e6ed-2e78ba9ebcc2"
   },
   "outputs": [
    {
     "name": "stdout",
     "output_type": "stream",
     "text": [
      "[0.42331745848059654, 0.582691141217947, 0.4725991182029247]\n",
      "[0.6619557306348586, 0.7260422321414901, 0.7076946570262197]\n",
      "[0.8794819871584575, 0.9043441876769066, 0.895806810259819]\n",
      "[0.06872838692431518, 0.06870664661190475, 0.08609710281500424]\n"
     ]
    }
   ],
   "source": [
    "# J1\n",
    "labelfilename = folder + 'CrowdWSA2019_J1_label_anonymous.tsv'\n",
    "gtfilename = folder + 'CrowdWSA2019_J1_gt.tsv'\n",
    "j1workerreliability = DatasetWorkerReliabilityEmbedding(labelfilename,gtfilename)\n",
    "\n",
    "# T1\n",
    "labelfilename = folder + 'CrowdWSA2019_T1_label_anonymous.tsv'\n",
    "gtfilename = folder + 'CrowdWSA2019_T1_gt.tsv'\n",
    "t1workerreliability = DatasetWorkerReliabilityEmbedding(labelfilename,gtfilename)\n",
    "\n",
    "# T2\n",
    "labelfilename = folder + 'CrowdWSA2019_T2_label_anonymous.tsv'\n",
    "gtfilename = folder + 'CrowdWSA2019_T2_gt.tsv'\n",
    "t2workerreliability = DatasetWorkerReliabilityEmbedding(labelfilename,gtfilename)\n",
    "\n",
    "print([np.min(j1workerreliability),np.min(t1workerreliability),np.min(t2workerreliability)])\n",
    "print([np.mean(j1workerreliability),np.mean(t1workerreliability),np.mean(t2workerreliability)])\n",
    "print([np.max(j1workerreliability),np.max(t1workerreliability),np.max(t2workerreliability)])\n",
    "print([np.std(j1workerreliability),np.std(t1workerreliability),np.std(t2workerreliability)])"
   ]
  },
  {
   "cell_type": "markdown",
   "metadata": {
    "id": "tzrOzmzf2lhL"
   },
   "source": [
    "### Embedding: Question Reliability"
   ]
  },
  {
   "cell_type": "code",
   "execution_count": null,
   "metadata": {
    "colab": {
     "base_uri": "https://localhost:8080/"
    },
    "executionInfo": {
     "elapsed": 130566,
     "status": "ok",
     "timestamp": 1718153953250,
     "user": {
      "displayName": "Jiyi Li",
      "userId": "12552177904401594396"
     },
     "user_tz": -540
    },
    "id": "MV7O-WqaaYdX",
    "outputId": "6eebf146-b41f-4bfc-c889-2bd4e3e07f44"
   },
   "outputs": [
    {
     "name": "stdout",
     "output_type": "stream",
     "text": [
      "[0.3222570225596428, 0.12638154476881028, 0.12064819484949112]\n",
      "[0.673164767403735, 0.7244636745974421, 0.7104700366854666]\n",
      "[0.9459681451320648, 0.9583230137825012, 0.9546079635620117]\n",
      "[0.11685931751027732, 0.1314015847056896, 0.13862285350346543]\n"
     ]
    }
   ],
   "source": [
    "# J1\n",
    "labelfilename = folder + 'CrowdWSA2019_J1_label_anonymous.tsv'\n",
    "gtfilename = folder + 'CrowdWSA2019_J1_gt.tsv'\n",
    "j1questionreliability = DatasetQuestionReliabilityEmbedding(labelfilename,gtfilename)\n",
    "\n",
    "# T1\n",
    "labelfilename = folder + 'CrowdWSA2019_T1_label_anonymous.tsv'\n",
    "gtfilename = folder + 'CrowdWSA2019_T1_gt.tsv'\n",
    "t1questionreliability = DatasetQuestionReliabilityEmbedding(labelfilename,gtfilename)\n",
    "\n",
    "# T2\n",
    "labelfilename = folder + 'CrowdWSA2019_T2_label_anonymous.tsv'\n",
    "gtfilename = folder + 'CrowdWSA2019_T2_gt.tsv'\n",
    "t2questionreliability = DatasetQuestionReliabilityEmbedding(labelfilename,gtfilename)\n",
    "\n",
    "print([np.min(j1questionreliability),np.min(t1questionreliability),np.min(t2questionreliability)])\n",
    "print([np.mean(j1questionreliability),np.mean(t1questionreliability),np.mean(t2questionreliability)])\n",
    "print([np.max(j1questionreliability),np.max(t1questionreliability),np.max(t2questionreliability)])\n",
    "print([np.std(j1questionreliability),np.std(t1questionreliability),np.std(t2questionreliability)])"
   ]
  },
  {
   "cell_type": "code",
   "execution_count": null,
   "metadata": {
    "colab": {
     "base_uri": "https://localhost:8080/"
    },
    "executionInfo": {
     "elapsed": 205967,
     "status": "ok",
     "timestamp": 1718459191451,
     "user": {
      "displayName": "Jiyi Li",
      "userId": "12552177904401594396"
     },
     "user_tz": -540
    },
    "id": "Uq8SCfCWH3_N",
    "outputId": "f0a468ca-cc73-4aba-aefc-a6c68aa4558c"
   },
   "outputs": [
    {
     "name": "stdout",
     "output_type": "stream",
     "text": [
      "Inter-Annotator Agreement\n",
      "[0.6582932666982628, 0.7251615675522224, 0.7060259345790577]\n"
     ]
    }
   ],
   "source": [
    "# J1\n",
    "labelfilename = folder + 'CrowdWSA2019_J1_label_anonymous.tsv'\n",
    "gtfilename = folder + 'CrowdWSA2019_J1_gt.tsv'\n",
    "j1questionreliability = DatasetQuestionReliabilityEmbeddingInter(labelfilename,gtfilename)\n",
    "\n",
    "# T1\n",
    "labelfilename = folder + 'CrowdWSA2019_T1_label_anonymous.tsv'\n",
    "gtfilename = folder + 'CrowdWSA2019_T1_gt.tsv'\n",
    "t1questionreliability = DatasetQuestionReliabilityEmbeddingInter(labelfilename,gtfilename)\n",
    "\n",
    "# T2\n",
    "labelfilename = folder + 'CrowdWSA2019_T2_label_anonymous.tsv'\n",
    "gtfilename = folder + 'CrowdWSA2019_T2_gt.tsv'\n",
    "t2questionreliability = DatasetQuestionReliabilityEmbeddingInter(labelfilename,gtfilename)\n",
    "\n",
    "print('Inter-Annotator Agreement')\n",
    "print([np.mean(j1questionreliability),np.mean(t1questionreliability),np.mean(t2questionreliability)])"
   ]
  },
  {
   "cell_type": "markdown",
   "metadata": {
    "id": "FRAZlo6X2fG6"
   },
   "source": [
    "### Worker GLEU"
   ]
  },
  {
   "cell_type": "code",
   "execution_count": null,
   "metadata": {
    "colab": {
     "base_uri": "https://localhost:8080/"
    },
    "executionInfo": {
     "elapsed": 731,
     "status": "ok",
     "timestamp": 1718118048781,
     "user": {
      "displayName": "Jiyi Li",
      "userId": "12552177904401594396"
     },
     "user_tz": -540
    },
    "id": "chhUDk17bzrs",
    "outputId": "c6fe9e6a-6fdd-4e07-cbbd-5844e1520059"
   },
   "outputs": [
    {
     "name": "stdout",
     "output_type": "stream",
     "text": [
      "[0.07237291780635434, 0.06686639236772593, 0.050281626104241105]\n",
      "[0.1868012686336684, 0.17641370367716142, 0.17155530496426646]\n",
      "[0.5948484393066437, 0.5533564345646725, 0.4540110583805842]\n",
      "[0.09150140354861402, 0.08176752140395627, 0.08381023328768089]\n"
     ]
    }
   ],
   "source": [
    "# J1\n",
    "labelfilename = folder + 'CrowdWSA2019_J1_label_anonymous.tsv'\n",
    "gtfilename = folder + 'CrowdWSA2019_J1_gt.tsv'\n",
    "\n",
    "(workers,sentences,swlabels,truelabels) = loaddata(labelfilename,gtfilename)\n",
    "(labellist,slabelidlists,sworkeridlists,wlabelidlists,wsentenceidlists) = labelformatconversion(workers,sentences,swlabels)\n",
    "(truelabellist) = truelabelformatonversion(sentences,truelabels)\n",
    "\n",
    "reliability = WorkerReliabilityGLEU(workers, sentences, wlabelidlists, wsentenceidlists, np.asarray(labellist), np.asarray(truelabellist))\n",
    "j1workergleu = reliability\n",
    "\n",
    "# T1\n",
    "labelfilename = folder + 'CrowdWSA2019_T1_label_anonymous.tsv'\n",
    "gtfilename = folder + 'CrowdWSA2019_T1_gt.tsv'\n",
    "\n",
    "(workers,sentences,swlabels,truelabels) = loaddata(labelfilename,gtfilename)\n",
    "(labellist,slabelidlists,sworkeridlists,wlabelidlists,wsentenceidlists) = labelformatconversion(workers,sentences,swlabels)\n",
    "(truelabellist) = truelabelformatonversion(sentences,truelabels)\n",
    "\n",
    "reliability = WorkerReliabilityGLEU(workers, sentences, wlabelidlists, wsentenceidlists, np.asarray(labellist), np.asarray(truelabellist))\n",
    "t1workergleu = reliability\n",
    "\n",
    "# T2\n",
    "labelfilename = folder + 'CrowdWSA2019_T2_label_anonymous.tsv'\n",
    "gtfilename = folder + 'CrowdWSA2019_T2_gt.tsv'\n",
    "\n",
    "(workers,sentences,swlabels,truelabels) = loaddata(labelfilename,gtfilename)\n",
    "(labellist,slabelidlists,sworkeridlists,wlabelidlists,wsentenceidlists) = labelformatconversion(workers,sentences,swlabels)\n",
    "(truelabellist) = truelabelformatonversion(sentences,truelabels)\n",
    "\n",
    "reliability = WorkerReliabilityGLEU(workers, sentences, wlabelidlists, wsentenceidlists, np.asarray(labellist), np.asarray(truelabellist))\n",
    "t2workergleu = reliability\n",
    "\n",
    "print([np.min(j1workergleu),np.min(t1workergleu),np.min(t2workergleu)])\n",
    "print([np.mean(j1workergleu),np.mean(t1workergleu),np.mean(t2workergleu)])\n",
    "print([np.max(j1workergleu),np.max(t1workergleu),np.max(t2workergleu)])\n",
    "print([np.std(j1workergleu),np.std(t1workergleu),np.std(t2workergleu)])"
   ]
  },
  {
   "cell_type": "markdown",
   "metadata": {
    "id": "8h9_OBBT2Vi8"
   },
   "source": [
    "###Question GLEU"
   ]
  },
  {
   "cell_type": "code",
   "execution_count": null,
   "metadata": {
    "colab": {
     "base_uri": "https://localhost:8080/"
    },
    "executionInfo": {
     "elapsed": 413,
     "status": "ok",
     "timestamp": 1718153953652,
     "user": {
      "displayName": "Jiyi Li",
      "userId": "12552177904401594396"
     },
     "user_tz": -540
    },
    "id": "UDHOPL06cG_M",
    "outputId": "8cef3f47-c165-4f3d-90bd-b57055909d0c"
   },
   "outputs": [
    {
     "name": "stdout",
     "output_type": "stream",
     "text": [
      "[0.006535947712418301, 0.006521739130434782, 0.009523809523809523]\n",
      "[0.1929833036876219, 0.17403443483987385, 0.16158265928021784]\n",
      "[0.6590909090909091, 0.4725563909774436, 0.4384761904761906]\n",
      "[0.1008622248193353, 0.09880973187901006, 0.09119787478836808]\n"
     ]
    }
   ],
   "source": [
    "# J1\n",
    "labelfilename = folder + 'CrowdWSA2019_J1_label_anonymous.tsv'\n",
    "gtfilename = folder + 'CrowdWSA2019_J1_gt.tsv'\n",
    "\n",
    "(workers,sentences,swlabels,truelabels) = loaddata(labelfilename,gtfilename)\n",
    "(labellist,slabelidlists,sworkeridlists,wlabelidlists,wsentenceidlists) = labelformatconversion(workers,sentences,swlabels)\n",
    "(truelabellist) = truelabelformatonversion(sentences,truelabels)\n",
    "\n",
    "quality = QuestionReliabilityGLEU(sentences, slabelidlists, np.asarray(labellist), np.asarray(truelabellist))\n",
    "j1questiongleu = quality\n",
    "\n",
    "# T1\n",
    "labelfilename = folder + 'CrowdWSA2019_T1_label_anonymous.tsv'\n",
    "gtfilename = folder + 'CrowdWSA2019_T1_gt.tsv'\n",
    "\n",
    "(workers,sentences,swlabels,truelabels) = loaddata(labelfilename,gtfilename)\n",
    "(labellist,slabelidlists,sworkeridlists,wlabelidlists,wsentenceidlists) = labelformatconversion(workers,sentences,swlabels)\n",
    "(truelabellist) = truelabelformatonversion(sentences,truelabels)\n",
    "\n",
    "quality = QuestionReliabilityGLEU(sentences, slabelidlists, np.asarray(labellist), np.asarray(truelabellist))\n",
    "t1questiongleu = quality\n",
    "\n",
    "# T2\n",
    "labelfilename = folder + 'CrowdWSA2019_T2_label_anonymous.tsv'\n",
    "gtfilename = folder + 'CrowdWSA2019_T2_gt.tsv'\n",
    "\n",
    "(workers,sentences,swlabels,truelabels) = loaddata(labelfilename,gtfilename)\n",
    "(labellist,slabelidlists,sworkeridlists,wlabelidlists,wsentenceidlists) = labelformatconversion(workers,sentences,swlabels)\n",
    "(truelabellist) = truelabelformatonversion(sentences,truelabels)\n",
    "\n",
    "quality = QuestionReliabilityGLEU(sentences, slabelidlists, np.asarray(labellist), np.asarray(truelabellist))\n",
    "t2questiongleu = quality\n",
    "\n",
    "print([np.min(j1questiongleu),np.min(t1questiongleu),np.min(t2questiongleu)])\n",
    "print([np.mean(j1questiongleu),np.mean(t1questiongleu),np.mean(t2questiongleu)])\n",
    "print([np.max(j1questiongleu),np.max(t1questiongleu),np.max(t2questiongleu)])\n",
    "print([np.std(j1questiongleu),np.std(t1questiongleu),np.std(t2questiongleu)])"
   ]
  },
  {
   "cell_type": "code",
   "execution_count": null,
   "metadata": {
    "colab": {
     "base_uri": "https://localhost:8080/"
    },
    "executionInfo": {
     "elapsed": 4434,
     "status": "ok",
     "timestamp": 1718458198119,
     "user": {
      "displayName": "Jiyi Li",
      "userId": "12552177904401594396"
     },
     "user_tz": -540
    },
    "id": "Rz_JEqpWFWOp",
    "outputId": "6e51aa2d-1607-4fb6-ec6e-e796808eb58b"
   },
   "outputs": [
    {
     "name": "stdout",
     "output_type": "stream",
     "text": [
      "Inter-Annotator Agreement\n",
      "[0.17984577986538539, 0.25332925704032905, 0.2376583436883194]\n"
     ]
    }
   ],
   "source": [
    "# J1\n",
    "labelfilename = folder + 'CrowdWSA2019_J1_label_anonymous.tsv'\n",
    "gtfilename = folder + 'CrowdWSA2019_J1_gt.tsv'\n",
    "\n",
    "(workers,sentences,swlabels,truelabels) = loaddata(labelfilename,gtfilename)\n",
    "(labellist,slabelidlists,sworkeridlists,wlabelidlists,wsentenceidlists) = labelformatconversion(workers,sentences,swlabels)\n",
    "(truelabellist) = truelabelformatonversion(sentences,truelabels)\n",
    "\n",
    "quality = QuestionReliabilityGLEUInter(sentences, slabelidlists, np.asarray(labellist), np.asarray(truelabellist))\n",
    "j1questiongleu = quality\n",
    "\n",
    "# T1\n",
    "labelfilename = folder + 'CrowdWSA2019_T1_label_anonymous.tsv'\n",
    "gtfilename = folder + 'CrowdWSA2019_T1_gt.tsv'\n",
    "\n",
    "(workers,sentences,swlabels,truelabels) = loaddata(labelfilename,gtfilename)\n",
    "(labellist,slabelidlists,sworkeridlists,wlabelidlists,wsentenceidlists) = labelformatconversion(workers,sentences,swlabels)\n",
    "(truelabellist) = truelabelformatonversion(sentences,truelabels)\n",
    "\n",
    "quality = QuestionReliabilityGLEUInter(sentences, slabelidlists, np.asarray(labellist), np.asarray(truelabellist))\n",
    "t1questiongleu = quality\n",
    "\n",
    "# T2\n",
    "labelfilename = folder + 'CrowdWSA2019_T2_label_anonymous.tsv'\n",
    "gtfilename = folder + 'CrowdWSA2019_T2_gt.tsv'\n",
    "\n",
    "(workers,sentences,swlabels,truelabels) = loaddata(labelfilename,gtfilename)\n",
    "(labellist,slabelidlists,sworkeridlists,wlabelidlists,wsentenceidlists) = labelformatconversion(workers,sentences,swlabels)\n",
    "(truelabellist) = truelabelformatonversion(sentences,truelabels)\n",
    "\n",
    "quality = QuestionReliabilityGLEUInter(sentences, slabelidlists, np.asarray(labellist), np.asarray(truelabellist))\n",
    "t2questiongleu = quality\n",
    "\n",
    "print('Inter-Annotator Agreement')\n",
    "print([np.mean(j1questiongleu),np.mean(t1questiongleu),np.mean(t2questiongleu)])"
   ]
  },
  {
   "cell_type": "markdown",
   "metadata": {
    "id": "rKQTLC4daIxv"
   },
   "source": [
    "### Worker METEOR"
   ]
  },
  {
   "cell_type": "code",
   "execution_count": null,
   "metadata": {
    "colab": {
     "base_uri": "https://localhost:8080/"
    },
    "executionInfo": {
     "elapsed": 4441,
     "status": "ok",
     "timestamp": 1718118053221,
     "user": {
      "displayName": "Jiyi Li",
      "userId": "12552177904401594396"
     },
     "user_tz": -540
    },
    "id": "8YVLRHI-aocl",
    "outputId": "964a6477-3148-4c7c-dc89-33ee58a6f540"
   },
   "outputs": [
    {
     "name": "stdout",
     "output_type": "stream",
     "text": [
      "[0.2040843932501189, 0.17805898892215194, 0.15225078689455235]\n",
      "[0.37615897743650556, 0.3770760280922258, 0.3630198403684655]\n",
      "[0.7463835833007678, 0.7162633888123681, 0.647342194834532]\n",
      "[0.10373272152854734, 0.09868627015984659, 0.10101248149742166]\n"
     ]
    }
   ],
   "source": [
    "# J1\n",
    "labelfilename = folder + 'CrowdWSA2019_J1_label_anonymous.tsv'\n",
    "gtfilename = folder + 'CrowdWSA2019_J1_gt.tsv'\n",
    "\n",
    "(workers,sentences,swlabels,truelabels) = loaddata(labelfilename,gtfilename)\n",
    "(labellist,slabelidlists,sworkeridlists,wlabelidlists,wsentenceidlists) = labelformatconversion(workers,sentences,swlabels)\n",
    "(truelabellist) = truelabelformatonversion(sentences,truelabels)\n",
    "\n",
    "reliability = WorkerReliabilityMETEOR(workers, sentences, wlabelidlists, wsentenceidlists, np.asarray(labellist), np.asarray(truelabellist))\n",
    "j1workermeteor = reliability\n",
    "\n",
    "# T1\n",
    "labelfilename = folder + 'CrowdWSA2019_T1_label_anonymous.tsv'\n",
    "gtfilename = folder + 'CrowdWSA2019_T1_gt.tsv'\n",
    "\n",
    "(workers,sentences,swlabels,truelabels) = loaddata(labelfilename,gtfilename)\n",
    "(labellist,slabelidlists,sworkeridlists,wlabelidlists,wsentenceidlists) = labelformatconversion(workers,sentences,swlabels)\n",
    "(truelabellist) = truelabelformatonversion(sentences,truelabels)\n",
    "\n",
    "reliability = WorkerReliabilityMETEOR(workers, sentences, wlabelidlists, wsentenceidlists, np.asarray(labellist), np.asarray(truelabellist))\n",
    "t1workermeteor = reliability\n",
    "\n",
    "# T2\n",
    "labelfilename = folder + 'CrowdWSA2019_T2_label_anonymous.tsv'\n",
    "gtfilename = folder + 'CrowdWSA2019_T2_gt.tsv'\n",
    "\n",
    "(workers,sentences,swlabels,truelabels) = loaddata(labelfilename,gtfilename)\n",
    "(labellist,slabelidlists,sworkeridlists,wlabelidlists,wsentenceidlists) = labelformatconversion(workers,sentences,swlabels)\n",
    "(truelabellist) = truelabelformatonversion(sentences,truelabels)\n",
    "\n",
    "reliability = WorkerReliabilityMETEOR(workers, sentences, wlabelidlists, wsentenceidlists, np.asarray(labellist), np.asarray(truelabellist))\n",
    "t2workermeteor = reliability\n",
    "\n",
    "print([np.min(j1workermeteor),np.min(t1workermeteor),np.min(t2workermeteor)])\n",
    "print([np.mean(j1workermeteor),np.mean(t1workermeteor),np.mean(t2workermeteor)])\n",
    "print([np.max(j1workermeteor),np.max(t1workermeteor),np.max(t2workermeteor)])\n",
    "print([np.std(j1workermeteor),np.std(t1workermeteor),np.std(t2workermeteor)])"
   ]
  },
  {
   "cell_type": "markdown",
   "metadata": {
    "id": "NhwEBragbntv"
   },
   "source": [
    "### Question METEOR"
   ]
  },
  {
   "cell_type": "code",
   "execution_count": null,
   "metadata": {
    "colab": {
     "base_uri": "https://localhost:8080/"
    },
    "executionInfo": {
     "elapsed": 5586,
     "status": "ok",
     "timestamp": 1718153959236,
     "user": {
      "displayName": "Jiyi Li",
      "userId": "12552177904401594396"
     },
     "user_tz": -540
    },
    "id": "mI4o2zmzbqUc",
    "outputId": "1c1eb9da-2df9-41f2-c822-2ddbdd9be105"
   },
   "outputs": [
    {
     "name": "stdout",
     "output_type": "stream",
     "text": [
      "[0.057400309787111414, 0.015841769778777652, 0.030561754273594994]\n",
      "[0.3860552547481079, 0.3785616206179462, 0.36038552223904163]\n",
      "[0.8443340586752301, 0.7218620418700931, 0.6620051395112414]\n",
      "[0.14319194574220404, 0.1454309690357034, 0.13372475839451317]\n"
     ]
    }
   ],
   "source": [
    "# J1\n",
    "labelfilename = folder + 'CrowdWSA2019_J1_label_anonymous.tsv'\n",
    "gtfilename = folder + 'CrowdWSA2019_J1_gt.tsv'\n",
    "\n",
    "(workers,sentences,swlabels,truelabels) = loaddata(labelfilename,gtfilename)\n",
    "(labellist,slabelidlists,sworkeridlists,wlabelidlists,wsentenceidlists) = labelformatconversion(workers,sentences,swlabels)\n",
    "(truelabellist) = truelabelformatonversion(sentences,truelabels)\n",
    "\n",
    "quality = QuestionReliabilityMETEOR(sentences, slabelidlists, np.asarray(labellist), np.asarray(truelabellist))\n",
    "j1questionmeteor = quality\n",
    "\n",
    "# T1\n",
    "labelfilename = folder + 'CrowdWSA2019_T1_label_anonymous.tsv'\n",
    "gtfilename = folder + 'CrowdWSA2019_T1_gt.tsv'\n",
    "\n",
    "(workers,sentences,swlabels,truelabels) = loaddata(labelfilename,gtfilename)\n",
    "(labellist,slabelidlists,sworkeridlists,wlabelidlists,wsentenceidlists) = labelformatconversion(workers,sentences,swlabels)\n",
    "(truelabellist) = truelabelformatonversion(sentences,truelabels)\n",
    "\n",
    "quality = QuestionReliabilityMETEOR(sentences, slabelidlists, np.asarray(labellist), np.asarray(truelabellist))\n",
    "t1questionmeteor = quality\n",
    "\n",
    "# T2\n",
    "labelfilename = folder + 'CrowdWSA2019_T2_label_anonymous.tsv'\n",
    "gtfilename = folder + 'CrowdWSA2019_T2_gt.tsv'\n",
    "\n",
    "(workers,sentences,swlabels,truelabels) = loaddata(labelfilename,gtfilename)\n",
    "(labellist,slabelidlists,sworkeridlists,wlabelidlists,wsentenceidlists) = labelformatconversion(workers,sentences,swlabels)\n",
    "(truelabellist) = truelabelformatonversion(sentences,truelabels)\n",
    "\n",
    "quality = QuestionReliabilityMETEOR(sentences, slabelidlists, np.asarray(labellist), np.asarray(truelabellist))\n",
    "t2questionmeteor = quality\n",
    "\n",
    "print([np.min(j1questionmeteor),np.min(t1questionmeteor),np.min(t2questionmeteor)])\n",
    "print([np.mean(j1questionmeteor),np.mean(t1questionmeteor),np.mean(t2questionmeteor)])\n",
    "print([np.max(j1questionmeteor),np.max(t1questionmeteor),np.max(t2questionmeteor)])\n",
    "print([np.std(j1questionmeteor),np.std(t1questionmeteor),np.std(t2questionmeteor)])"
   ]
  },
  {
   "cell_type": "code",
   "execution_count": null,
   "metadata": {
    "colab": {
     "base_uri": "https://localhost:8080/"
    },
    "executionInfo": {
     "elapsed": 24031,
     "status": "ok",
     "timestamp": 1718458465181,
     "user": {
      "displayName": "Jiyi Li",
      "userId": "12552177904401594396"
     },
     "user_tz": -540
    },
    "id": "d7zjGcQ0Gd0p",
    "outputId": "5ebcb6bc-fa0a-43a6-a990-98e99db20c44"
   },
   "outputs": [
    {
     "name": "stdout",
     "output_type": "stream",
     "text": [
      "Inter-Annotator Agreement\n",
      "[0.3791010870235044, 0.4762804678136589, 0.44018203073354956]\n"
     ]
    }
   ],
   "source": [
    "# J1\n",
    "labelfilename = folder + 'CrowdWSA2019_J1_label_anonymous.tsv'\n",
    "gtfilename = folder + 'CrowdWSA2019_J1_gt.tsv'\n",
    "\n",
    "(workers,sentences,swlabels,truelabels) = loaddata(labelfilename,gtfilename)\n",
    "(labellist,slabelidlists,sworkeridlists,wlabelidlists,wsentenceidlists) = labelformatconversion(workers,sentences,swlabels)\n",
    "(truelabellist) = truelabelformatonversion(sentences,truelabels)\n",
    "\n",
    "quality = QuestionReliabilityMETEORInter(sentences, slabelidlists, np.asarray(labellist), np.asarray(truelabellist))\n",
    "j1questionmeteor = quality\n",
    "\n",
    "# T1\n",
    "labelfilename = folder + 'CrowdWSA2019_T1_label_anonymous.tsv'\n",
    "gtfilename = folder + 'CrowdWSA2019_T1_gt.tsv'\n",
    "\n",
    "(workers,sentences,swlabels,truelabels) = loaddata(labelfilename,gtfilename)\n",
    "(labellist,slabelidlists,sworkeridlists,wlabelidlists,wsentenceidlists) = labelformatconversion(workers,sentences,swlabels)\n",
    "(truelabellist) = truelabelformatonversion(sentences,truelabels)\n",
    "\n",
    "quality = QuestionReliabilityMETEORInter(sentences, slabelidlists, np.asarray(labellist), np.asarray(truelabellist))\n",
    "t1questionmeteor = quality\n",
    "\n",
    "# T2\n",
    "labelfilename = folder + 'CrowdWSA2019_T2_label_anonymous.tsv'\n",
    "gtfilename = folder + 'CrowdWSA2019_T2_gt.tsv'\n",
    "\n",
    "(workers,sentences,swlabels,truelabels) = loaddata(labelfilename,gtfilename)\n",
    "(labellist,slabelidlists,sworkeridlists,wlabelidlists,wsentenceidlists) = labelformatconversion(workers,sentences,swlabels)\n",
    "(truelabellist) = truelabelformatonversion(sentences,truelabels)\n",
    "\n",
    "quality = QuestionReliabilityMETEORInter(sentences, slabelidlists, np.asarray(labellist), np.asarray(truelabellist))\n",
    "t2questionmeteor = quality\n",
    "\n",
    "print('Inter-Annotator Agreement')\n",
    "print([np.mean(j1questionmeteor),np.mean(t1questionmeteor),np.mean(t2questionmeteor)])"
   ]
  },
  {
   "cell_type": "markdown",
   "metadata": {
    "id": "Xd3RsXYewNRc"
   },
   "source": [
    "## HumanAgg"
   ]
  },
  {
   "cell_type": "markdown",
   "metadata": {
    "id": "_RlohPE1wUUA"
   },
   "source": [
    "### Embedding: Worker Reliability"
   ]
  },
  {
   "cell_type": "code",
   "execution_count": null,
   "metadata": {
    "colab": {
     "base_uri": "https://localhost:8080/"
    },
    "executionInfo": {
     "elapsed": 179133,
     "status": "ok",
     "timestamp": 1718118232352,
     "user": {
      "displayName": "Jiyi Li",
      "userId": "12552177904401594396"
     },
     "user_tz": -540
    },
    "id": "S140duV_wU_6",
    "outputId": "d4b94ef4-f1e4-426e-e71d-f63cfdae0953"
   },
   "outputs": [
    {
     "name": "stdout",
     "output_type": "stream",
     "text": [
      "[0.22428150475025177, 0.12815798819065094, 0.26995864510536194]\n",
      "[0.6856763112775225, 0.7336201400943694, 0.7214679287495791]\n",
      "[1.0, 1.0000001192092896, 1.0]\n",
      "[0.11351834414516504, 0.15114783099464582, 0.12502008759691086]\n"
     ]
    }
   ],
   "source": [
    "# J1\n",
    "labelfilename = folder + 'CrowdWSA2019_J1_label_anonymous_humanagg.tsv'\n",
    "gtfilename = folder + 'CrowdWSA2019_J1_gt.tsv'\n",
    "j1workerreliability = DatasetWorkerReliabilityEmbedding(labelfilename,gtfilename)\n",
    "\n",
    "# T1\n",
    "labelfilename = folder + 'CrowdWSA2019_T1_label_anonymous_humanagg.tsv'\n",
    "gtfilename = folder + 'CrowdWSA2019_T1_gt.tsv'\n",
    "t1workerreliability = DatasetWorkerReliabilityEmbedding(labelfilename,gtfilename)\n",
    "\n",
    "# T2\n",
    "labelfilename = folder + 'CrowdWSA2019_T2_label_anonymous_humanagg.tsv'\n",
    "gtfilename = folder + 'CrowdWSA2019_T2_gt.tsv'\n",
    "t2workerreliability = DatasetWorkerReliabilityEmbedding(labelfilename,gtfilename)\n",
    "\n",
    "print([np.min(j1workerreliability),np.min(t1workerreliability),np.min(t2workerreliability)])\n",
    "print([np.mean(j1workerreliability),np.mean(t1workerreliability),np.mean(t2workerreliability)])\n",
    "print([np.max(j1workerreliability),np.max(t1workerreliability),np.max(t2workerreliability)])\n",
    "print([np.std(j1workerreliability),np.std(t1workerreliability),np.std(t2workerreliability)])"
   ]
  },
  {
   "cell_type": "markdown",
   "metadata": {
    "id": "aFW098XHxFSN"
   },
   "source": [
    "### Embedding: Question Reliability"
   ]
  },
  {
   "cell_type": "code",
   "execution_count": null,
   "metadata": {
    "colab": {
     "base_uri": "https://localhost:8080/"
    },
    "executionInfo": {
     "elapsed": 192013,
     "status": "ok",
     "timestamp": 1718154151239,
     "user": {
      "displayName": "Jiyi Li",
      "userId": "12552177904401594396"
     },
     "user_tz": -540
    },
    "id": "xkFBtSFLxHiT",
    "outputId": "c41d46c4-1766-4e1f-efb6-bebbf0365cee"
   },
   "outputs": [
    {
     "name": "stdout",
     "output_type": "stream",
     "text": [
      "[0.2316086158156395, 0.137788325548172, 0.032199906557798384]\n",
      "[0.6982842117607594, 0.7429604615867136, 0.7281856786385178]\n",
      "[0.9761502742767334, 0.9581658720970154, 0.9349515914916993]\n",
      "[0.13401528846826255, 0.1371743215127005, 0.15612887389223598]\n"
     ]
    }
   ],
   "source": [
    "# J1\n",
    "labelfilename = folder + 'CrowdWSA2019_J1_label_anonymous_humanagg.tsv'\n",
    "gtfilename = folder + 'CrowdWSA2019_J1_gt.tsv'\n",
    "j1questionreliability = DatasetQuestionReliabilityEmbedding(labelfilename,gtfilename)\n",
    "\n",
    "# T1\n",
    "labelfilename = folder + 'CrowdWSA2019_T1_label_anonymous_humanagg.tsv'\n",
    "gtfilename = folder + 'CrowdWSA2019_T1_gt.tsv'\n",
    "t1questionreliability = DatasetQuestionReliabilityEmbedding(labelfilename,gtfilename)\n",
    "\n",
    "# T2\n",
    "labelfilename = folder + 'CrowdWSA2019_T2_label_anonymous_humanagg.tsv'\n",
    "gtfilename = folder + 'CrowdWSA2019_T2_gt.tsv'\n",
    "t2questionreliability = DatasetQuestionReliabilityEmbedding(labelfilename,gtfilename)\n",
    "\n",
    "print([np.min(j1questionreliability),np.min(t1questionreliability),np.min(t2questionreliability)])\n",
    "print([np.mean(j1questionreliability),np.mean(t1questionreliability),np.mean(t2questionreliability)])\n",
    "print([np.max(j1questionreliability),np.max(t1questionreliability),np.max(t2questionreliability)])\n",
    "print([np.std(j1questionreliability),np.std(t1questionreliability),np.std(t2questionreliability)])"
   ]
  },
  {
   "cell_type": "code",
   "execution_count": 21,
   "metadata": {
    "colab": {
     "base_uri": "https://localhost:8080/"
    },
    "executionInfo": {
     "elapsed": 159584,
     "status": "ok",
     "timestamp": 1718461095140,
     "user": {
      "displayName": "Jiyi Li",
      "userId": "12552177904401594396"
     },
     "user_tz": -540
    },
    "id": "6gV2J0Z3IG_o",
    "outputId": "5c330ad7-3197-4f47-fad0-3ee25914bcbc"
   },
   "outputs": [
    {
     "name": "stdout",
     "output_type": "stream",
     "text": [
      "Inter-Annotator Agreement\n",
      "[0.728640569114685, 0.7850180976390839, 0.7751828557699918]\n"
     ]
    }
   ],
   "source": [
    "# J1\n",
    "labelfilename = folder + 'CrowdWSA2019_J1_label_anonymous_humanagg.tsv'\n",
    "gtfilename = folder + 'CrowdWSA2019_J1_gt.tsv'\n",
    "j1questionreliability = DatasetQuestionReliabilityEmbeddingInter(labelfilename,gtfilename)\n",
    "\n",
    "# T1\n",
    "labelfilename = folder + 'CrowdWSA2019_T1_label_anonymous_humanagg.tsv'\n",
    "gtfilename = folder + 'CrowdWSA2019_T1_gt.tsv'\n",
    "t1questionreliability = DatasetQuestionReliabilityEmbeddingInter(labelfilename,gtfilename)\n",
    "\n",
    "# T2\n",
    "labelfilename = folder + 'CrowdWSA2019_T2_label_anonymous_humanagg.tsv'\n",
    "gtfilename = folder + 'CrowdWSA2019_T2_gt.tsv'\n",
    "t2questionreliability = DatasetQuestionReliabilityEmbeddingInter(labelfilename,gtfilename)\n",
    "\n",
    "print('Inter-Annotator Agreement')\n",
    "print([np.mean(j1questionreliability),np.mean(t1questionreliability),np.mean(t2questionreliability)])"
   ]
  },
  {
   "cell_type": "markdown",
   "metadata": {
    "id": "I7F8-JxqxNGn"
   },
   "source": [
    "### Worker GLEU"
   ]
  },
  {
   "cell_type": "code",
   "execution_count": null,
   "metadata": {
    "colab": {
     "base_uri": "https://localhost:8080/"
    },
    "executionInfo": {
     "elapsed": 2339,
     "status": "ok",
     "timestamp": 1718118680438,
     "user": {
      "displayName": "Jiyi Li",
      "userId": "12552177904401594396"
     },
     "user_tz": -540
    },
    "id": "ISgQbNf1xPjL",
    "outputId": "a5b8df13-eee6-493c-93b8-96abc58db0cc"
   },
   "outputs": [
    {
     "name": "stdout",
     "output_type": "stream",
     "text": [
      "[0.0, 0.021739130434782608, 0.0]\n",
      "[0.21237081610419373, 0.18738060144552507, 0.18166888764533748]\n",
      "[1.0, 0.7894736842105263, 0.6842105263157895]\n",
      "[0.13989523557680925, 0.1297426918952499, 0.11901746893535857]\n"
     ]
    }
   ],
   "source": [
    "# J1\n",
    "labelfilename = folder + 'CrowdWSA2019_J1_label_anonymous_humanagg.tsv'\n",
    "gtfilename = folder + 'CrowdWSA2019_J1_gt.tsv'\n",
    "\n",
    "(workers,sentences,swlabels,truelabels) = loaddata(labelfilename,gtfilename)\n",
    "(labellist,slabelidlists,sworkeridlists,wlabelidlists,wsentenceidlists) = labelformatconversion(workers,sentences,swlabels)\n",
    "(truelabellist) = truelabelformatonversion(sentences,truelabels)\n",
    "\n",
    "reliability = WorkerReliabilityGLEU(workers, sentences, wlabelidlists, wsentenceidlists, np.asarray(labellist), np.asarray(truelabellist))\n",
    "j1workergleu = reliability\n",
    "\n",
    "# T1\n",
    "labelfilename = folder + 'CrowdWSA2019_T1_label_anonymous_humanagg.tsv'\n",
    "gtfilename = folder + 'CrowdWSA2019_T1_gt.tsv'\n",
    "\n",
    "(workers,sentences,swlabels,truelabels) = loaddata(labelfilename,gtfilename)\n",
    "(labellist,slabelidlists,sworkeridlists,wlabelidlists,wsentenceidlists) = labelformatconversion(workers,sentences,swlabels)\n",
    "(truelabellist) = truelabelformatonversion(sentences,truelabels)\n",
    "\n",
    "reliability = WorkerReliabilityGLEU(workers, sentences, wlabelidlists, wsentenceidlists, np.asarray(labellist), np.asarray(truelabellist))\n",
    "t1workergleu = reliability\n",
    "\n",
    "# T2\n",
    "labelfilename = folder + 'CrowdWSA2019_T2_label_anonymous_humanagg.tsv'\n",
    "gtfilename = folder + 'CrowdWSA2019_T2_gt.tsv'\n",
    "\n",
    "(workers,sentences,swlabels,truelabels) = loaddata(labelfilename,gtfilename)\n",
    "(labellist,slabelidlists,sworkeridlists,wlabelidlists,wsentenceidlists) = labelformatconversion(workers,sentences,swlabels)\n",
    "(truelabellist) = truelabelformatonversion(sentences,truelabels)\n",
    "\n",
    "reliability = WorkerReliabilityGLEU(workers, sentences, wlabelidlists, wsentenceidlists, np.asarray(labellist), np.asarray(truelabellist))\n",
    "t2workergleu = reliability\n",
    "\n",
    "print([np.min(j1workergleu),np.min(t1workergleu),np.min(t2workergleu)])\n",
    "print([np.mean(j1workergleu),np.mean(t1workergleu),np.mean(t2workergleu)])\n",
    "print([np.max(j1workergleu),np.max(t1workergleu),np.max(t2workergleu)])\n",
    "print([np.std(j1workergleu),np.std(t1workergleu),np.std(t2workergleu)])"
   ]
  },
  {
   "cell_type": "markdown",
   "metadata": {
    "id": "_xTGkbkvxP90"
   },
   "source": [
    "### Question GLEU"
   ]
  },
  {
   "cell_type": "code",
   "execution_count": null,
   "metadata": {
    "colab": {
     "base_uri": "https://localhost:8080/"
    },
    "executionInfo": {
     "elapsed": 409,
     "status": "ok",
     "timestamp": 1718154151637,
     "user": {
      "displayName": "Jiyi Li",
      "userId": "12552177904401594396"
     },
     "user_tz": -540
    },
    "id": "f-C9KrFBxTad",
    "outputId": "4e4be61f-099c-4604-a4dd-9050327bd32e"
   },
   "outputs": [
    {
     "name": "stdout",
     "output_type": "stream",
     "text": [
      "[0.0047619047619047615, 0.017391304347826087, 0.0]\n",
      "[0.2260193818423277, 0.18188431807326452, 0.17690832435077364]\n",
      "[0.8566433566433567, 0.5789473684210527, 0.5421052631578946]\n",
      "[0.14572121234084773, 0.11830057361303958, 0.12395305400266479]\n"
     ]
    }
   ],
   "source": [
    "# J1\n",
    "labelfilename = folder + 'CrowdWSA2019_J1_label_anonymous_humanagg.tsv'\n",
    "gtfilename = folder + 'CrowdWSA2019_J1_gt.tsv'\n",
    "\n",
    "(workers,sentences,swlabels,truelabels) = loaddata(labelfilename,gtfilename)\n",
    "(labellist,slabelidlists,sworkeridlists,wlabelidlists,wsentenceidlists) = labelformatconversion(workers,sentences,swlabels)\n",
    "(truelabellist) = truelabelformatonversion(sentences,truelabels)\n",
    "\n",
    "quality = QuestionReliabilityGLEU(sentences, slabelidlists, np.asarray(labellist), np.asarray(truelabellist))\n",
    "j1questiongleu = quality\n",
    "\n",
    "# T1\n",
    "labelfilename = folder + 'CrowdWSA2019_T1_label_anonymous_humanagg.tsv'\n",
    "gtfilename = folder + 'CrowdWSA2019_T1_gt.tsv'\n",
    "\n",
    "(workers,sentences,swlabels,truelabels) = loaddata(labelfilename,gtfilename)\n",
    "(labellist,slabelidlists,sworkeridlists,wlabelidlists,wsentenceidlists) = labelformatconversion(workers,sentences,swlabels)\n",
    "(truelabellist) = truelabelformatonversion(sentences,truelabels)\n",
    "\n",
    "quality = QuestionReliabilityGLEU(sentences, slabelidlists, np.asarray(labellist), np.asarray(truelabellist))\n",
    "t1questiongleu = quality\n",
    "\n",
    "# T2\n",
    "labelfilename = folder + 'CrowdWSA2019_T2_label_anonymous_humanagg.tsv'\n",
    "gtfilename = folder + 'CrowdWSA2019_T2_gt.tsv'\n",
    "\n",
    "(workers,sentences,swlabels,truelabels) = loaddata(labelfilename,gtfilename)\n",
    "(labellist,slabelidlists,sworkeridlists,wlabelidlists,wsentenceidlists) = labelformatconversion(workers,sentences,swlabels)\n",
    "(truelabellist) = truelabelformatonversion(sentences,truelabels)\n",
    "\n",
    "quality = QuestionReliabilityGLEU(sentences, slabelidlists, np.asarray(labellist), np.asarray(truelabellist))\n",
    "t2questiongleu = quality\n",
    "\n",
    "print([np.min(j1questiongleu),np.min(t1questiongleu),np.min(t2questiongleu)])\n",
    "print([np.mean(j1questiongleu),np.mean(t1questiongleu),np.mean(t2questiongleu)])\n",
    "print([np.max(j1questiongleu),np.max(t1questiongleu),np.max(t2questiongleu)])\n",
    "print([np.std(j1questiongleu),np.std(t1questiongleu),np.std(t2questiongleu)])"
   ]
  },
  {
   "cell_type": "code",
   "execution_count": null,
   "metadata": {
    "colab": {
     "base_uri": "https://localhost:8080/"
    },
    "executionInfo": {
     "elapsed": 2332,
     "status": "ok",
     "timestamp": 1718458237469,
     "user": {
      "displayName": "Jiyi Li",
      "userId": "12552177904401594396"
     },
     "user_tz": -540
    },
    "id": "6VWmbs8SF0KX",
    "outputId": "6e6e9d19-fe6d-47f2-f67a-e38e1a64e3da"
   },
   "outputs": [
    {
     "name": "stdout",
     "output_type": "stream",
     "text": [
      "Inter-Annotator Agreement\n",
      "[0.27457611924125636, 0.3473106664655869, 0.33712483252936076]\n"
     ]
    }
   ],
   "source": [
    "# J1\n",
    "labelfilename = folder + 'CrowdWSA2019_J1_label_anonymous_humanagg.tsv'\n",
    "gtfilename = folder + 'CrowdWSA2019_J1_gt.tsv'\n",
    "\n",
    "(workers,sentences,swlabels,truelabels) = loaddata(labelfilename,gtfilename)\n",
    "(labellist,slabelidlists,sworkeridlists,wlabelidlists,wsentenceidlists) = labelformatconversion(workers,sentences,swlabels)\n",
    "(truelabellist) = truelabelformatonversion(sentences,truelabels)\n",
    "\n",
    "quality = QuestionReliabilityGLEUInter(sentences, slabelidlists, np.asarray(labellist), np.asarray(truelabellist))\n",
    "j1questiongleu = quality\n",
    "\n",
    "# T1\n",
    "labelfilename = folder + 'CrowdWSA2019_T1_label_anonymous_humanagg.tsv'\n",
    "gtfilename = folder + 'CrowdWSA2019_T1_gt.tsv'\n",
    "\n",
    "(workers,sentences,swlabels,truelabels) = loaddata(labelfilename,gtfilename)\n",
    "(labellist,slabelidlists,sworkeridlists,wlabelidlists,wsentenceidlists) = labelformatconversion(workers,sentences,swlabels)\n",
    "(truelabellist) = truelabelformatonversion(sentences,truelabels)\n",
    "\n",
    "quality = QuestionReliabilityGLEUInter(sentences, slabelidlists, np.asarray(labellist), np.asarray(truelabellist))\n",
    "t1questiongleu = quality\n",
    "\n",
    "# T2\n",
    "labelfilename = folder + 'CrowdWSA2019_T2_label_anonymous_humanagg.tsv'\n",
    "gtfilename = folder + 'CrowdWSA2019_T2_gt.tsv'\n",
    "\n",
    "(workers,sentences,swlabels,truelabels) = loaddata(labelfilename,gtfilename)\n",
    "(labellist,slabelidlists,sworkeridlists,wlabelidlists,wsentenceidlists) = labelformatconversion(workers,sentences,swlabels)\n",
    "(truelabellist) = truelabelformatonversion(sentences,truelabels)\n",
    "\n",
    "quality = QuestionReliabilityGLEUInter(sentences, slabelidlists, np.asarray(labellist), np.asarray(truelabellist))\n",
    "t2questiongleu = quality\n",
    "\n",
    "print('Inter-Annotator Agreement')\n",
    "print([np.mean(j1questiongleu),np.mean(t1questiongleu),np.mean(t2questiongleu)])"
   ]
  },
  {
   "cell_type": "markdown",
   "metadata": {
    "id": "XJQBZXw6cDEJ"
   },
   "source": [
    "### Worker METEOR"
   ]
  },
  {
   "cell_type": "code",
   "execution_count": null,
   "metadata": {
    "colab": {
     "base_uri": "https://localhost:8080/"
    },
    "executionInfo": {
     "elapsed": 782,
     "status": "ok",
     "timestamp": 1718118233132,
     "user": {
      "displayName": "Jiyi Li",
      "userId": "12552177904401594396"
     },
     "user_tz": -540
    },
    "id": "9gz8l5xIcH6V",
    "outputId": "fbd32ffe-51a5-45ab-92c5-c6ac4224ef01"
   },
   "outputs": [
    {
     "name": "stdout",
     "output_type": "stream",
     "text": [
      "[0.04901960784313726, 0.03937007874015748, 0.04761904761904762]\n",
      "[0.4156094318692456, 0.39085744805149214, 0.383969723883758]\n",
      "[0.9985422740524781, 0.9169724770642201, 0.8287608596250572]\n",
      "[0.1568779534740165, 0.16659213948214727, 0.1619260199285394]\n"
     ]
    }
   ],
   "source": [
    "# J1\n",
    "labelfilename = folder + 'CrowdWSA2019_J1_label_anonymous_humanagg.tsv'\n",
    "gtfilename = folder + 'CrowdWSA2019_J1_gt.tsv'\n",
    "\n",
    "(workers,sentences,swlabels,truelabels) = loaddata(labelfilename,gtfilename)\n",
    "(labellist,slabelidlists,sworkeridlists,wlabelidlists,wsentenceidlists) = labelformatconversion(workers,sentences,swlabels)\n",
    "(truelabellist) = truelabelformatonversion(sentences,truelabels)\n",
    "\n",
    "reliability = WorkerReliabilityMETEOR(workers, sentences, wlabelidlists, wsentenceidlists, np.asarray(labellist), np.asarray(truelabellist))\n",
    "j1workermeteor = reliability\n",
    "\n",
    "# T1\n",
    "labelfilename = folder + 'CrowdWSA2019_T1_label_anonymous_humanagg.tsv'\n",
    "gtfilename = folder + 'CrowdWSA2019_T1_gt.tsv'\n",
    "\n",
    "(workers,sentences,swlabels,truelabels) = loaddata(labelfilename,gtfilename)\n",
    "(labellist,slabelidlists,sworkeridlists,wlabelidlists,wsentenceidlists) = labelformatconversion(workers,sentences,swlabels)\n",
    "(truelabellist) = truelabelformatonversion(sentences,truelabels)\n",
    "\n",
    "reliability = WorkerReliabilityMETEOR(workers, sentences, wlabelidlists, wsentenceidlists, np.asarray(labellist), np.asarray(truelabellist))\n",
    "t1workermeteor = reliability\n",
    "\n",
    "# T2\n",
    "labelfilename = folder + 'CrowdWSA2019_T2_label_anonymous_humanagg.tsv'\n",
    "gtfilename = folder + 'CrowdWSA2019_T2_gt.tsv'\n",
    "\n",
    "(workers,sentences,swlabels,truelabels) = loaddata(labelfilename,gtfilename)\n",
    "(labellist,slabelidlists,sworkeridlists,wlabelidlists,wsentenceidlists) = labelformatconversion(workers,sentences,swlabels)\n",
    "(truelabellist) = truelabelformatonversion(sentences,truelabels)\n",
    "\n",
    "reliability = WorkerReliabilityMETEOR(workers, sentences, wlabelidlists, wsentenceidlists, np.asarray(labellist), np.asarray(truelabellist))\n",
    "t2workermeteor = reliability\n",
    "\n",
    "print([np.min(j1workermeteor),np.min(t1workermeteor),np.min(t2workermeteor)])\n",
    "print([np.mean(j1workermeteor),np.mean(t1workermeteor),np.mean(t2workermeteor)])\n",
    "print([np.max(j1workermeteor),np.max(t1workermeteor),np.max(t2workermeteor)])\n",
    "print([np.std(j1workermeteor),np.std(t1workermeteor),np.std(t2workermeteor)])"
   ]
  },
  {
   "cell_type": "markdown",
   "metadata": {
    "id": "792hlm5YcE-Z"
   },
   "source": [
    "### Question METEOR"
   ]
  },
  {
   "cell_type": "code",
   "execution_count": null,
   "metadata": {
    "colab": {
     "base_uri": "https://localhost:8080/"
    },
    "executionInfo": {
     "elapsed": 2022,
     "status": "ok",
     "timestamp": 1718154153658,
     "user": {
      "displayName": "Jiyi Li",
      "userId": "12552177904401594396"
     },
     "user_tz": -540
    },
    "id": "Oumw0wuBcRPc",
    "outputId": "69786e3e-d5a3-4be6-d092-3ba1d4bdb9a5"
   },
   "outputs": [
    {
     "name": "stdout",
     "output_type": "stream",
     "text": [
      "[0.04392998306041784, 0.03156632344033919, 0.03555764411027569]\n",
      "[0.4397162519298426, 0.39265189819162094, 0.37463693494354033]\n",
      "[0.9530227686703098, 0.8076119195645738, 0.7345149610271935]\n",
      "[0.18562328684067483, 0.16796419415518357, 0.16579222728333315]\n"
     ]
    }
   ],
   "source": [
    "# J1\n",
    "labelfilename = folder + 'CrowdWSA2019_J1_label_anonymous_humanagg.tsv'\n",
    "gtfilename = folder + 'CrowdWSA2019_J1_gt.tsv'\n",
    "\n",
    "(workers,sentences,swlabels,truelabels) = loaddata(labelfilename,gtfilename)\n",
    "(labellist,slabelidlists,sworkeridlists,wlabelidlists,wsentenceidlists) = labelformatconversion(workers,sentences,swlabels)\n",
    "(truelabellist) = truelabelformatonversion(sentences,truelabels)\n",
    "\n",
    "quality = QuestionReliabilityMETEOR(sentences, slabelidlists, np.asarray(labellist), np.asarray(truelabellist))\n",
    "j1questionmeteor = quality\n",
    "\n",
    "# T1\n",
    "labelfilename = folder + 'CrowdWSA2019_T1_label_anonymous_humanagg.tsv'\n",
    "gtfilename = folder + 'CrowdWSA2019_T1_gt.tsv'\n",
    "\n",
    "(workers,sentences,swlabels,truelabels) = loaddata(labelfilename,gtfilename)\n",
    "(labellist,slabelidlists,sworkeridlists,wlabelidlists,wsentenceidlists) = labelformatconversion(workers,sentences,swlabels)\n",
    "(truelabellist) = truelabelformatonversion(sentences,truelabels)\n",
    "\n",
    "quality = QuestionReliabilityMETEOR(sentences, slabelidlists, np.asarray(labellist), np.asarray(truelabellist))\n",
    "t1questionmeteor = quality\n",
    "\n",
    "# T2\n",
    "labelfilename = folder + 'CrowdWSA2019_T2_label_anonymous_humanagg.tsv'\n",
    "gtfilename = folder + 'CrowdWSA2019_T2_gt.tsv'\n",
    "\n",
    "(workers,sentences,swlabels,truelabels) = loaddata(labelfilename,gtfilename)\n",
    "(labellist,slabelidlists,sworkeridlists,wlabelidlists,wsentenceidlists) = labelformatconversion(workers,sentences,swlabels)\n",
    "(truelabellist) = truelabelformatonversion(sentences,truelabels)\n",
    "\n",
    "quality = QuestionReliabilityMETEOR(sentences, slabelidlists, np.asarray(labellist), np.asarray(truelabellist))\n",
    "t2questionmeteor = quality\n",
    "\n",
    "print([np.min(j1questionmeteor),np.min(t1questionmeteor),np.min(t2questionmeteor)])\n",
    "print([np.mean(j1questionmeteor),np.mean(t1questionmeteor),np.mean(t2questionmeteor)])\n",
    "print([np.max(j1questionmeteor),np.max(t1questionmeteor),np.max(t2questionmeteor)])\n",
    "print([np.std(j1questionmeteor),np.std(t1questionmeteor),np.std(t2questionmeteor)])"
   ]
  },
  {
   "cell_type": "code",
   "execution_count": null,
   "metadata": {
    "colab": {
     "base_uri": "https://localhost:8080/"
    },
    "executionInfo": {
     "elapsed": 6766,
     "status": "ok",
     "timestamp": 1718458512141,
     "user": {
      "displayName": "Jiyi Li",
      "userId": "12552177904401594396"
     },
     "user_tz": -540
    },
    "id": "SAlQYFoBG3L1",
    "outputId": "8736d134-f29f-4b27-d1b7-d4434435121a"
   },
   "outputs": [
    {
     "name": "stdout",
     "output_type": "stream",
     "text": [
      "Inter-Annotator Agreement\n",
      "[0.4909968555244004, 0.5669534077252868, 0.5492090558645203]\n"
     ]
    }
   ],
   "source": [
    "# J1\n",
    "labelfilename = folder + 'CrowdWSA2019_J1_label_anonymous_humanagg.tsv'\n",
    "gtfilename = folder + 'CrowdWSA2019_J1_gt.tsv'\n",
    "\n",
    "(workers,sentences,swlabels,truelabels) = loaddata(labelfilename,gtfilename)\n",
    "(labellist,slabelidlists,sworkeridlists,wlabelidlists,wsentenceidlists) = labelformatconversion(workers,sentences,swlabels)\n",
    "(truelabellist) = truelabelformatonversion(sentences,truelabels)\n",
    "\n",
    "quality = QuestionReliabilityMETEORInter(sentences, slabelidlists, np.asarray(labellist), np.asarray(truelabellist))\n",
    "j1questionmeteor = quality\n",
    "\n",
    "# T1\n",
    "labelfilename = folder + 'CrowdWSA2019_T1_label_anonymous_humanagg.tsv'\n",
    "gtfilename = folder + 'CrowdWSA2019_T1_gt.tsv'\n",
    "\n",
    "(workers,sentences,swlabels,truelabels) = loaddata(labelfilename,gtfilename)\n",
    "(labellist,slabelidlists,sworkeridlists,wlabelidlists,wsentenceidlists) = labelformatconversion(workers,sentences,swlabels)\n",
    "(truelabellist) = truelabelformatonversion(sentences,truelabels)\n",
    "\n",
    "quality = QuestionReliabilityMETEORInter(sentences, slabelidlists, np.asarray(labellist), np.asarray(truelabellist))\n",
    "t1questionmeteor = quality\n",
    "\n",
    "# T2\n",
    "labelfilename = folder + 'CrowdWSA2019_T2_label_anonymous_humanagg.tsv'\n",
    "gtfilename = folder + 'CrowdWSA2019_T2_gt.tsv'\n",
    "\n",
    "(workers,sentences,swlabels,truelabels) = loaddata(labelfilename,gtfilename)\n",
    "(labellist,slabelidlists,sworkeridlists,wlabelidlists,wsentenceidlists) = labelformatconversion(workers,sentences,swlabels)\n",
    "(truelabellist) = truelabelformatonversion(sentences,truelabels)\n",
    "\n",
    "quality = QuestionReliabilityMETEORInter(sentences, slabelidlists, np.asarray(labellist), np.asarray(truelabellist))\n",
    "t2questionmeteor = quality\n",
    "\n",
    "print('Inter-Annotator Agreement')\n",
    "print([np.mean(j1questionmeteor),np.mean(t1questionmeteor),np.mean(t2questionmeteor)])"
   ]
  },
  {
   "cell_type": "markdown",
   "metadata": {
    "id": "lkJEk7xWztvn"
   },
   "source": [
    "## Gemini"
   ]
  },
  {
   "cell_type": "markdown",
   "metadata": {
    "id": "jw8Z-WNEz535"
   },
   "source": [
    "### Embedding: Worker Reliability"
   ]
  },
  {
   "cell_type": "code",
   "execution_count": null,
   "metadata": {
    "colab": {
     "base_uri": "https://localhost:8080/"
    },
    "executionInfo": {
     "elapsed": 119010,
     "status": "ok",
     "timestamp": 1718118816079,
     "user": {
      "displayName": "Jiyi Li",
      "userId": "12552177904401594396"
     },
     "user_tz": -540
    },
    "id": "dYo27tDU02GN",
    "outputId": "261cf547-cf98-4b36-b8fa-4b1444abdc10"
   },
   "outputs": [
    {
     "name": "stdout",
     "output_type": "stream",
     "text": [
      "[0.7265168557167053, 0.7566493032127619, 0.7458261470496654]\n",
      "[0.7310330567359925, 0.7635132035166025, 0.7540152969062328]\n",
      "[0.7373357325792312, 0.7718896312266588, 0.7684078720211983]\n",
      "[0.003566330116766897, 0.0058377494613524724, 0.008632023874518177]\n"
     ]
    }
   ],
   "source": [
    "# J1\n",
    "labelfilename = folder + 'CrowdWSA2019_J1_label_5temperature_trial0_gemini-1.5-pro-latest.tsv'\n",
    "gtfilename = folder + 'CrowdWSA2019_J1_gt.tsv'\n",
    "j1workerreliability = DatasetWorkerReliabilityEmbedding(labelfilename,gtfilename)\n",
    "\n",
    "# T1\n",
    "labelfilename = folder + 'CrowdWSA2019_T1_label_5temperature_trial0_gemini-1.5-pro-latest.tsv'\n",
    "gtfilename = folder + 'CrowdWSA2019_T1_gt.tsv'\n",
    "t1workerreliability = DatasetWorkerReliabilityEmbedding(labelfilename,gtfilename)\n",
    "\n",
    "# T2\n",
    "labelfilename = folder + 'CrowdWSA2019_T2_label_5temperature_trial0_gemini-1.5-pro-latest.tsv'\n",
    "gtfilename = folder + 'CrowdWSA2019_T2_gt.tsv'\n",
    "t2workerreliability = DatasetWorkerReliabilityEmbedding(labelfilename,gtfilename)\n",
    "\n",
    "print([np.min(j1workerreliability),np.min(t1workerreliability),np.min(t2workerreliability)])\n",
    "print([np.mean(j1workerreliability),np.mean(t1workerreliability),np.mean(t2workerreliability)])\n",
    "print([np.max(j1workerreliability),np.max(t1workerreliability),np.max(t2workerreliability)])\n",
    "print([np.std(j1workerreliability),np.std(t1workerreliability),np.std(t2workerreliability)])"
   ]
  },
  {
   "cell_type": "markdown",
   "metadata": {
    "id": "C8Bs40zdz8C1"
   },
   "source": [
    "### Embedding: Question Reliability"
   ]
  },
  {
   "cell_type": "code",
   "execution_count": null,
   "metadata": {
    "colab": {
     "base_uri": "https://localhost:8080/"
    },
    "executionInfo": {
     "elapsed": 119820,
     "status": "ok",
     "timestamp": 1718155627091,
     "user": {
      "displayName": "Jiyi Li",
      "userId": "12552177904401594396"
     },
     "user_tz": -540
    },
    "id": "y-JCMLyv0wlT",
    "outputId": "c7ce2bbc-b860-4333-ab73-6e130baa25e2"
   },
   "outputs": [
    {
     "name": "stdout",
     "output_type": "stream",
     "text": [
      "[0.25261545181274414, 0.06303130835294724, 0.19608191649119058]\n",
      "[0.7289235450029373, 0.7592670890440543, 0.7474555508792399]\n",
      "[1.0000001192092896, 1.0000001192092896, 1.0000001192092896]\n",
      "[0.14549432727840597, 0.16255473168138804, 0.15438875585157777]\n"
     ]
    }
   ],
   "source": [
    "# J1\n",
    "labelfilename = folder + 'CrowdWSA2019_J1_label_3temperature_trial0_gemini-1.5-pro-latest.tsv'\n",
    "gtfilename = folder + 'CrowdWSA2019_J1_gt.tsv'\n",
    "j1questionreliability = DatasetQuestionReliabilityEmbedding(labelfilename,gtfilename)\n",
    "\n",
    "# T1\n",
    "labelfilename = folder + 'CrowdWSA2019_T1_label_3temperature_trial0_gemini-1.5-pro-latest.tsv'\n",
    "gtfilename = folder + 'CrowdWSA2019_T1_gt.tsv'\n",
    "t1questionreliability = DatasetQuestionReliabilityEmbedding(labelfilename,gtfilename)\n",
    "\n",
    "# T2\n",
    "labelfilename = folder + 'CrowdWSA2019_T2_label_3temperature_trial0_gemini-1.5-pro-latest.tsv'\n",
    "gtfilename = folder + 'CrowdWSA2019_T2_gt.tsv'\n",
    "t2questionreliability = DatasetQuestionReliabilityEmbedding(labelfilename,gtfilename)\n",
    "\n",
    "print([np.min(j1questionreliability),np.min(t1questionreliability),np.min(t2questionreliability)])\n",
    "print([np.mean(j1questionreliability),np.mean(t1questionreliability),np.mean(t2questionreliability)])\n",
    "print([np.max(j1questionreliability),np.max(t1questionreliability),np.max(t2questionreliability)])\n",
    "print([np.std(j1questionreliability),np.std(t1questionreliability),np.std(t2questionreliability)])"
   ]
  },
  {
   "cell_type": "code",
   "execution_count": 22,
   "metadata": {
    "colab": {
     "base_uri": "https://localhost:8080/"
    },
    "executionInfo": {
     "elapsed": 209197,
     "status": "ok",
     "timestamp": 1718461304335,
     "user": {
      "displayName": "Jiyi Li",
      "userId": "12552177904401594396"
     },
     "user_tz": -540
    },
    "id": "kAXzwpxRINQI",
    "outputId": "3fcf3a25-257a-45a7-f00f-d5843969c53b"
   },
   "outputs": [
    {
     "name": "stdout",
     "output_type": "stream",
     "text": [
      "Inter-Annotator Agreement\n",
      "[0.937320643723011, 0.9501944700876871, 0.9360006310542424]\n"
     ]
    }
   ],
   "source": [
    "# J1\n",
    "labelfilename = folder + 'CrowdWSA2019_J1_label_3temperature_trial0_gemini-1.5-pro-latest.tsv'\n",
    "gtfilename = folder + 'CrowdWSA2019_J1_gt.tsv'\n",
    "j1questionreliability = DatasetQuestionReliabilityEmbeddingInter(labelfilename,gtfilename)\n",
    "\n",
    "# T1\n",
    "labelfilename = folder + 'CrowdWSA2019_T1_label_3temperature_trial0_gemini-1.5-pro-latest.tsv'\n",
    "gtfilename = folder + 'CrowdWSA2019_T1_gt.tsv'\n",
    "t1questionreliability = DatasetQuestionReliabilityEmbeddingInter(labelfilename,gtfilename)\n",
    "\n",
    "# T2\n",
    "labelfilename = folder + 'CrowdWSA2019_T2_label_3temperature_trial0_gemini-1.5-pro-latest.tsv'\n",
    "gtfilename = folder + 'CrowdWSA2019_T2_gt.tsv'\n",
    "t2questionreliability = DatasetQuestionReliabilityEmbeddingInter(labelfilename,gtfilename)\n",
    "\n",
    "print('Inter-Annotator Agreement')\n",
    "print([np.mean(j1questionreliability),np.mean(t1questionreliability),np.mean(t2questionreliability)])"
   ]
  },
  {
   "cell_type": "markdown",
   "metadata": {
    "id": "YiE9wmdaz998"
   },
   "source": [
    "### Worker GLEU"
   ]
  },
  {
   "cell_type": "code",
   "execution_count": null,
   "metadata": {
    "colab": {
     "base_uri": "https://localhost:8080/"
    },
    "executionInfo": {
     "elapsed": 1311,
     "status": "ok",
     "timestamp": 1718118817388,
     "user": {
      "displayName": "Jiyi Li",
      "userId": "12552177904401594396"
     },
     "user_tz": -540
    },
    "id": "VR8NRWeQ0cYf",
    "outputId": "acab4d5a-ebe4-4771-d24c-6b08d51e2418"
   },
   "outputs": [
    {
     "name": "stdout",
     "output_type": "stream",
     "text": [
      "[0.2587824530067214, 0.19676582151697755, 0.17072220447837905]\n",
      "[0.26329381475652, 0.2015413430294043, 0.17511781344081512]\n",
      "[0.2714006983158938, 0.20638460761265148, 0.1810178093075434]\n",
      "[0.005744612634632056, 0.003927145131968486, 0.004335685618056471]\n"
     ]
    }
   ],
   "source": [
    "# J1\n",
    "labelfilename = folder + 'CrowdWSA2019_J1_label_3temperature_trial0_gemini-1.5-pro-latest.tsv'\n",
    "gtfilename = folder + 'CrowdWSA2019_J1_gt.tsv'\n",
    "\n",
    "(workers,sentences,swlabels,truelabels) = loaddata(labelfilename,gtfilename)\n",
    "(labellist,slabelidlists,sworkeridlists,wlabelidlists,wsentenceidlists) = labelformatconversion(workers,sentences,swlabels)\n",
    "(truelabellist) = truelabelformatonversion(sentences,truelabels)\n",
    "\n",
    "reliability = WorkerReliabilityGLEU(workers, sentences, wlabelidlists, wsentenceidlists, np.asarray(labellist), np.asarray(truelabellist))\n",
    "j1workergleu = reliability\n",
    "\n",
    "# T1\n",
    "labelfilename = folder + 'CrowdWSA2019_T1_label_3temperature_trial0_gemini-1.5-pro-latest.tsv'\n",
    "gtfilename = folder + 'CrowdWSA2019_T1_gt.tsv'\n",
    "\n",
    "(workers,sentences,swlabels,truelabels) = loaddata(labelfilename,gtfilename)\n",
    "(labellist,slabelidlists,sworkeridlists,wlabelidlists,wsentenceidlists) = labelformatconversion(workers,sentences,swlabels)\n",
    "(truelabellist) = truelabelformatonversion(sentences,truelabels)\n",
    "\n",
    "reliability = WorkerReliabilityGLEU(workers, sentences, wlabelidlists, wsentenceidlists, np.asarray(labellist), np.asarray(truelabellist))\n",
    "t1workergleu = reliability\n",
    "\n",
    "# T2\n",
    "labelfilename = folder + 'CrowdWSA2019_T2_label_3temperature_trial0_gemini-1.5-pro-latest.tsv'\n",
    "gtfilename = folder + 'CrowdWSA2019_T2_gt.tsv'\n",
    "\n",
    "(workers,sentences,swlabels,truelabels) = loaddata(labelfilename,gtfilename)\n",
    "(labellist,slabelidlists,sworkeridlists,wlabelidlists,wsentenceidlists) = labelformatconversion(workers,sentences,swlabels)\n",
    "(truelabellist) = truelabelformatonversion(sentences,truelabels)\n",
    "\n",
    "reliability = WorkerReliabilityGLEU(workers, sentences, wlabelidlists, wsentenceidlists, np.asarray(labellist), np.asarray(truelabellist))\n",
    "t2workergleu = reliability\n",
    "\n",
    "print([np.min(j1workergleu),np.min(t1workergleu),np.min(t2workergleu)])\n",
    "print([np.mean(j1workergleu),np.mean(t1workergleu),np.mean(t2workergleu)])\n",
    "print([np.max(j1workergleu),np.max(t1workergleu),np.max(t2workergleu)])\n",
    "print([np.std(j1workergleu),np.std(t1workergleu),np.std(t2workergleu)])"
   ]
  },
  {
   "cell_type": "markdown",
   "metadata": {
    "id": "5zdey_m70AQv"
   },
   "source": [
    "### Question GLEU"
   ]
  },
  {
   "cell_type": "code",
   "execution_count": null,
   "metadata": {
    "colab": {
     "base_uri": "https://localhost:8080/"
    },
    "executionInfo": {
     "elapsed": 430,
     "status": "ok",
     "timestamp": 1718155627508,
     "user": {
      "displayName": "Jiyi Li",
      "userId": "12552177904401594396"
     },
     "user_tz": -540
    },
    "id": "9fE46xLR0TkQ",
    "outputId": "ea4a6f80-11d8-4ade-d1a4-3bc7106d803d"
   },
   "outputs": [
    {
     "name": "stdout",
     "output_type": "stream",
     "text": [
      "[0.0, 0.0, 0.0]\n",
      "[0.26329381475651986, 0.20154134302940427, 0.17511781344081512]\n",
      "[1.0, 0.7142857142857143, 0.7142857142857143]\n",
      "[0.2055638208998254, 0.1485730584592399, 0.14489547952870194]\n"
     ]
    }
   ],
   "source": [
    "# J1\n",
    "labelfilename = folder + 'CrowdWSA2019_J1_label_3temperature_trial0_gemini-1.5-pro-latest.tsv'\n",
    "gtfilename = folder + 'CrowdWSA2019_J1_gt.tsv'\n",
    "\n",
    "(workers,sentences,swlabels,truelabels) = loaddata(labelfilename,gtfilename)\n",
    "(labellist,slabelidlists,sworkeridlists,wlabelidlists,wsentenceidlists) = labelformatconversion(workers,sentences,swlabels)\n",
    "(truelabellist) = truelabelformatonversion(sentences,truelabels)\n",
    "\n",
    "quality = QuestionReliabilityGLEU(sentences, slabelidlists, np.asarray(labellist), np.asarray(truelabellist))\n",
    "j1questiongleu = quality\n",
    "\n",
    "# T1\n",
    "labelfilename = folder + 'CrowdWSA2019_T1_label_3temperature_trial0_gemini-1.5-pro-latest.tsv'\n",
    "gtfilename = folder + 'CrowdWSA2019_T1_gt.tsv'\n",
    "\n",
    "(workers,sentences,swlabels,truelabels) = loaddata(labelfilename,gtfilename)\n",
    "(labellist,slabelidlists,sworkeridlists,wlabelidlists,wsentenceidlists) = labelformatconversion(workers,sentences,swlabels)\n",
    "(truelabellist) = truelabelformatonversion(sentences,truelabels)\n",
    "\n",
    "quality = QuestionReliabilityGLEU(sentences, slabelidlists, np.asarray(labellist), np.asarray(truelabellist))\n",
    "t1questiongleu = quality\n",
    "\n",
    "# T2\n",
    "labelfilename = folder + 'CrowdWSA2019_T2_label_3temperature_trial0_gemini-1.5-pro-latest.tsv'\n",
    "gtfilename = folder + 'CrowdWSA2019_T2_gt.tsv'\n",
    "\n",
    "(workers,sentences,swlabels,truelabels) = loaddata(labelfilename,gtfilename)\n",
    "(labellist,slabelidlists,sworkeridlists,wlabelidlists,wsentenceidlists) = labelformatconversion(workers,sentences,swlabels)\n",
    "(truelabellist) = truelabelformatonversion(sentences,truelabels)\n",
    "\n",
    "quality = QuestionReliabilityGLEU(sentences, slabelidlists, np.asarray(labellist), np.asarray(truelabellist))\n",
    "t2questiongleu = quality\n",
    "\n",
    "print([np.min(j1questiongleu),np.min(t1questiongleu),np.min(t2questiongleu)])\n",
    "print([np.mean(j1questiongleu),np.mean(t1questiongleu),np.mean(t2questiongleu)])\n",
    "print([np.max(j1questiongleu),np.max(t1questiongleu),np.max(t2questiongleu)])\n",
    "print([np.std(j1questiongleu),np.std(t1questiongleu),np.std(t2questiongleu)])"
   ]
  },
  {
   "cell_type": "code",
   "execution_count": null,
   "metadata": {
    "colab": {
     "base_uri": "https://localhost:8080/"
    },
    "executionInfo": {
     "elapsed": 2501,
     "status": "ok",
     "timestamp": 1718458293444,
     "user": {
      "displayName": "Jiyi Li",
      "userId": "12552177904401594396"
     },
     "user_tz": -540
    },
    "id": "Bh6akRqJGASW",
    "outputId": "f8f7b0c3-088f-435d-accd-beb4e0049d10"
   },
   "outputs": [
    {
     "name": "stdout",
     "output_type": "stream",
     "text": [
      "Inter-Annotator Agreement\n",
      "[0.7749407862360516, 0.8028466366416024, 0.7853553973365477]\n"
     ]
    }
   ],
   "source": [
    "# J1\n",
    "labelfilename = folder + 'CrowdWSA2019_J1_label_3temperature_trial0_gemini-1.5-pro-latest.tsv'\n",
    "gtfilename = folder + 'CrowdWSA2019_J1_gt.tsv'\n",
    "\n",
    "(workers,sentences,swlabels,truelabels) = loaddata(labelfilename,gtfilename)\n",
    "(labellist,slabelidlists,sworkeridlists,wlabelidlists,wsentenceidlists) = labelformatconversion(workers,sentences,swlabels)\n",
    "(truelabellist) = truelabelformatonversion(sentences,truelabels)\n",
    "\n",
    "quality = QuestionReliabilityGLEUInter(sentences, slabelidlists, np.asarray(labellist), np.asarray(truelabellist))\n",
    "j1questiongleu = quality\n",
    "\n",
    "# T1\n",
    "labelfilename = folder + 'CrowdWSA2019_T1_label_3temperature_trial0_gemini-1.5-pro-latest.tsv'\n",
    "gtfilename = folder + 'CrowdWSA2019_T1_gt.tsv'\n",
    "\n",
    "(workers,sentences,swlabels,truelabels) = loaddata(labelfilename,gtfilename)\n",
    "(labellist,slabelidlists,sworkeridlists,wlabelidlists,wsentenceidlists) = labelformatconversion(workers,sentences,swlabels)\n",
    "(truelabellist) = truelabelformatonversion(sentences,truelabels)\n",
    "\n",
    "quality = QuestionReliabilityGLEUInter(sentences, slabelidlists, np.asarray(labellist), np.asarray(truelabellist))\n",
    "t1questiongleu = quality\n",
    "\n",
    "# T2\n",
    "labelfilename = folder + 'CrowdWSA2019_T2_label_3temperature_trial0_gemini-1.5-pro-latest.tsv'\n",
    "gtfilename = folder + 'CrowdWSA2019_T2_gt.tsv'\n",
    "\n",
    "(workers,sentences,swlabels,truelabels) = loaddata(labelfilename,gtfilename)\n",
    "(labellist,slabelidlists,sworkeridlists,wlabelidlists,wsentenceidlists) = labelformatconversion(workers,sentences,swlabels)\n",
    "(truelabellist) = truelabelformatonversion(sentences,truelabels)\n",
    "\n",
    "quality = QuestionReliabilityGLEUInter(sentences, slabelidlists, np.asarray(labellist), np.asarray(truelabellist))\n",
    "t2questiongleu = quality\n",
    "\n",
    "print('Inter-Annotator Agreement')\n",
    "print([np.mean(j1questiongleu),np.mean(t1questiongleu),np.mean(t2questiongleu)])"
   ]
  },
  {
   "cell_type": "markdown",
   "metadata": {
    "id": "BagjZ7b6hpXM"
   },
   "source": [
    "### Worker METEOR"
   ]
  },
  {
   "cell_type": "code",
   "execution_count": null,
   "metadata": {
    "colab": {
     "base_uri": "https://localhost:8080/"
    },
    "executionInfo": {
     "elapsed": 2715,
     "status": "ok",
     "timestamp": 1718118820100,
     "user": {
      "displayName": "Jiyi Li",
      "userId": "12552177904401594396"
     },
     "user_tz": -540
    },
    "id": "aY_grZnbhzJF",
    "outputId": "3c34043e-87a3-45d4-d65c-452c7b25879c"
   },
   "outputs": [
    {
     "name": "stdout",
     "output_type": "stream",
     "text": [
      "[0.48688476642407547, 0.4165467270307604, 0.3754233042779632]\n",
      "[0.4925553566644423, 0.42180923722406827, 0.3833222793399864]\n",
      "[0.49931582980242156, 0.43096990143965963, 0.39407064961732075]\n",
      "[0.005133141840172578, 0.006501471299814404, 0.00787486134782037]\n"
     ]
    }
   ],
   "source": [
    "# J1\n",
    "labelfilename = folder + 'CrowdWSA2019_J1_label_3temperature_trial0_gemini-1.5-pro-latest.tsv'\n",
    "gtfilename = folder + 'CrowdWSA2019_J1_gt.tsv'\n",
    "\n",
    "(workers,sentences,swlabels,truelabels) = loaddata(labelfilename,gtfilename)\n",
    "(labellist,slabelidlists,sworkeridlists,wlabelidlists,wsentenceidlists) = labelformatconversion(workers,sentences,swlabels)\n",
    "(truelabellist) = truelabelformatonversion(sentences,truelabels)\n",
    "\n",
    "reliability = WorkerReliabilityMETEOR(workers, sentences, wlabelidlists, wsentenceidlists, np.asarray(labellist), np.asarray(truelabellist))\n",
    "j1workermeteor = reliability\n",
    "\n",
    "# T1\n",
    "labelfilename = folder + 'CrowdWSA2019_T1_label_3temperature_trial0_gemini-1.5-pro-latest.tsv'\n",
    "gtfilename = folder + 'CrowdWSA2019_T1_gt.tsv'\n",
    "\n",
    "(workers,sentences,swlabels,truelabels) = loaddata(labelfilename,gtfilename)\n",
    "(labellist,slabelidlists,sworkeridlists,wlabelidlists,wsentenceidlists) = labelformatconversion(workers,sentences,swlabels)\n",
    "(truelabellist) = truelabelformatonversion(sentences,truelabels)\n",
    "\n",
    "reliability = WorkerReliabilityMETEOR(workers, sentences, wlabelidlists, wsentenceidlists, np.asarray(labellist), np.asarray(truelabellist))\n",
    "t1workermeteor = reliability\n",
    "\n",
    "# T2\n",
    "labelfilename = folder + 'CrowdWSA2019_T2_label_3temperature_trial0_gemini-1.5-pro-latest.tsv'\n",
    "gtfilename = folder + 'CrowdWSA2019_T2_gt.tsv'\n",
    "\n",
    "(workers,sentences,swlabels,truelabels) = loaddata(labelfilename,gtfilename)\n",
    "(labellist,slabelidlists,sworkeridlists,wlabelidlists,wsentenceidlists) = labelformatconversion(workers,sentences,swlabels)\n",
    "(truelabellist) = truelabelformatonversion(sentences,truelabels)\n",
    "\n",
    "reliability = WorkerReliabilityMETEOR(workers, sentences, wlabelidlists, wsentenceidlists, np.asarray(labellist), np.asarray(truelabellist))\n",
    "t2workermeteor = reliability\n",
    "\n",
    "print([np.min(j1workermeteor),np.min(t1workermeteor),np.min(t2workermeteor)])\n",
    "print([np.mean(j1workermeteor),np.mean(t1workermeteor),np.mean(t2workermeteor)])\n",
    "print([np.max(j1workermeteor),np.max(t1workermeteor),np.max(t2workermeteor)])\n",
    "print([np.std(j1workermeteor),np.std(t1workermeteor),np.std(t2workermeteor)])"
   ]
  },
  {
   "cell_type": "markdown",
   "metadata": {
    "id": "RZF-IDeKhty4"
   },
   "source": [
    "### Question METEOR"
   ]
  },
  {
   "cell_type": "code",
   "execution_count": null,
   "metadata": {
    "colab": {
     "base_uri": "https://localhost:8080/"
    },
    "executionInfo": {
     "elapsed": 2584,
     "status": "ok",
     "timestamp": 1718155630091,
     "user": {
      "displayName": "Jiyi Li",
      "userId": "12552177904401594396"
     },
     "user_tz": -540
    },
    "id": "_HD8E62Ph7pP",
    "outputId": "294944c9-8a1e-45f5-d209-e5eb64454843"
   },
   "outputs": [
    {
     "name": "stdout",
     "output_type": "stream",
     "text": [
      "[0.0, 0.0, 0.014492753623188406]\n",
      "[0.4925553566644425, 0.4218092372240683, 0.3833222793399865]\n",
      "[0.9994999999999999, 0.8972972972972975, 0.8399159663865547]\n",
      "[0.2262523063295898, 0.19312748818173903, 0.19455235270177124]\n"
     ]
    }
   ],
   "source": [
    "# J1\n",
    "labelfilename = folder + 'CrowdWSA2019_J1_label_3temperature_trial0_gemini-1.5-pro-latest.tsv'\n",
    "gtfilename = folder + 'CrowdWSA2019_J1_gt.tsv'\n",
    "\n",
    "(workers,sentences,swlabels,truelabels) = loaddata(labelfilename,gtfilename)\n",
    "(labellist,slabelidlists,sworkeridlists,wlabelidlists,wsentenceidlists) = labelformatconversion(workers,sentences,swlabels)\n",
    "(truelabellist) = truelabelformatonversion(sentences,truelabels)\n",
    "\n",
    "quality = QuestionReliabilityMETEOR(sentences, slabelidlists, np.asarray(labellist), np.asarray(truelabellist))\n",
    "j1questionmeteor = quality\n",
    "\n",
    "# T1\n",
    "labelfilename = folder + 'CrowdWSA2019_T1_label_3temperature_trial0_gemini-1.5-pro-latest.tsv'\n",
    "gtfilename = folder + 'CrowdWSA2019_T1_gt.tsv'\n",
    "\n",
    "(workers,sentences,swlabels,truelabels) = loaddata(labelfilename,gtfilename)\n",
    "(labellist,slabelidlists,sworkeridlists,wlabelidlists,wsentenceidlists) = labelformatconversion(workers,sentences,swlabels)\n",
    "(truelabellist) = truelabelformatonversion(sentences,truelabels)\n",
    "\n",
    "quality = QuestionReliabilityMETEOR(sentences, slabelidlists, np.asarray(labellist), np.asarray(truelabellist))\n",
    "t1questionmeteor = quality\n",
    "\n",
    "# T2\n",
    "labelfilename = folder + 'CrowdWSA2019_T2_label_3temperature_trial0_gemini-1.5-pro-latest.tsv'\n",
    "gtfilename = folder + 'CrowdWSA2019_T2_gt.tsv'\n",
    "\n",
    "(workers,sentences,swlabels,truelabels) = loaddata(labelfilename,gtfilename)\n",
    "(labellist,slabelidlists,sworkeridlists,wlabelidlists,wsentenceidlists) = labelformatconversion(workers,sentences,swlabels)\n",
    "(truelabellist) = truelabelformatonversion(sentences,truelabels)\n",
    "\n",
    "quality = QuestionReliabilityMETEOR(sentences, slabelidlists, np.asarray(labellist), np.asarray(truelabellist))\n",
    "t2questionmeteor = quality\n",
    "\n",
    "print([np.min(j1questionmeteor),np.min(t1questionmeteor),np.min(t2questionmeteor)])\n",
    "print([np.mean(j1questionmeteor),np.mean(t1questionmeteor),np.mean(t2questionmeteor)])\n",
    "print([np.max(j1questionmeteor),np.max(t1questionmeteor),np.max(t2questionmeteor)])\n",
    "print([np.std(j1questionmeteor),np.std(t1questionmeteor),np.std(t2questionmeteor)])"
   ]
  },
  {
   "cell_type": "code",
   "execution_count": null,
   "metadata": {
    "colab": {
     "base_uri": "https://localhost:8080/"
    },
    "executionInfo": {
     "elapsed": 979,
     "status": "ok",
     "timestamp": 1718458541356,
     "user": {
      "displayName": "Jiyi Li",
      "userId": "12552177904401594396"
     },
     "user_tz": -540
    },
    "id": "mA11DUR9HAz1",
    "outputId": "f193ceb0-4faa-4f0b-a471-ccc9c295b325"
   },
   "outputs": [
    {
     "name": "stdout",
     "output_type": "stream",
     "text": [
      "Inter-Annotator Agreement\n",
      "[0.8792202361105649, 0.8830406459094042, 0.8728183947814567]\n"
     ]
    }
   ],
   "source": [
    "# J1\n",
    "labelfilename = folder + 'CrowdWSA2019_J1_label_3temperature_trial0_gemini-1.5-pro-latest.tsv'\n",
    "gtfilename = folder + 'CrowdWSA2019_J1_gt.tsv'\n",
    "\n",
    "(workers,sentences,swlabels,truelabels) = loaddata(labelfilename,gtfilename)\n",
    "(labellist,slabelidlists,sworkeridlists,wlabelidlists,wsentenceidlists) = labelformatconversion(workers,sentences,swlabels)\n",
    "(truelabellist) = truelabelformatonversion(sentences,truelabels)\n",
    "\n",
    "quality = QuestionReliabilityMETEORInter(sentences, slabelidlists, np.asarray(labellist), np.asarray(truelabellist))\n",
    "j1questionmeteor = quality\n",
    "\n",
    "# T1\n",
    "labelfilename = folder + 'CrowdWSA2019_T1_label_3temperature_trial0_gemini-1.5-pro-latest.tsv'\n",
    "gtfilename = folder + 'CrowdWSA2019_T1_gt.tsv'\n",
    "\n",
    "(workers,sentences,swlabels,truelabels) = loaddata(labelfilename,gtfilename)\n",
    "(labellist,slabelidlists,sworkeridlists,wlabelidlists,wsentenceidlists) = labelformatconversion(workers,sentences,swlabels)\n",
    "(truelabellist) = truelabelformatonversion(sentences,truelabels)\n",
    "\n",
    "quality = QuestionReliabilityMETEORInter(sentences, slabelidlists, np.asarray(labellist), np.asarray(truelabellist))\n",
    "t1questionmeteor = quality\n",
    "\n",
    "# T2\n",
    "labelfilename = folder + 'CrowdWSA2019_T2_label_3temperature_trial0_gemini-1.5-pro-latest.tsv'\n",
    "gtfilename = folder + 'CrowdWSA2019_T2_gt.tsv'\n",
    "\n",
    "(workers,sentences,swlabels,truelabels) = loaddata(labelfilename,gtfilename)\n",
    "(labellist,slabelidlists,sworkeridlists,wlabelidlists,wsentenceidlists) = labelformatconversion(workers,sentences,swlabels)\n",
    "(truelabellist) = truelabelformatonversion(sentences,truelabels)\n",
    "\n",
    "quality = QuestionReliabilityMETEORInter(sentences, slabelidlists, np.asarray(labellist), np.asarray(truelabellist))\n",
    "t2questionmeteor = quality\n",
    "\n",
    "print('Inter-Annotator Agreement')\n",
    "print([np.mean(j1questionmeteor),np.mean(t1questionmeteor),np.mean(t2questionmeteor)])"
   ]
  }
 ],
 "metadata": {
  "accelerator": "TPU",
  "colab": {
   "provenance": [
    {
     "file_id": "198oF_9-dT5CwD7cHZEFCpzn9QYVdH0Pg",
     "timestamp": 1569504509531
    },
    {
     "file_id": "14HCYcgjrpLo4LoAvDRHtrLeg-SJL-zOl",
     "timestamp": 1569397274681
    },
    {
     "file_id": "19jaCvZlV5992LQQ_r2JW6Mf2CK0GiCRu",
     "timestamp": 1562906545151
    },
    {
     "file_id": "https://github.com/tensorflow/hub/blob/master/examples/colab/semantic_similarity_with_tf_hub_universal_encoder.ipynb",
     "timestamp": 1545057628494
    }
   ],
   "toc_visible": true
  },
  "kernelspec": {
   "display_name": "Python 3",
   "language": "python",
   "name": "python3"
  },
  "language_info": {
   "codemirror_mode": {
    "name": "ipython",
    "version": 3
   },
   "file_extension": ".py",
   "mimetype": "text/x-python",
   "name": "python",
   "nbconvert_exporter": "python",
   "pygments_lexer": "ipython3",
   "version": "3.7.10"
  },
  "toc": {
   "base_numbering": 1,
   "nav_menu": {},
   "number_sections": true,
   "sideBar": true,
   "skip_h1_title": false,
   "title_cell": "Table of Contents",
   "title_sidebar": "Contents",
   "toc_cell": false,
   "toc_position": {},
   "toc_section_display": true,
   "toc_window_display": false
  }
 },
 "nbformat": 4,
 "nbformat_minor": 1
}
