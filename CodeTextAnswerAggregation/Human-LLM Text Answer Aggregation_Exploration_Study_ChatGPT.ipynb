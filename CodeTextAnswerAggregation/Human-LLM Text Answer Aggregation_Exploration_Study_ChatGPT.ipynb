{
 "cells": [
  {
   "cell_type": "markdown",
   "metadata": {
    "id": "ApIyCfhnzPob"
   },
   "source": [
    "#Data Helper"
   ]
  },
  {
   "cell_type": "code",
   "execution_count": null,
   "metadata": {
    "colab": {
     "base_uri": "https://localhost:8080/"
    },
    "id": "RPR1wqDd37jP",
    "outputId": "495d77f1-3263-4c0d-894d-4860793b77d1"
   },
   "outputs": [],
   "source": [
    "from google.colab import drive\n",
    "drive.mount('/content/drive')"
   ]
  },
  {
   "cell_type": "code",
   "execution_count": null,
   "metadata": {
    "colab": {
     "base_uri": "https://localhost:8080/"
    },
    "id": "7JNbgehXd9Bi",
    "outputId": "53d7ba5b-dce3-4f34-dac9-f3dd782a9a68"
   },
   "outputs": [],
   "source": [
    "workfolder = \"MyDrive/HumanLLMTextAnswerAgg/ChatGPT/\"\n",
    "folder = \"data/\"\n",
    "\n",
    "import os\n",
    "os.chdir('/content/drive')\n",
    "os.chdir(workfolder)\n",
    "!ls"
   ]
  },
  {
   "cell_type": "code",
   "execution_count": null,
   "metadata": {
    "id": "m_6GqVGnid4q"
   },
   "outputs": [],
   "source": [
    "import pandas as pd\n",
    "import numpy as np\n",
    "\n",
    "def loaddata(labelfilename,gtfilename):\n",
    "  gtdf = pd.read_csv(gtfilename,sep='\\t',encoding='utf-8')\n",
    "\n",
    "  sentences = gtdf['sentence'].values.tolist()\n",
    "  truelabels = {}\n",
    "  for idx,row in gtdf.iterrows():\n",
    "    truelabels[row['sentence']] = row['trueanswer']\n",
    "\n",
    "  labeldf = pd.read_csv(labelfilename,sep='\\t',encoding='utf-8')\n",
    "\n",
    "  workers = []\n",
    "  swlabels = []\n",
    "\n",
    "  for idx,row in labeldf.iterrows():\n",
    "    worker = row['worker']\n",
    "    if worker not in workers:\n",
    "      workers.append(worker)\n",
    "    workerid = workers.index(worker)\n",
    "    sentenceid = sentences.index(row['sentence'])\n",
    "    label = row['workeranswer'].strip()\n",
    "    swlabels.append((sentenceid,workerid,label))\n",
    "\n",
    "  return (workers,sentences,swlabels,truelabels)\n",
    "\n",
    "def labelformatconversion(workers,sentences,swlabels):\n",
    "  wlabelidlists = {}\n",
    "  wsentenceidlists = {}\n",
    "  for worker in workers:\n",
    "    wlabelidlists[worker] = []\n",
    "    wsentenceidlists[worker] = []\n",
    "\n",
    "  slabelidlists = {}\n",
    "  sworkeridlists = {}\n",
    "  for sentence in sentences:\n",
    "    slabelidlists[sentence] = []\n",
    "    sworkeridlists[sentence] = []\n",
    "\n",
    "  labellist = []\n",
    "  labelidx = 0\n",
    "  for (sentenceid,workerid,label) in swlabels:\n",
    "    labellist.append(label)\n",
    "    sentence = sentences[sentenceid]\n",
    "    slabelidlists[sentence].append(labelidx)\n",
    "    sworkeridlists[sentence].append(workerid)\n",
    "    worker = workers[workerid]\n",
    "    wlabelidlists[worker].append(labelidx)\n",
    "    wsentenceidlists[worker].append(sentenceid)\n",
    "    labelidx += 1\n",
    "\n",
    "  return (labellist,slabelidlists,sworkeridlists,wlabelidlists,wsentenceidlists)\n",
    "\n",
    "def truelabelformatonversion(sentences,truelabels):\n",
    "  truelabellist = []\n",
    "  for i in range(len(sentences)):\n",
    "    sentence = sentences[i]\n",
    "    truelabellist.append(truelabels[sentence])\n",
    "\n",
    "  return truelabellist"
   ]
  },
  {
   "cell_type": "markdown",
   "metadata": {
    "id": "fPS2voaTz2yA"
   },
   "source": [
    "# Universal Sentence Encoder"
   ]
  },
  {
   "cell_type": "code",
   "execution_count": null,
   "metadata": {
    "id": "bFUa2_Yp_Hov"
   },
   "outputs": [],
   "source": [
    "# Install the latest Tensorflow version.\n",
    "!pip3 install --quiet \"tensorflow>=1.7\"\n",
    "# Install TF-Hub.\n",
    "!pip3 install --quiet tensorflow-hub\n",
    "!pip3 install --quiet seaborn"
   ]
  },
  {
   "cell_type": "code",
   "execution_count": null,
   "metadata": {
    "colab": {
     "base_uri": "https://localhost:8080/"
    },
    "id": "7pVpk5Jg_J6k",
    "outputId": "3c513b37-a7a8-4eed-9ed9-d860efba6d6e"
   },
   "outputs": [
    {
     "name": "stderr",
     "output_type": "stream",
     "text": [
      "WARNING:tensorflow:From /usr/local/lib/python3.10/dist-packages/tensorflow/python/compat/v2_compat.py:108: disable_resource_variables (from tensorflow.python.ops.variable_scope) is deprecated and will be removed in a future version.\n",
      "Instructions for updating:\n",
      "non-resource variables are not supported in the long term\n"
     ]
    }
   ],
   "source": [
    "#import tensorflow as tf\n",
    "import tensorflow.compat.v1 as tf\n",
    "tf.disable_v2_behavior()\n",
    "import tensorflow_hub as hub\n",
    "import os\n",
    "import re"
   ]
  },
  {
   "cell_type": "code",
   "execution_count": null,
   "metadata": {
    "id": "fTgWfpMU_NDW"
   },
   "outputs": [],
   "source": [
    "#module_url = \"https://tfhub.dev/google/universal-sentence-encoder/2\" #@param [\"https://tfhub.dev/google/universal-sentence-encoder/2\", \"https://tfhub.dev/google/universal-sentence-encoder-large/3\"]"
   ]
  },
  {
   "cell_type": "code",
   "execution_count": null,
   "metadata": {
    "id": "oPBtI8rFeWA-"
   },
   "outputs": [],
   "source": [
    "module_url = \"https://tfhub.dev/google/universal-sentence-encoder/4\""
   ]
  },
  {
   "cell_type": "markdown",
   "metadata": {
    "id": "i0SgMy6k_rvV"
   },
   "source": [
    "# Evaluation Method"
   ]
  },
  {
   "cell_type": "code",
   "execution_count": null,
   "metadata": {
    "id": "SEtDUi895wlp"
   },
   "outputs": [],
   "source": [
    "DEFAULT_SIM_TYPE = 'COSINE'\n",
    "def similarity(embed1, embed2, simtype = DEFAULT_SIM_TYPE):\n",
    "  if (simtype == 'COSINE'):\n",
    "    l1 = np.sqrt(np.sum(embed1**2))\n",
    "    l2 = np.sqrt(np.sum(embed2**2))\n",
    "    sim = np.inner(embed1,embed2) / (l1*l2)\n",
    "\n",
    "  return sim"
   ]
  },
  {
   "cell_type": "markdown",
   "metadata": {
    "id": "9lAPMiUblQB9"
   },
   "source": [
    "## Embedding"
   ]
  },
  {
   "cell_type": "code",
   "execution_count": null,
   "metadata": {
    "id": "BqJP7lGCcXoA"
   },
   "outputs": [],
   "source": [
    "def evaluationbyEmbedding(sentences, elabels, label_embeddings, truelabels, truelabel_embeddings):\n",
    "  totalsim = 0\n",
    "  for sentence in elabels:\n",
    "    elabel_embedding = label_embeddings[elabels[sentence]]\n",
    "    truelabel_embedding = truelabel_embeddings[sentences.index(sentence)]\n",
    "    totalsim += similarity(elabel_embedding,truelabel_embedding)\n",
    "\n",
    "  #print(len(elabels),totalsim/len(elabels))\n",
    "  return totalsim/len(elabels)\n"
   ]
  },
  {
   "cell_type": "markdown",
   "metadata": {
    "id": "edlrVNvtlRPF"
   },
   "source": [
    "## GLEU"
   ]
  },
  {
   "cell_type": "code",
   "execution_count": null,
   "metadata": {
    "colab": {
     "base_uri": "https://localhost:8080/"
    },
    "id": "YFqsU43l0OF9",
    "outputId": "5d0bb446-2a25-4c86-c7d5-9cb13f95f89c"
   },
   "outputs": [
    {
     "name": "stderr",
     "output_type": "stream",
     "text": [
      "[nltk_data] Downloading package punkt to /root/nltk_data...\n",
      "[nltk_data]   Unzipping tokenizers/punkt.zip.\n"
     ]
    }
   ],
   "source": [
    "import nltk\n",
    "import nltk.translate.gleu_score as gleu\n",
    "\n",
    "try:\n",
    "  nltk.data.find('tokenizers/punkt')\n",
    "except LookupError:\n",
    "  nltk.download('punkt')\n",
    "\n",
    "def evaluationbyGLEU(sentences, labels, elabelidxs, truelabels):\n",
    "  n = len(sentences)\n",
    "  sim = 0\n",
    "  for i in range(n):\n",
    "    sentence = sentences[i]\n",
    "    labelidx = elabelidxs[sentence]\n",
    "    label = labels[labelidx]\n",
    "    truelabel = truelabels[sentence]\n",
    "    sim += gleu.sentence_gleu([truelabel.split()], label.split())\n",
    "  #print(n,sim/n)\n",
    "  return sim/n"
   ]
  },
  {
   "cell_type": "markdown",
   "metadata": {
    "id": "tIeC7xA8X0ZD"
   },
   "source": [
    "## METEOR"
   ]
  },
  {
   "cell_type": "code",
   "execution_count": null,
   "metadata": {
    "colab": {
     "base_uri": "https://localhost:8080/"
    },
    "id": "VmeYv0HnXzYt",
    "outputId": "e86875fd-2f93-4b22-a47f-41811446d1e8"
   },
   "outputs": [
    {
     "name": "stderr",
     "output_type": "stream",
     "text": [
      "[nltk_data] Downloading package wordnet to /root/nltk_data...\n"
     ]
    }
   ],
   "source": [
    "import nltk\n",
    "import nltk.translate.meteor_score as meteor\n",
    "\n",
    "try:\n",
    "  nltk.data.find('tokenizers/punkt')\n",
    "except LookupError:\n",
    "  nltk.download('punkt')\n",
    "\n",
    "try:\n",
    "  nltk.data.find('wordnet')\n",
    "except LookupError:\n",
    "  nltk.download('wordnet')\n",
    "\n",
    "def evaluationbyMETEOR(sentences, labels, elabelidxs, truelabels):\n",
    "  n = len(sentences)\n",
    "  sim = 0\n",
    "  for i in range(n):\n",
    "    sentence = sentences[i]\n",
    "    labelidx = elabelidxs[sentence]\n",
    "    label = labels[labelidx]\n",
    "    truelabel = truelabels[sentence]\n",
    "    sim += meteor.meteor_score([truelabel.split()], label.split())\n",
    "  #print(n,sim/n)\n",
    "  return sim/n"
   ]
  },
  {
   "cell_type": "markdown",
   "metadata": {
    "id": "qe7P3aGepwFf"
   },
   "source": [
    "# Figures in Exploration Study"
   ]
  },
  {
   "cell_type": "markdown",
   "metadata": {
    "id": "vnDF1OBKS8Fa"
   },
   "source": [
    "## Embedding Functions"
   ]
  },
  {
   "cell_type": "markdown",
   "metadata": {
    "id": "dhrP6utuTAEP"
   },
   "source": [
    "### Worker Reliability"
   ]
  },
  {
   "cell_type": "code",
   "execution_count": null,
   "metadata": {
    "id": "k-DJB9XDglZF"
   },
   "outputs": [],
   "source": [
    "def WorkerReliabilityEmbedding(workers, sentences, wlabelidlists, wsentenceidlists, label_embeddings, truelabel_embeddings):\n",
    "  w_num = len(workers)\n",
    "  reliability = np.zeros(w_num)\n",
    "  s_num = len(sentences)\n",
    "\n",
    "  # compute reliability\n",
    "  for j in range(w_num):\n",
    "    worker = workers[j]\n",
    "    wtruelabel_embeddings = truelabel_embeddings[wsentenceidlists[worker]]\n",
    "    wlabelidlist = wlabelidlists[worker]\n",
    "    wlabel_embeddings = label_embeddings[wlabelidlist]\n",
    "\n",
    "    nw = len(wlabel_embeddings)\n",
    "    totalsim = 0\n",
    "    for i in range(nw):\n",
    "      elabel_embedding = wlabel_embeddings[i]\n",
    "      truelabel_embedding = wtruelabel_embeddings[i]\n",
    "      totalsim += similarity(elabel_embedding,truelabel_embedding)\n",
    "    reliability[j] = totalsim / nw\n",
    "\n",
    "  return reliability\n",
    "\n",
    "def DatasetWorkerReliabilityEmbedding(labelfilename,gtfilename):\n",
    "  (workers,sentences,swlabels,truelabels) = loaddata(labelfilename,gtfilename)\n",
    "  (labellist,slabelidlists,sworkeridlists,wlabelidlists,wsentenceidlists) = labelformatconversion(workers,sentences,swlabels)\n",
    "  (truelabellist) = truelabelformatonversion(sentences,truelabels)\n",
    "\n",
    "  #embed = hub.Module(module_url)\n",
    "  embed = hub.load(module_url)\n",
    "  tf.logging.set_verbosity(tf.logging.ERROR)\n",
    "  with tf.Session() as session:\n",
    "    session.run([tf.global_variables_initializer(), tf.tables_initializer()])\n",
    "    label_embeddings = session.run(embed(labellist))\n",
    "  with tf.Session() as session:\n",
    "    session.run([tf.global_variables_initializer(), tf.tables_initializer()])\n",
    "    truelabel_embeddings = session.run(embed(truelabellist))\n",
    "\n",
    "  workerreliability = WorkerReliabilityEmbedding(workers, sentences, wlabelidlists, wsentenceidlists, label_embeddings, truelabel_embeddings)\n",
    "\n",
    "  return workerreliability\n"
   ]
  },
  {
   "cell_type": "markdown",
   "metadata": {
    "id": "YAvGqi_2qaei"
   },
   "source": [
    "### Question Reliability"
   ]
  },
  {
   "cell_type": "code",
   "execution_count": null,
   "metadata": {
    "id": "LqMu1WkRqdB3"
   },
   "outputs": [],
   "source": [
    "def QuestionReliabilityEmbedding(sentences, slabelidlists, label_embeddings, truelabel_embeddings):\n",
    "  reliability = np.zeros(len(sentences))\n",
    "  for i in range(len(sentences)):\n",
    "    sentence = sentences[i]\n",
    "    truelabel_embedding = truelabel_embeddings[sentences.index(sentence)]\n",
    "    slabel_embeddings = label_embeddings[slabelidlists[sentence]]\n",
    "    ns = len(slabel_embeddings)\n",
    "    sim = 0\n",
    "    for k in range(ns):\n",
    "      label_embedding = slabel_embeddings[k]\n",
    "      sim += similarity(label_embedding,truelabel_embedding)\n",
    "    reliability[i] = sim / ns\n",
    "\n",
    "  return reliability\n",
    "\n",
    "def DatasetQuestionReliabilityEmbedding(labelfilename,gtfilename):\n",
    "  (workers,sentences,swlabels,truelabels) = loaddata(labelfilename,gtfilename)\n",
    "  (labellist,slabelidlists,sworkeridlists,wlabelidlists,wsentenceidlists) = labelformatconversion(workers,sentences,swlabels)\n",
    "  (truelabellist) = truelabelformatonversion(sentences,truelabels)\n",
    "\n",
    "  #embed = hub.Module(module_url)\n",
    "  embed = hub.load(module_url)\n",
    "  tf.logging.set_verbosity(tf.logging.ERROR)\n",
    "  with tf.Session() as session:\n",
    "    session.run([tf.global_variables_initializer(), tf.tables_initializer()])\n",
    "    label_embeddings = session.run(embed(labellist))\n",
    "  with tf.Session() as session:\n",
    "    session.run([tf.global_variables_initializer(), tf.tables_initializer()])\n",
    "    truelabel_embeddings = session.run(embed(truelabellist))\n",
    "\n",
    "  questionreliability = QuestionReliabilityEmbedding(sentences, slabelidlists, label_embeddings, truelabel_embeddings)\n",
    "\n",
    "  return questionreliability"
   ]
  },
  {
   "cell_type": "code",
   "execution_count": null,
   "metadata": {
    "id": "oRadXW26KWOw"
   },
   "outputs": [],
   "source": [
    "def QuestionReliabilityEmbeddingInter(sentences, slabelidlists, label_embeddings, truelabel_embeddings):\n",
    "  reliability = np.zeros(len(sentences))\n",
    "  for i in range(len(sentences)):\n",
    "    sentence = sentences[i]\n",
    "    truelabel_embedding = truelabel_embeddings[sentences.index(sentence)]\n",
    "    slabel_embeddings = label_embeddings[slabelidlists[sentence]]\n",
    "    ns = len(slabel_embeddings)\n",
    "    sim = 0\n",
    "    count = 0\n",
    "    for k1 in range(ns):\n",
    "      label1_embedding = slabel_embeddings[k1]\n",
    "      for k2 in range(k1+1,ns):\n",
    "        label2_embedding = slabel_embeddings[k2]\n",
    "        sim += similarity(label2_embedding,label1_embedding)\n",
    "        count += 1\n",
    "    reliability[i] = sim / count\n",
    "\n",
    "  return reliability\n",
    "\n",
    "def DatasetQuestionReliabilityEmbeddingInter(labelfilename,gtfilename):\n",
    "  (workers,sentences,swlabels,truelabels) = loaddata(labelfilename,gtfilename)\n",
    "  (labellist,slabelidlists,sworkeridlists,wlabelidlists,wsentenceidlists) = labelformatconversion(workers,sentences,swlabels)\n",
    "  (truelabellist) = truelabelformatonversion(sentences,truelabels)\n",
    "\n",
    "  #embed = hub.Module(module_url)\n",
    "  embed = hub.load(module_url)\n",
    "  tf.logging.set_verbosity(tf.logging.ERROR)\n",
    "  with tf.Session() as session:\n",
    "    session.run([tf.global_variables_initializer(), tf.tables_initializer()])\n",
    "    label_embeddings = session.run(embed(labellist))\n",
    "  with tf.Session() as session:\n",
    "    session.run([tf.global_variables_initializer(), tf.tables_initializer()])\n",
    "    truelabel_embeddings = session.run(embed(truelabellist))\n",
    "\n",
    "  questionreliability = QuestionReliabilityEmbeddingInter(sentences, slabelidlists, label_embeddings, truelabel_embeddings)\n",
    "\n",
    "  return questionreliability"
   ]
  },
  {
   "cell_type": "markdown",
   "metadata": {
    "id": "4fWI05-NEIej"
   },
   "source": [
    "##GLEU Functions"
   ]
  },
  {
   "cell_type": "markdown",
   "metadata": {
    "id": "g6HojDdOExG8"
   },
   "source": [
    "### Worker GLEU"
   ]
  },
  {
   "cell_type": "code",
   "execution_count": null,
   "metadata": {
    "id": "Q7HRz8YgEwki"
   },
   "outputs": [],
   "source": [
    "def WorkerReliabilityGLEU(workers, sentences, wlabelidlists, wsentenceidlists, labels, truelabels):\n",
    "  w_num = len(workers)\n",
    "  reliability = np.zeros(w_num)\n",
    "  s_num = len(sentences)\n",
    "\n",
    "  for j in range(w_num):\n",
    "    worker = workers[j]\n",
    "    wtruelabels = truelabels[wsentenceidlists[worker]]\n",
    "    wlabelidlist = wlabelidlists[worker]\n",
    "    wlabels = labels[wlabelidlist]\n",
    "\n",
    "    nw = len(wlabels)\n",
    "    totalsim = 0\n",
    "    for i in range(nw):\n",
    "      label = wlabels[i]\n",
    "      truelabel = wtruelabels[i]\n",
    "      totalsim += gleu.sentence_gleu([truelabel.split()], label.split())\n",
    "    reliability[j] = totalsim / nw\n",
    "\n",
    "  return reliability"
   ]
  },
  {
   "cell_type": "markdown",
   "metadata": {
    "id": "j1FVmYNUF4Hj"
   },
   "source": [
    "###Question GLEU"
   ]
  },
  {
   "cell_type": "code",
   "execution_count": null,
   "metadata": {
    "id": "CkwdJ5ALF6gl"
   },
   "outputs": [],
   "source": [
    "def QuestionReliabilityGLEU(sentences, slabelidlists, labels, truelabels):\n",
    "  reliability = np.zeros(len(sentences))\n",
    "  for i in range(len(sentences)):\n",
    "    sentence = sentences[i]\n",
    "    truelabel = truelabels[sentences.index(sentence)]\n",
    "    slabels = labels[slabelidlists[sentence]]\n",
    "    ns = len(slabels)\n",
    "    sim = 0\n",
    "    for k in range(ns):\n",
    "      label = slabels[k]\n",
    "      sim += gleu.sentence_gleu([truelabel.split()], label.split())\n",
    "    reliability[i] = sim / ns\n",
    "\n",
    "  return reliability"
   ]
  },
  {
   "cell_type": "code",
   "execution_count": null,
   "metadata": {
    "id": "Sv3n57U9KcTr"
   },
   "outputs": [],
   "source": [
    "def QuestionReliabilityGLEUVec(sentences, slabelidlists, labels, truelabels):\n",
    "  reliabilityvec = np.zeros((len(sentences),len(labels[slabelidlists[sentences[0]]])))\n",
    "  for i in range(len(sentences)):\n",
    "    sentence = sentences[i]\n",
    "    truelabel = truelabels[sentences.index(sentence)]\n",
    "    slabels = labels[slabelidlists[sentence]]\n",
    "    ns = len(slabels)\n",
    "    sim = 0\n",
    "    for k in range(ns):\n",
    "      label = slabels[k]\n",
    "      #sim += gleu.sentence_gleu([truelabel.split()], label.split())\n",
    "      reliabilityvec[i][k] = gleu.sentence_gleu([truelabel.split()], label.split())\n",
    "\n",
    "  return reliabilityvec"
   ]
  },
  {
   "cell_type": "code",
   "execution_count": null,
   "metadata": {
    "id": "CwP_PVCVKem1"
   },
   "outputs": [],
   "source": [
    "def QuestionReliabilityGLEUInter(sentences, slabelidlists, labels, truelabels):\n",
    "  reliabilityInter = np.zeros(len(sentences))\n",
    "  for i in range(len(sentences)):\n",
    "    sentence = sentences[i]\n",
    "    truelabel = truelabels[sentences.index(sentence)]\n",
    "    slabels = labels[slabelidlists[sentence]]\n",
    "    ns = len(slabels)\n",
    "    sim = 0\n",
    "    count = 0\n",
    "    for k1 in range(ns):\n",
    "      label1 = slabels[k1]\n",
    "      for k2 in range(k1+1,ns):\n",
    "        label2 = slabels[k2]\n",
    "        sim += gleu.sentence_gleu([label1.split()], label2.split())\n",
    "        count += 1\n",
    "    reliabilityInter[i] = sim / count\n",
    "\n",
    "  return reliabilityInter"
   ]
  },
  {
   "cell_type": "markdown",
   "metadata": {
    "id": "JqDnlUFXZXHA"
   },
   "source": [
    "## METEOR Functions"
   ]
  },
  {
   "cell_type": "markdown",
   "metadata": {
    "id": "rcnwbKULZans"
   },
   "source": [
    "### Worker METEOR"
   ]
  },
  {
   "cell_type": "code",
   "execution_count": null,
   "metadata": {
    "id": "CNHeJ5gfZtEt"
   },
   "outputs": [],
   "source": [
    "def WorkerReliabilityMETEOR(workers, sentences, wlabelidlists, wsentenceidlists, labels, truelabels):\n",
    "  w_num = len(workers)\n",
    "  reliability = np.zeros(w_num)\n",
    "  s_num = len(sentences)\n",
    "\n",
    "  for j in range(w_num):\n",
    "    worker = workers[j]\n",
    "    wtruelabels = truelabels[wsentenceidlists[worker]]\n",
    "    wlabelidlist = wlabelidlists[worker]\n",
    "    wlabels = labels[wlabelidlist]\n",
    "\n",
    "    nw = len(wlabels)\n",
    "    totalsim = 0\n",
    "    for i in range(nw):\n",
    "      label = wlabels[i]\n",
    "      truelabel = wtruelabels[i]\n",
    "      totalsim += meteor.meteor_score([truelabel.split()], label.split())\n",
    "    reliability[j] = totalsim / nw\n",
    "\n",
    "  return reliability"
   ]
  },
  {
   "cell_type": "markdown",
   "metadata": {
    "id": "m4rRosZeZap6"
   },
   "source": [
    "### Question METEOR"
   ]
  },
  {
   "cell_type": "code",
   "execution_count": null,
   "metadata": {
    "id": "f0NikVziaAIP"
   },
   "outputs": [],
   "source": [
    "def QuestionReliabilityMETEOR(sentences, slabelidlists, labels, truelabels):\n",
    "  reliability = np.zeros(len(sentences))\n",
    "  for i in range(len(sentences)):\n",
    "    sentence = sentences[i]\n",
    "    truelabel = truelabels[sentences.index(sentence)]\n",
    "    slabels = labels[slabelidlists[sentence]]\n",
    "    ns = len(slabels)\n",
    "    sim = 0\n",
    "    for k in range(ns):\n",
    "      label = slabels[k]\n",
    "      sim += meteor.meteor_score([truelabel.split()], label.split())\n",
    "    reliability[i] = sim / ns\n",
    "\n",
    "  return reliability"
   ]
  },
  {
   "cell_type": "code",
   "execution_count": null,
   "metadata": {
    "id": "9FhZOjS6KiyT"
   },
   "outputs": [],
   "source": [
    "def QuestionReliabilityMETEORInter(sentences, slabelidlists, labels, truelabels):\n",
    "  reliability = np.zeros(len(sentences))\n",
    "  for i in range(len(sentences)):\n",
    "    sentence = sentences[i]\n",
    "    truelabel = truelabels[sentences.index(sentence)]\n",
    "    slabels = labels[slabelidlists[sentence]]\n",
    "    ns = len(slabels)\n",
    "    sim = 0\n",
    "    count = 0\n",
    "    for k1 in range(ns):\n",
    "      label1 = slabels[k1]\n",
    "      for k2 in range(k1+1,ns):\n",
    "        label2 = slabels[k2]\n",
    "        sim += meteor.meteor_score([label1.split()], label2.split())\n",
    "        count += 1\n",
    "    reliability[i] = sim / count\n",
    "\n",
    "  return reliability"
   ]
  },
  {
   "cell_type": "markdown",
   "metadata": {
    "id": "y9EfDOoy2N42"
   },
   "source": [
    "## Crowd Only"
   ]
  },
  {
   "cell_type": "markdown",
   "metadata": {
    "id": "eSgAd4uL2iza"
   },
   "source": [
    "### Embedding: Worker Reliability"
   ]
  },
  {
   "cell_type": "code",
   "execution_count": null,
   "metadata": {
    "colab": {
     "base_uri": "https://localhost:8080/"
    },
    "id": "vDW7voR2HL50",
    "outputId": "5a2672fd-a270-4f8b-c449-0728907a4446"
   },
   "outputs": [
    {
     "name": "stdout",
     "output_type": "stream",
     "text": [
      "[0.4233174607157707, 0.5826911341398955, 0.4725991033017635]\n",
      "[0.6619557354187682, 0.7260422374769335, 0.7076946628163027]\n",
      "[0.8794820020596187, 0.904344166815281, 0.8958068251609802]\n"
     ]
    }
   ],
   "source": [
    "# J1\n",
    "labelfilename = folder + 'CrowdWSA2019_J1_label_anonymous.tsv'\n",
    "gtfilename = folder + 'CrowdWSA2019_J1_gt.tsv'\n",
    "j1workerreliability = DatasetWorkerReliabilityEmbedding(labelfilename,gtfilename)\n",
    "\n",
    "# T1\n",
    "labelfilename = folder + 'CrowdWSA2019_T1_label_anonymous.tsv'\n",
    "gtfilename = folder + 'CrowdWSA2019_T1_gt.tsv'\n",
    "t1workerreliability = DatasetWorkerReliabilityEmbedding(labelfilename,gtfilename)\n",
    "\n",
    "# T2\n",
    "labelfilename = folder + 'CrowdWSA2019_T2_label_anonymous.tsv'\n",
    "gtfilename = folder + 'CrowdWSA2019_T2_gt.tsv'\n",
    "t2workerreliability = DatasetWorkerReliabilityEmbedding(labelfilename,gtfilename)\n",
    "\n",
    "print([np.min(j1workerreliability),np.min(t1workerreliability),np.min(t2workerreliability)])\n",
    "print([np.mean(j1workerreliability),np.mean(t1workerreliability),np.mean(t2workerreliability)])\n",
    "print([np.max(j1workerreliability),np.max(t1workerreliability),np.max(t2workerreliability)])"
   ]
  },
  {
   "cell_type": "markdown",
   "metadata": {
    "id": "tzrOzmzf2lhL"
   },
   "source": [
    "### Embedding: Question Reliability"
   ]
  },
  {
   "cell_type": "code",
   "execution_count": null,
   "metadata": {
    "colab": {
     "base_uri": "https://localhost:8080/"
    },
    "id": "MV7O-WqaaYdX",
    "outputId": "131a168a-2263-436f-9b06-fe4359fadcfa"
   },
   "outputs": [
    {
     "name": "stdout",
     "output_type": "stream",
     "text": [
      "[0.3222570061683655, 0.1263815749436617, 0.12064818777143956]\n",
      "[0.6731647727542452, 0.7244636795036494, 0.7104700434468687]\n",
      "[0.9459680497646332, 0.9583230972290039, 0.9546079576015473]\n"
     ]
    }
   ],
   "source": [
    "# J1\n",
    "labelfilename = folder + 'CrowdWSA2019_J1_label_anonymous.tsv'\n",
    "gtfilename = folder + 'CrowdWSA2019_J1_gt.tsv'\n",
    "j1questionreliability = DatasetQuestionReliabilityEmbedding(labelfilename,gtfilename)\n",
    "\n",
    "# T1\n",
    "labelfilename = folder + 'CrowdWSA2019_T1_label_anonymous.tsv'\n",
    "gtfilename = folder + 'CrowdWSA2019_T1_gt.tsv'\n",
    "t1questionreliability = DatasetQuestionReliabilityEmbedding(labelfilename,gtfilename)\n",
    "\n",
    "# T2\n",
    "labelfilename = folder + 'CrowdWSA2019_T2_label_anonymous.tsv'\n",
    "gtfilename = folder + 'CrowdWSA2019_T2_gt.tsv'\n",
    "t2questionreliability = DatasetQuestionReliabilityEmbedding(labelfilename,gtfilename)\n",
    "\n",
    "print([np.min(j1questionreliability),np.min(t1questionreliability),np.min(t2questionreliability)])\n",
    "print([np.mean(j1questionreliability),np.mean(t1questionreliability),np.mean(t2questionreliability)])\n",
    "print([np.max(j1questionreliability),np.max(t1questionreliability),np.max(t2questionreliability)])"
   ]
  },
  {
   "cell_type": "markdown",
   "metadata": {
    "id": "FRAZlo6X2fG6"
   },
   "source": [
    "### Worker GLEU"
   ]
  },
  {
   "cell_type": "code",
   "execution_count": null,
   "metadata": {
    "colab": {
     "base_uri": "https://localhost:8080/"
    },
    "id": "chhUDk17bzrs",
    "outputId": "c6eb1017-2f91-42ba-96d0-fab74da3c72b"
   },
   "outputs": [
    {
     "name": "stdout",
     "output_type": "stream",
     "text": [
      "[0.07237291780635434, 0.06686639236772593, 0.050281626104241105]\n",
      "[0.1868012686336684, 0.17641370367716142, 0.17155530496426646]\n",
      "[0.5948484393066437, 0.5533564345646725, 0.4540110583805842]\n"
     ]
    }
   ],
   "source": [
    "# J1\n",
    "labelfilename = folder + 'CrowdWSA2019_J1_label_anonymous.tsv'\n",
    "gtfilename = folder + 'CrowdWSA2019_J1_gt.tsv'\n",
    "\n",
    "(workers,sentences,swlabels,truelabels) = loaddata(labelfilename,gtfilename)\n",
    "(labellist,slabelidlists,sworkeridlists,wlabelidlists,wsentenceidlists) = labelformatconversion(workers,sentences,swlabels)\n",
    "(truelabellist) = truelabelformatonversion(sentences,truelabels)\n",
    "\n",
    "reliability = WorkerReliabilityGLEU(workers, sentences, wlabelidlists, wsentenceidlists, np.asarray(labellist), np.asarray(truelabellist))\n",
    "j1workergleu = reliability\n",
    "\n",
    "# T1\n",
    "labelfilename = folder + 'CrowdWSA2019_T1_label_anonymous.tsv'\n",
    "gtfilename = folder + 'CrowdWSA2019_T1_gt.tsv'\n",
    "\n",
    "(workers,sentences,swlabels,truelabels) = loaddata(labelfilename,gtfilename)\n",
    "(labellist,slabelidlists,sworkeridlists,wlabelidlists,wsentenceidlists) = labelformatconversion(workers,sentences,swlabels)\n",
    "(truelabellist) = truelabelformatonversion(sentences,truelabels)\n",
    "\n",
    "reliability = WorkerReliabilityGLEU(workers, sentences, wlabelidlists, wsentenceidlists, np.asarray(labellist), np.asarray(truelabellist))\n",
    "t1workergleu = reliability\n",
    "\n",
    "# T2\n",
    "labelfilename = folder + 'CrowdWSA2019_T2_label_anonymous.tsv'\n",
    "gtfilename = folder + 'CrowdWSA2019_T2_gt.tsv'\n",
    "\n",
    "(workers,sentences,swlabels,truelabels) = loaddata(labelfilename,gtfilename)\n",
    "(labellist,slabelidlists,sworkeridlists,wlabelidlists,wsentenceidlists) = labelformatconversion(workers,sentences,swlabels)\n",
    "(truelabellist) = truelabelformatonversion(sentences,truelabels)\n",
    "\n",
    "reliability = WorkerReliabilityGLEU(workers, sentences, wlabelidlists, wsentenceidlists, np.asarray(labellist), np.asarray(truelabellist))\n",
    "t2workergleu = reliability\n",
    "\n",
    "print([np.min(j1workergleu),np.min(t1workergleu),np.min(t2workergleu)])\n",
    "print([np.mean(j1workergleu),np.mean(t1workergleu),np.mean(t2workergleu)])\n",
    "print([np.max(j1workergleu),np.max(t1workergleu),np.max(t2workergleu)])"
   ]
  },
  {
   "cell_type": "markdown",
   "metadata": {
    "id": "8h9_OBBT2Vi8"
   },
   "source": [
    "###Question GLEU"
   ]
  },
  {
   "cell_type": "code",
   "execution_count": null,
   "metadata": {
    "colab": {
     "base_uri": "https://localhost:8080/"
    },
    "id": "UDHOPL06cG_M",
    "outputId": "ba6c9571-cb5f-4e52-f2c2-36a2927f674b"
   },
   "outputs": [
    {
     "name": "stdout",
     "output_type": "stream",
     "text": [
      "[0.006535947712418301, 0.006521739130434782, 0.009523809523809523]\n",
      "[0.1929833036876219, 0.17403443483987385, 0.16158265928021784]\n",
      "[0.6590909090909091, 0.4725563909774436, 0.4384761904761906]\n"
     ]
    }
   ],
   "source": [
    "# J1\n",
    "labelfilename = folder + 'CrowdWSA2019_J1_label_anonymous.tsv'\n",
    "gtfilename = folder + 'CrowdWSA2019_J1_gt.tsv'\n",
    "\n",
    "(workers,sentences,swlabels,truelabels) = loaddata(labelfilename,gtfilename)\n",
    "(labellist,slabelidlists,sworkeridlists,wlabelidlists,wsentenceidlists) = labelformatconversion(workers,sentences,swlabels)\n",
    "(truelabellist) = truelabelformatonversion(sentences,truelabels)\n",
    "\n",
    "quality = QuestionReliabilityGLEU(sentences, slabelidlists, np.asarray(labellist), np.asarray(truelabellist))\n",
    "j1questiongleu = quality\n",
    "\n",
    "# T1\n",
    "labelfilename = folder + 'CrowdWSA2019_T1_label_anonymous.tsv'\n",
    "gtfilename = folder + 'CrowdWSA2019_T1_gt.tsv'\n",
    "\n",
    "(workers,sentences,swlabels,truelabels) = loaddata(labelfilename,gtfilename)\n",
    "(labellist,slabelidlists,sworkeridlists,wlabelidlists,wsentenceidlists) = labelformatconversion(workers,sentences,swlabels)\n",
    "(truelabellist) = truelabelformatonversion(sentences,truelabels)\n",
    "\n",
    "quality = QuestionReliabilityGLEU(sentences, slabelidlists, np.asarray(labellist), np.asarray(truelabellist))\n",
    "t1questiongleu = quality\n",
    "\n",
    "# T2\n",
    "labelfilename = folder + 'CrowdWSA2019_T2_label_anonymous.tsv'\n",
    "gtfilename = folder + 'CrowdWSA2019_T2_gt.tsv'\n",
    "\n",
    "(workers,sentences,swlabels,truelabels) = loaddata(labelfilename,gtfilename)\n",
    "(labellist,slabelidlists,sworkeridlists,wlabelidlists,wsentenceidlists) = labelformatconversion(workers,sentences,swlabels)\n",
    "(truelabellist) = truelabelformatonversion(sentences,truelabels)\n",
    "\n",
    "quality = QuestionReliabilityGLEU(sentences, slabelidlists, np.asarray(labellist), np.asarray(truelabellist))\n",
    "t2questiongleu = quality\n",
    "\n",
    "print([np.min(j1questiongleu),np.min(t1questiongleu),np.min(t2questiongleu)])\n",
    "print([np.mean(j1questiongleu),np.mean(t1questiongleu),np.mean(t2questiongleu)])\n",
    "print([np.max(j1questiongleu),np.max(t1questiongleu),np.max(t2questiongleu)])"
   ]
  },
  {
   "cell_type": "markdown",
   "metadata": {
    "id": "rKQTLC4daIxv"
   },
   "source": [
    "### Worker METEOR"
   ]
  },
  {
   "cell_type": "code",
   "execution_count": null,
   "metadata": {
    "colab": {
     "base_uri": "https://localhost:8080/"
    },
    "id": "8YVLRHI-aocl",
    "outputId": "892d2bd0-e5a3-4398-a38d-f936d3884b4c"
   },
   "outputs": [
    {
     "name": "stdout",
     "output_type": "stream",
     "text": [
      "[0.2040843932501189, 0.17805898892215194, 0.15225078689455235]\n",
      "[0.37615897743650556, 0.3770760280922258, 0.3630198403684655]\n",
      "[0.7463835833007678, 0.7162633888123681, 0.647342194834532]\n"
     ]
    }
   ],
   "source": [
    "# J1\n",
    "labelfilename = folder + 'CrowdWSA2019_J1_label_anonymous.tsv'\n",
    "gtfilename = folder + 'CrowdWSA2019_J1_gt.tsv'\n",
    "\n",
    "(workers,sentences,swlabels,truelabels) = loaddata(labelfilename,gtfilename)\n",
    "(labellist,slabelidlists,sworkeridlists,wlabelidlists,wsentenceidlists) = labelformatconversion(workers,sentences,swlabels)\n",
    "(truelabellist) = truelabelformatonversion(sentences,truelabels)\n",
    "\n",
    "reliability = WorkerReliabilityMETEOR(workers, sentences, wlabelidlists, wsentenceidlists, np.asarray(labellist), np.asarray(truelabellist))\n",
    "j1workermeteor = reliability\n",
    "\n",
    "# T1\n",
    "labelfilename = folder + 'CrowdWSA2019_T1_label_anonymous.tsv'\n",
    "gtfilename = folder + 'CrowdWSA2019_T1_gt.tsv'\n",
    "\n",
    "(workers,sentences,swlabels,truelabels) = loaddata(labelfilename,gtfilename)\n",
    "(labellist,slabelidlists,sworkeridlists,wlabelidlists,wsentenceidlists) = labelformatconversion(workers,sentences,swlabels)\n",
    "(truelabellist) = truelabelformatonversion(sentences,truelabels)\n",
    "\n",
    "reliability = WorkerReliabilityMETEOR(workers, sentences, wlabelidlists, wsentenceidlists, np.asarray(labellist), np.asarray(truelabellist))\n",
    "t1workermeteor = reliability\n",
    "\n",
    "# T2\n",
    "labelfilename = folder + 'CrowdWSA2019_T2_label_anonymous.tsv'\n",
    "gtfilename = folder + 'CrowdWSA2019_T2_gt.tsv'\n",
    "\n",
    "(workers,sentences,swlabels,truelabels) = loaddata(labelfilename,gtfilename)\n",
    "(labellist,slabelidlists,sworkeridlists,wlabelidlists,wsentenceidlists) = labelformatconversion(workers,sentences,swlabels)\n",
    "(truelabellist) = truelabelformatonversion(sentences,truelabels)\n",
    "\n",
    "reliability = WorkerReliabilityMETEOR(workers, sentences, wlabelidlists, wsentenceidlists, np.asarray(labellist), np.asarray(truelabellist))\n",
    "t2workermeteor = reliability\n",
    "\n",
    "print([np.min(j1workermeteor),np.min(t1workermeteor),np.min(t2workermeteor)])\n",
    "print([np.mean(j1workermeteor),np.mean(t1workermeteor),np.mean(t2workermeteor)])\n",
    "print([np.max(j1workermeteor),np.max(t1workermeteor),np.max(t2workermeteor)])"
   ]
  },
  {
   "cell_type": "markdown",
   "metadata": {
    "id": "NhwEBragbntv"
   },
   "source": [
    "### Question METEOR"
   ]
  },
  {
   "cell_type": "code",
   "execution_count": null,
   "metadata": {
    "colab": {
     "base_uri": "https://localhost:8080/"
    },
    "id": "mI4o2zmzbqUc",
    "outputId": "e4a053e1-dbc6-47ec-ecfb-027204fd1c75"
   },
   "outputs": [
    {
     "name": "stdout",
     "output_type": "stream",
     "text": [
      "[0.057400309787111414, 0.015841769778777652, 0.030561754273594994]\n",
      "[0.3860552547481079, 0.3785616206179462, 0.36038552223904163]\n",
      "[0.8443340586752301, 0.7218620418700931, 0.6620051395112414]\n"
     ]
    }
   ],
   "source": [
    "# J1\n",
    "labelfilename = folder + 'CrowdWSA2019_J1_label_anonymous.tsv'\n",
    "gtfilename = folder + 'CrowdWSA2019_J1_gt.tsv'\n",
    "\n",
    "(workers,sentences,swlabels,truelabels) = loaddata(labelfilename,gtfilename)\n",
    "(labellist,slabelidlists,sworkeridlists,wlabelidlists,wsentenceidlists) = labelformatconversion(workers,sentences,swlabels)\n",
    "(truelabellist) = truelabelformatonversion(sentences,truelabels)\n",
    "\n",
    "quality = QuestionReliabilityMETEOR(sentences, slabelidlists, np.asarray(labellist), np.asarray(truelabellist))\n",
    "j1questionmeteor = quality\n",
    "\n",
    "# T1\n",
    "labelfilename = folder + 'CrowdWSA2019_T1_label_anonymous.tsv'\n",
    "gtfilename = folder + 'CrowdWSA2019_T1_gt.tsv'\n",
    "\n",
    "(workers,sentences,swlabels,truelabels) = loaddata(labelfilename,gtfilename)\n",
    "(labellist,slabelidlists,sworkeridlists,wlabelidlists,wsentenceidlists) = labelformatconversion(workers,sentences,swlabels)\n",
    "(truelabellist) = truelabelformatonversion(sentences,truelabels)\n",
    "\n",
    "quality = QuestionReliabilityMETEOR(sentences, slabelidlists, np.asarray(labellist), np.asarray(truelabellist))\n",
    "t1questionmeteor = quality\n",
    "\n",
    "# T2\n",
    "labelfilename = folder + 'CrowdWSA2019_T2_label_anonymous.tsv'\n",
    "gtfilename = folder + 'CrowdWSA2019_T2_gt.tsv'\n",
    "\n",
    "(workers,sentences,swlabels,truelabels) = loaddata(labelfilename,gtfilename)\n",
    "(labellist,slabelidlists,sworkeridlists,wlabelidlists,wsentenceidlists) = labelformatconversion(workers,sentences,swlabels)\n",
    "(truelabellist) = truelabelformatonversion(sentences,truelabels)\n",
    "\n",
    "quality = QuestionReliabilityMETEOR(sentences, slabelidlists, np.asarray(labellist), np.asarray(truelabellist))\n",
    "t2questionmeteor = quality\n",
    "\n",
    "print([np.min(j1questionmeteor),np.min(t1questionmeteor),np.min(t2questionmeteor)])\n",
    "print([np.mean(j1questionmeteor),np.mean(t1questionmeteor),np.mean(t2questionmeteor)])\n",
    "print([np.max(j1questionmeteor),np.max(t1questionmeteor),np.max(t2questionmeteor)])"
   ]
  },
  {
   "cell_type": "markdown",
   "metadata": {
    "id": "Xd3RsXYewNRc"
   },
   "source": [
    "## HumanAgg"
   ]
  },
  {
   "cell_type": "markdown",
   "metadata": {
    "id": "_RlohPE1wUUA"
   },
   "source": [
    "### Embedding: Worker Reliability"
   ]
  },
  {
   "cell_type": "code",
   "execution_count": null,
   "metadata": {
    "colab": {
     "base_uri": "https://localhost:8080/"
    },
    "id": "S140duV_wU_6",
    "outputId": "d7488111-d935-4eb2-e59c-862c66842de1"
   },
   "outputs": [
    {
     "name": "stdout",
     "output_type": "stream",
     "text": [
      "[0.22428159415721893, 0.12815801799297333, 0.26995864510536194]\n",
      "[0.6856763181317702, 0.7336201392129196, 0.7214679326086928]\n",
      "[1.0, 1.0, 1.0000001192092896]\n"
     ]
    }
   ],
   "source": [
    "# J1\n",
    "labelfilename = folder + 'CrowdWSA2019_J1_label_anonymous_humanagg.tsv'\n",
    "gtfilename = folder + 'CrowdWSA2019_J1_gt.tsv'\n",
    "j1workerreliability = DatasetWorkerReliabilityEmbedding(labelfilename,gtfilename)\n",
    "\n",
    "# T1\n",
    "labelfilename = folder + 'CrowdWSA2019_T1_label_anonymous_humanagg.tsv'\n",
    "gtfilename = folder + 'CrowdWSA2019_T1_gt.tsv'\n",
    "t1workerreliability = DatasetWorkerReliabilityEmbedding(labelfilename,gtfilename)\n",
    "\n",
    "# T2\n",
    "labelfilename = folder + 'CrowdWSA2019_T2_label_anonymous_humanagg.tsv'\n",
    "gtfilename = folder + 'CrowdWSA2019_T2_gt.tsv'\n",
    "t2workerreliability = DatasetWorkerReliabilityEmbedding(labelfilename,gtfilename)\n",
    "\n",
    "print([np.min(j1workerreliability),np.min(t1workerreliability),np.min(t2workerreliability)])\n",
    "print([np.mean(j1workerreliability),np.mean(t1workerreliability),np.mean(t2workerreliability)])\n",
    "print([np.max(j1workerreliability),np.max(t1workerreliability),np.max(t2workerreliability)])"
   ]
  },
  {
   "cell_type": "markdown",
   "metadata": {
    "id": "aFW098XHxFSN"
   },
   "source": [
    "### Embedding: Question Reliability"
   ]
  },
  {
   "cell_type": "code",
   "execution_count": null,
   "metadata": {
    "colab": {
     "base_uri": "https://localhost:8080/"
    },
    "id": "xkFBtSFLxHiT",
    "outputId": "f141dac2-6851-4854-cac8-f5fbb37187ef"
   },
   "outputs": [
    {
     "name": "stdout",
     "output_type": "stream",
     "text": [
      "[0.23160867393016815, 0.1377883568406105, 0.032199914753437045]\n",
      "[0.6982842175841331, 0.7429604621976612, 0.7281856881380081]\n",
      "[0.9761502861976623, 0.9581658124923706, 0.9349516153335571]\n"
     ]
    }
   ],
   "source": [
    "# J1\n",
    "labelfilename = folder + 'CrowdWSA2019_J1_label_anonymous_humanagg.tsv'\n",
    "gtfilename = folder + 'CrowdWSA2019_J1_gt.tsv'\n",
    "j1questionreliability = DatasetQuestionReliabilityEmbedding(labelfilename,gtfilename)\n",
    "\n",
    "# T1\n",
    "labelfilename = folder + 'CrowdWSA2019_T1_label_anonymous_humanagg.tsv'\n",
    "gtfilename = folder + 'CrowdWSA2019_T1_gt.tsv'\n",
    "t1questionreliability = DatasetQuestionReliabilityEmbedding(labelfilename,gtfilename)\n",
    "\n",
    "# T2\n",
    "labelfilename = folder + 'CrowdWSA2019_T2_label_anonymous_humanagg.tsv'\n",
    "gtfilename = folder + 'CrowdWSA2019_T2_gt.tsv'\n",
    "t2questionreliability = DatasetQuestionReliabilityEmbedding(labelfilename,gtfilename)\n",
    "\n",
    "print([np.min(j1questionreliability),np.min(t1questionreliability),np.min(t2questionreliability)])\n",
    "print([np.mean(j1questionreliability),np.mean(t1questionreliability),np.mean(t2questionreliability)])\n",
    "print([np.max(j1questionreliability),np.max(t1questionreliability),np.max(t2questionreliability)])"
   ]
  },
  {
   "cell_type": "markdown",
   "metadata": {
    "id": "I7F8-JxqxNGn"
   },
   "source": [
    "### Worker GLEU"
   ]
  },
  {
   "cell_type": "code",
   "execution_count": null,
   "metadata": {
    "colab": {
     "base_uri": "https://localhost:8080/"
    },
    "id": "ISgQbNf1xPjL",
    "outputId": "75a5973f-6120-4daa-b5e2-0b103bad2d0c"
   },
   "outputs": [
    {
     "name": "stdout",
     "output_type": "stream",
     "text": [
      "[0.0, 0.021739130434782608, 0.0]\n",
      "[0.21237081610419373, 0.18738060144552507, 0.18166888764533748]\n",
      "[1.0, 0.7894736842105263, 0.6842105263157895]\n"
     ]
    }
   ],
   "source": [
    "# J1\n",
    "labelfilename = folder + 'CrowdWSA2019_J1_label_anonymous_humanagg.tsv'\n",
    "gtfilename = folder + 'CrowdWSA2019_J1_gt.tsv'\n",
    "\n",
    "(workers,sentences,swlabels,truelabels) = loaddata(labelfilename,gtfilename)\n",
    "(labellist,slabelidlists,sworkeridlists,wlabelidlists,wsentenceidlists) = labelformatconversion(workers,sentences,swlabels)\n",
    "(truelabellist) = truelabelformatonversion(sentences,truelabels)\n",
    "\n",
    "reliability = WorkerReliabilityGLEU(workers, sentences, wlabelidlists, wsentenceidlists, np.asarray(labellist), np.asarray(truelabellist))\n",
    "j1workergleu = reliability\n",
    "\n",
    "# T1\n",
    "labelfilename = folder + 'CrowdWSA2019_T1_label_anonymous_humanagg.tsv'\n",
    "gtfilename = folder + 'CrowdWSA2019_T1_gt.tsv'\n",
    "\n",
    "(workers,sentences,swlabels,truelabels) = loaddata(labelfilename,gtfilename)\n",
    "(labellist,slabelidlists,sworkeridlists,wlabelidlists,wsentenceidlists) = labelformatconversion(workers,sentences,swlabels)\n",
    "(truelabellist) = truelabelformatonversion(sentences,truelabels)\n",
    "\n",
    "reliability = WorkerReliabilityGLEU(workers, sentences, wlabelidlists, wsentenceidlists, np.asarray(labellist), np.asarray(truelabellist))\n",
    "t1workergleu = reliability\n",
    "\n",
    "# T2\n",
    "labelfilename = folder + 'CrowdWSA2019_T2_label_anonymous_humanagg.tsv'\n",
    "gtfilename = folder + 'CrowdWSA2019_T2_gt.tsv'\n",
    "\n",
    "(workers,sentences,swlabels,truelabels) = loaddata(labelfilename,gtfilename)\n",
    "(labellist,slabelidlists,sworkeridlists,wlabelidlists,wsentenceidlists) = labelformatconversion(workers,sentences,swlabels)\n",
    "(truelabellist) = truelabelformatonversion(sentences,truelabels)\n",
    "\n",
    "reliability = WorkerReliabilityGLEU(workers, sentences, wlabelidlists, wsentenceidlists, np.asarray(labellist), np.asarray(truelabellist))\n",
    "t2workergleu = reliability\n",
    "\n",
    "print([np.min(j1workergleu),np.min(t1workergleu),np.min(t2workergleu)])\n",
    "print([np.mean(j1workergleu),np.mean(t1workergleu),np.mean(t2workergleu)])\n",
    "print([np.max(j1workergleu),np.max(t1workergleu),np.max(t2workergleu)])"
   ]
  },
  {
   "cell_type": "markdown",
   "metadata": {
    "id": "_xTGkbkvxP90"
   },
   "source": [
    "### Question GLEU"
   ]
  },
  {
   "cell_type": "code",
   "execution_count": null,
   "metadata": {
    "colab": {
     "base_uri": "https://localhost:8080/"
    },
    "id": "f-C9KrFBxTad",
    "outputId": "57276b91-f9c7-4505-d32f-dd11bf78122b"
   },
   "outputs": [
    {
     "name": "stdout",
     "output_type": "stream",
     "text": [
      "[0.0047619047619047615, 0.017391304347826087, 0.0]\n",
      "[0.2260193818423277, 0.18188431807326452, 0.17690832435077364]\n",
      "[0.8566433566433567, 0.5789473684210527, 0.5421052631578946]\n"
     ]
    }
   ],
   "source": [
    "# J1\n",
    "labelfilename = folder + 'CrowdWSA2019_J1_label_anonymous_humanagg.tsv'\n",
    "gtfilename = folder + 'CrowdWSA2019_J1_gt.tsv'\n",
    "\n",
    "(workers,sentences,swlabels,truelabels) = loaddata(labelfilename,gtfilename)\n",
    "(labellist,slabelidlists,sworkeridlists,wlabelidlists,wsentenceidlists) = labelformatconversion(workers,sentences,swlabels)\n",
    "(truelabellist) = truelabelformatonversion(sentences,truelabels)\n",
    "\n",
    "quality = QuestionReliabilityGLEU(sentences, slabelidlists, np.asarray(labellist), np.asarray(truelabellist))\n",
    "j1questiongleu = quality\n",
    "\n",
    "# T1\n",
    "labelfilename = folder + 'CrowdWSA2019_T1_label_anonymous_humanagg.tsv'\n",
    "gtfilename = folder + 'CrowdWSA2019_T1_gt.tsv'\n",
    "\n",
    "(workers,sentences,swlabels,truelabels) = loaddata(labelfilename,gtfilename)\n",
    "(labellist,slabelidlists,sworkeridlists,wlabelidlists,wsentenceidlists) = labelformatconversion(workers,sentences,swlabels)\n",
    "(truelabellist) = truelabelformatonversion(sentences,truelabels)\n",
    "\n",
    "quality = QuestionReliabilityGLEU(sentences, slabelidlists, np.asarray(labellist), np.asarray(truelabellist))\n",
    "t1questiongleu = quality\n",
    "\n",
    "# T2\n",
    "labelfilename = folder + 'CrowdWSA2019_T2_label_anonymous_humanagg.tsv'\n",
    "gtfilename = folder + 'CrowdWSA2019_T2_gt.tsv'\n",
    "\n",
    "(workers,sentences,swlabels,truelabels) = loaddata(labelfilename,gtfilename)\n",
    "(labellist,slabelidlists,sworkeridlists,wlabelidlists,wsentenceidlists) = labelformatconversion(workers,sentences,swlabels)\n",
    "(truelabellist) = truelabelformatonversion(sentences,truelabels)\n",
    "\n",
    "quality = QuestionReliabilityGLEU(sentences, slabelidlists, np.asarray(labellist), np.asarray(truelabellist))\n",
    "t2questiongleu = quality\n",
    "\n",
    "print([np.min(j1questiongleu),np.min(t1questiongleu),np.min(t2questiongleu)])\n",
    "print([np.mean(j1questiongleu),np.mean(t1questiongleu),np.mean(t2questiongleu)])\n",
    "print([np.max(j1questiongleu),np.max(t1questiongleu),np.max(t2questiongleu)])"
   ]
  },
  {
   "cell_type": "markdown",
   "metadata": {
    "id": "XJQBZXw6cDEJ"
   },
   "source": [
    "### Worker METEOR"
   ]
  },
  {
   "cell_type": "code",
   "execution_count": null,
   "metadata": {
    "colab": {
     "base_uri": "https://localhost:8080/"
    },
    "id": "9gz8l5xIcH6V",
    "outputId": "72a21d10-858c-4bb8-f711-5f612c24a8a3"
   },
   "outputs": [
    {
     "name": "stdout",
     "output_type": "stream",
     "text": [
      "[0.04901960784313726, 0.03937007874015748, 0.04761904761904762]\n",
      "[0.4156094318692456, 0.39085744805149214, 0.383969723883758]\n",
      "[0.9985422740524781, 0.9169724770642201, 0.8287608596250572]\n"
     ]
    }
   ],
   "source": [
    "# J1\n",
    "labelfilename = folder + 'CrowdWSA2019_J1_label_anonymous_humanagg.tsv'\n",
    "gtfilename = folder + 'CrowdWSA2019_J1_gt.tsv'\n",
    "\n",
    "(workers,sentences,swlabels,truelabels) = loaddata(labelfilename,gtfilename)\n",
    "(labellist,slabelidlists,sworkeridlists,wlabelidlists,wsentenceidlists) = labelformatconversion(workers,sentences,swlabels)\n",
    "(truelabellist) = truelabelformatonversion(sentences,truelabels)\n",
    "\n",
    "reliability = WorkerReliabilityMETEOR(workers, sentences, wlabelidlists, wsentenceidlists, np.asarray(labellist), np.asarray(truelabellist))\n",
    "j1workermeteor = reliability\n",
    "\n",
    "# T1\n",
    "labelfilename = folder + 'CrowdWSA2019_T1_label_anonymous_humanagg.tsv'\n",
    "gtfilename = folder + 'CrowdWSA2019_T1_gt.tsv'\n",
    "\n",
    "(workers,sentences,swlabels,truelabels) = loaddata(labelfilename,gtfilename)\n",
    "(labellist,slabelidlists,sworkeridlists,wlabelidlists,wsentenceidlists) = labelformatconversion(workers,sentences,swlabels)\n",
    "(truelabellist) = truelabelformatonversion(sentences,truelabels)\n",
    "\n",
    "reliability = WorkerReliabilityMETEOR(workers, sentences, wlabelidlists, wsentenceidlists, np.asarray(labellist), np.asarray(truelabellist))\n",
    "t1workermeteor = reliability\n",
    "\n",
    "# T2\n",
    "labelfilename = folder + 'CrowdWSA2019_T2_label_anonymous_humanagg.tsv'\n",
    "gtfilename = folder + 'CrowdWSA2019_T2_gt.tsv'\n",
    "\n",
    "(workers,sentences,swlabels,truelabels) = loaddata(labelfilename,gtfilename)\n",
    "(labellist,slabelidlists,sworkeridlists,wlabelidlists,wsentenceidlists) = labelformatconversion(workers,sentences,swlabels)\n",
    "(truelabellist) = truelabelformatonversion(sentences,truelabels)\n",
    "\n",
    "reliability = WorkerReliabilityMETEOR(workers, sentences, wlabelidlists, wsentenceidlists, np.asarray(labellist), np.asarray(truelabellist))\n",
    "t2workermeteor = reliability\n",
    "\n",
    "print([np.min(j1workermeteor),np.min(t1workermeteor),np.min(t2workermeteor)])\n",
    "print([np.mean(j1workermeteor),np.mean(t1workermeteor),np.mean(t2workermeteor)])\n",
    "print([np.max(j1workermeteor),np.max(t1workermeteor),np.max(t2workermeteor)])"
   ]
  },
  {
   "cell_type": "markdown",
   "metadata": {
    "id": "792hlm5YcE-Z"
   },
   "source": [
    "### Question METEOR"
   ]
  },
  {
   "cell_type": "code",
   "execution_count": null,
   "metadata": {
    "colab": {
     "base_uri": "https://localhost:8080/"
    },
    "id": "Oumw0wuBcRPc",
    "outputId": "98c18c4a-ed75-48bd-e329-93cc0f304365"
   },
   "outputs": [
    {
     "name": "stdout",
     "output_type": "stream",
     "text": [
      "[0.04392998306041784, 0.03156632344033919, 0.03555764411027569]\n",
      "[0.4397162519298426, 0.39265189819162094, 0.37463693494354033]\n",
      "[0.9530227686703098, 0.8076119195645738, 0.7345149610271935]\n"
     ]
    }
   ],
   "source": [
    "# J1\n",
    "labelfilename = folder + 'CrowdWSA2019_J1_label_anonymous_humanagg.tsv'\n",
    "gtfilename = folder + 'CrowdWSA2019_J1_gt.tsv'\n",
    "\n",
    "(workers,sentences,swlabels,truelabels) = loaddata(labelfilename,gtfilename)\n",
    "(labellist,slabelidlists,sworkeridlists,wlabelidlists,wsentenceidlists) = labelformatconversion(workers,sentences,swlabels)\n",
    "(truelabellist) = truelabelformatonversion(sentences,truelabels)\n",
    "\n",
    "quality = QuestionReliabilityMETEOR(sentences, slabelidlists, np.asarray(labellist), np.asarray(truelabellist))\n",
    "j1questionmeteor = quality\n",
    "\n",
    "# T1\n",
    "labelfilename = folder + 'CrowdWSA2019_T1_label_anonymous_humanagg.tsv'\n",
    "gtfilename = folder + 'CrowdWSA2019_T1_gt.tsv'\n",
    "\n",
    "(workers,sentences,swlabels,truelabels) = loaddata(labelfilename,gtfilename)\n",
    "(labellist,slabelidlists,sworkeridlists,wlabelidlists,wsentenceidlists) = labelformatconversion(workers,sentences,swlabels)\n",
    "(truelabellist) = truelabelformatonversion(sentences,truelabels)\n",
    "\n",
    "quality = QuestionReliabilityMETEOR(sentences, slabelidlists, np.asarray(labellist), np.asarray(truelabellist))\n",
    "t1questionmeteor = quality\n",
    "\n",
    "# T2\n",
    "labelfilename = folder + 'CrowdWSA2019_T2_label_anonymous_humanagg.tsv'\n",
    "gtfilename = folder + 'CrowdWSA2019_T2_gt.tsv'\n",
    "\n",
    "(workers,sentences,swlabels,truelabels) = loaddata(labelfilename,gtfilename)\n",
    "(labellist,slabelidlists,sworkeridlists,wlabelidlists,wsentenceidlists) = labelformatconversion(workers,sentences,swlabels)\n",
    "(truelabellist) = truelabelformatonversion(sentences,truelabels)\n",
    "\n",
    "quality = QuestionReliabilityMETEOR(sentences, slabelidlists, np.asarray(labellist), np.asarray(truelabellist))\n",
    "t2questionmeteor = quality\n",
    "\n",
    "print([np.min(j1questionmeteor),np.min(t1questionmeteor),np.min(t2questionmeteor)])\n",
    "print([np.mean(j1questionmeteor),np.mean(t1questionmeteor),np.mean(t2questionmeteor)])\n",
    "print([np.max(j1questionmeteor),np.max(t1questionmeteor),np.max(t2questionmeteor)])"
   ]
  },
  {
   "cell_type": "markdown",
   "metadata": {
    "id": "lkJEk7xWztvn"
   },
   "source": [
    "## ChatGPT"
   ]
  },
  {
   "cell_type": "markdown",
   "metadata": {
    "id": "jw8Z-WNEz535"
   },
   "source": [
    "### Embedding: Worker Reliability"
   ]
  },
  {
   "cell_type": "code",
   "execution_count": null,
   "metadata": {
    "colab": {
     "base_uri": "https://localhost:8080/"
    },
    "id": "dYo27tDU02GN",
    "outputId": "8f3286c6-5b66-4c97-d277-bb419f009210"
   },
   "outputs": [
    {
     "name": "stdout",
     "output_type": "stream",
     "text": [
      "[0.7216353012546897, 0.7757952199876308, 0.7602277125418186]\n",
      "[0.731328093700111, 0.778561170130968, 0.7651334211528301]\n",
      "[0.7379359434843064, 0.7823864875733852, 0.7678966821730137]\n",
      "[0.005317873534983634, 0.0028524968075661137, 0.003180362097036341]\n"
     ]
    }
   ],
   "source": [
    "# J1\n",
    "labelfilename = folder + 'CrowdWSA2019_J1_label_5temperature_trial0_gpt-4-turbo-preview.tsv'\n",
    "gtfilename = folder + 'CrowdWSA2019_J1_gt.tsv'\n",
    "j1workerreliability = DatasetWorkerReliabilityEmbedding(labelfilename,gtfilename)\n",
    "\n",
    "# T1\n",
    "labelfilename = folder + 'CrowdWSA2019_T1_label_5temperature_trial0_gpt-4-turbo-preview.tsv'\n",
    "gtfilename = folder + 'CrowdWSA2019_T1_gt.tsv'\n",
    "t1workerreliability = DatasetWorkerReliabilityEmbedding(labelfilename,gtfilename)\n",
    "\n",
    "# T2\n",
    "labelfilename = folder + 'CrowdWSA2019_T2_label_5temperature_trial0_gpt-4-turbo-preview.tsv'\n",
    "gtfilename = folder + 'CrowdWSA2019_T2_gt.tsv'\n",
    "t2workerreliability = DatasetWorkerReliabilityEmbedding(labelfilename,gtfilename)\n",
    "\n",
    "print([np.min(j1workerreliability),np.min(t1workerreliability),np.min(t2workerreliability)])\n",
    "print([np.mean(j1workerreliability),np.mean(t1workerreliability),np.mean(t2workerreliability)])\n",
    "print([np.max(j1workerreliability),np.max(t1workerreliability),np.max(t2workerreliability)])\n",
    "print([np.std(j1workerreliability),np.std(t1workerreliability),np.std(t2workerreliability)])"
   ]
  },
  {
   "cell_type": "markdown",
   "metadata": {
    "id": "C8Bs40zdz8C1"
   },
   "source": [
    "### Embedding: Question Reliability"
   ]
  },
  {
   "cell_type": "code",
   "execution_count": null,
   "metadata": {
    "colab": {
     "base_uri": "https://localhost:8080/"
    },
    "id": "y-JCMLyv0wlT",
    "outputId": "1e00b36d-d401-4936-d397-0e5ea851b61d"
   },
   "outputs": [
    {
     "name": "stdout",
     "output_type": "stream",
     "text": [
      "[0.3219131529331207, 0.11951912939548492, 0.242936243613561]\n",
      "[0.7287178416724006, 0.776251809646686, 0.7658956364790598]\n",
      "[1.0000001192092896, 1.0000001192092896, 1.0]\n",
      "[0.1463987707005359, 0.14334911865480052, 0.1497327417817354]\n"
     ]
    }
   ],
   "source": [
    "# J1\n",
    "labelfilename = folder + 'CrowdWSA2019_J1_label_3temperature_trial0_gpt-4-turbo-preview.tsv'\n",
    "gtfilename = folder + 'CrowdWSA2019_J1_gt.tsv'\n",
    "j1questionreliability = DatasetQuestionReliabilityEmbedding(labelfilename,gtfilename)\n",
    "\n",
    "# T1\n",
    "labelfilename = folder + 'CrowdWSA2019_T1_label_3temperature_trial0_gpt-4-turbo-preview.tsv'\n",
    "gtfilename = folder + 'CrowdWSA2019_T1_gt.tsv'\n",
    "t1questionreliability = DatasetQuestionReliabilityEmbedding(labelfilename,gtfilename)\n",
    "\n",
    "# T2\n",
    "labelfilename = folder + 'CrowdWSA2019_T2_label_3temperature_trial0_gpt-4-turbo-preview.tsv'\n",
    "gtfilename = folder + 'CrowdWSA2019_T2_gt.tsv'\n",
    "t2questionreliability = DatasetQuestionReliabilityEmbedding(labelfilename,gtfilename)\n",
    "\n",
    "print([np.min(j1questionreliability),np.min(t1questionreliability),np.min(t2questionreliability)])\n",
    "print([np.mean(j1questionreliability),np.mean(t1questionreliability),np.mean(t2questionreliability)])\n",
    "print([np.max(j1questionreliability),np.max(t1questionreliability),np.max(t2questionreliability)])\n",
    "print([np.std(j1questionreliability),np.std(t1questionreliability),np.std(t2questionreliability)])"
   ]
  },
  {
   "cell_type": "code",
   "execution_count": null,
   "metadata": {
    "colab": {
     "base_uri": "https://localhost:8080/"
    },
    "id": "n-aCAUImKlsL",
    "outputId": "0f25526a-6f93-4e38-f8b8-9d209f9e4977"
   },
   "outputs": [
    {
     "name": "stdout",
     "output_type": "stream",
     "text": [
      "Inter-Annotator Agreement\n",
      "[0.9321979425748189, 0.9531522198518116, 0.9343030192454655]\n"
     ]
    }
   ],
   "source": [
    "# J1\n",
    "labelfilename = folder + 'CrowdWSA2019_J1_label_3temperature_trial0_gpt-4-turbo-preview.tsv'\n",
    "gtfilename = folder + 'CrowdWSA2019_J1_gt.tsv'\n",
    "j1questionreliability = DatasetQuestionReliabilityEmbeddingInter(labelfilename,gtfilename)\n",
    "\n",
    "# T1\n",
    "labelfilename = folder + 'CrowdWSA2019_T1_label_3temperature_trial0_gpt-4-turbo-preview.tsv'\n",
    "gtfilename = folder + 'CrowdWSA2019_T1_gt.tsv'\n",
    "t1questionreliability = DatasetQuestionReliabilityEmbeddingInter(labelfilename,gtfilename)\n",
    "\n",
    "# T2\n",
    "labelfilename = folder + 'CrowdWSA2019_T2_label_3temperature_trial0_gpt-4-turbo-preview.tsv'\n",
    "gtfilename = folder + 'CrowdWSA2019_T2_gt.tsv'\n",
    "t2questionreliability = DatasetQuestionReliabilityEmbeddingInter(labelfilename,gtfilename)\n",
    "\n",
    "print('Inter-Annotator Agreement')\n",
    "print([np.mean(j1questionreliability),np.mean(t1questionreliability),np.mean(t2questionreliability)])"
   ]
  },
  {
   "cell_type": "markdown",
   "metadata": {
    "id": "YiE9wmdaz998"
   },
   "source": [
    "### Worker GLEU"
   ]
  },
  {
   "cell_type": "code",
   "execution_count": null,
   "metadata": {
    "colab": {
     "base_uri": "https://localhost:8080/"
    },
    "id": "VR8NRWeQ0cYf",
    "outputId": "e19b968f-d93a-49c8-8e43-dd3b80a145ff"
   },
   "outputs": [
    {
     "name": "stdout",
     "output_type": "stream",
     "text": [
      "[0.2705515066488463, 0.21435638120789244, 0.202531026383216]\n",
      "[0.27285867768269834, 0.21841283025989106, 0.21362884604481375]\n",
      "[0.2756277178785879, 0.2283486157506044, 0.2244390340335261]\n",
      "[0.0017904976557243896, 0.005105379204494995, 0.008333882855115278]\n"
     ]
    }
   ],
   "source": [
    "# J1\n",
    "labelfilename = folder + 'CrowdWSA2019_J1_label_5temperature_trial0_gpt-4-turbo-preview.tsv'\n",
    "gtfilename = folder + 'CrowdWSA2019_J1_gt.tsv'\n",
    "\n",
    "(workers,sentences,swlabels,truelabels) = loaddata(labelfilename,gtfilename)\n",
    "(labellist,slabelidlists,sworkeridlists,wlabelidlists,wsentenceidlists) = labelformatconversion(workers,sentences,swlabels)\n",
    "(truelabellist) = truelabelformatonversion(sentences,truelabels)\n",
    "\n",
    "reliability = WorkerReliabilityGLEU(workers, sentences, wlabelidlists, wsentenceidlists, np.asarray(labellist), np.asarray(truelabellist))\n",
    "j1workergleu = reliability\n",
    "\n",
    "# T1\n",
    "labelfilename = folder + 'CrowdWSA2019_T1_label_5temperature_trial0_gpt-4-turbo-preview.tsv'\n",
    "gtfilename = folder + 'CrowdWSA2019_T1_gt.tsv'\n",
    "\n",
    "(workers,sentences,swlabels,truelabels) = loaddata(labelfilename,gtfilename)\n",
    "(labellist,slabelidlists,sworkeridlists,wlabelidlists,wsentenceidlists) = labelformatconversion(workers,sentences,swlabels)\n",
    "(truelabellist) = truelabelformatonversion(sentences,truelabels)\n",
    "\n",
    "reliability = WorkerReliabilityGLEU(workers, sentences, wlabelidlists, wsentenceidlists, np.asarray(labellist), np.asarray(truelabellist))\n",
    "t1workergleu = reliability\n",
    "\n",
    "# T2\n",
    "labelfilename = folder + 'CrowdWSA2019_T2_label_5temperature_trial0_gpt-4-turbo-preview.tsv'\n",
    "gtfilename = folder + 'CrowdWSA2019_T2_gt.tsv'\n",
    "\n",
    "(workers,sentences,swlabels,truelabels) = loaddata(labelfilename,gtfilename)\n",
    "(labellist,slabelidlists,sworkeridlists,wlabelidlists,wsentenceidlists) = labelformatconversion(workers,sentences,swlabels)\n",
    "(truelabellist) = truelabelformatonversion(sentences,truelabels)\n",
    "\n",
    "reliability = WorkerReliabilityGLEU(workers, sentences, wlabelidlists, wsentenceidlists, np.asarray(labellist), np.asarray(truelabellist))\n",
    "t2workergleu = reliability\n",
    "\n",
    "print([np.min(j1workergleu),np.min(t1workergleu),np.min(t2workergleu)])\n",
    "print([np.mean(j1workergleu),np.mean(t1workergleu),np.mean(t2workergleu)])\n",
    "print([np.max(j1workergleu),np.max(t1workergleu),np.max(t2workergleu)])\n",
    "print([np.std(j1workergleu),np.std(t1workergleu),np.std(t2workergleu)])"
   ]
  },
  {
   "cell_type": "markdown",
   "metadata": {
    "id": "5zdey_m70AQv"
   },
   "source": [
    "### Question GLEU"
   ]
  },
  {
   "cell_type": "code",
   "execution_count": null,
   "metadata": {
    "colab": {
     "base_uri": "https://localhost:8080/"
    },
    "id": "9fE46xLR0TkQ",
    "outputId": "6a360c34-2bce-41b1-99de-cb7f1e852baf"
   },
   "outputs": [
    {
     "name": "stdout",
     "output_type": "stream",
     "text": [
      "[0.0, 0.0, 0.023809523809523808]\n",
      "[0.27378122078105216, 0.21543527431494502, 0.21217187337826487]\n",
      "[1.0, 0.7894736842105262, 0.7600000000000001]\n",
      "[0.22504284384838327, 0.15869505448426044, 0.1629914542136718]\n"
     ]
    }
   ],
   "source": [
    "# J1\n",
    "labelfilename = folder + 'CrowdWSA2019_J1_label_3temperature_trial0_gpt-4-turbo-preview.tsv'\n",
    "gtfilename = folder + 'CrowdWSA2019_J1_gt.tsv'\n",
    "\n",
    "(workers,sentences,swlabels,truelabels) = loaddata(labelfilename,gtfilename)\n",
    "(labellist,slabelidlists,sworkeridlists,wlabelidlists,wsentenceidlists) = labelformatconversion(workers,sentences,swlabels)\n",
    "(truelabellist) = truelabelformatonversion(sentences,truelabels)\n",
    "\n",
    "quality = QuestionReliabilityGLEU(sentences, slabelidlists, np.asarray(labellist), np.asarray(truelabellist))\n",
    "j1questiongleu = quality\n",
    "\n",
    "# T1\n",
    "labelfilename = folder + 'CrowdWSA2019_T1_label_3temperature_trial0_gpt-4-turbo-preview.tsv'\n",
    "gtfilename = folder + 'CrowdWSA2019_T1_gt.tsv'\n",
    "\n",
    "(workers,sentences,swlabels,truelabels) = loaddata(labelfilename,gtfilename)\n",
    "(labellist,slabelidlists,sworkeridlists,wlabelidlists,wsentenceidlists) = labelformatconversion(workers,sentences,swlabels)\n",
    "(truelabellist) = truelabelformatonversion(sentences,truelabels)\n",
    "\n",
    "quality = QuestionReliabilityGLEU(sentences, slabelidlists, np.asarray(labellist), np.asarray(truelabellist))\n",
    "t1questiongleu = quality\n",
    "\n",
    "# T2\n",
    "labelfilename = folder + 'CrowdWSA2019_T2_label_3temperature_trial0_gpt-4-turbo-preview.tsv'\n",
    "gtfilename = folder + 'CrowdWSA2019_T2_gt.tsv'\n",
    "\n",
    "(workers,sentences,swlabels,truelabels) = loaddata(labelfilename,gtfilename)\n",
    "(labellist,slabelidlists,sworkeridlists,wlabelidlists,wsentenceidlists) = labelformatconversion(workers,sentences,swlabels)\n",
    "(truelabellist) = truelabelformatonversion(sentences,truelabels)\n",
    "\n",
    "quality = QuestionReliabilityGLEU(sentences, slabelidlists, np.asarray(labellist), np.asarray(truelabellist))\n",
    "t2questiongleu = quality\n",
    "\n",
    "print([np.min(j1questiongleu),np.min(t1questiongleu),np.min(t2questiongleu)])\n",
    "print([np.mean(j1questiongleu),np.mean(t1questiongleu),np.mean(t2questiongleu)])\n",
    "print([np.max(j1questiongleu),np.max(t1questiongleu),np.max(t2questiongleu)])\n",
    "print([np.std(j1questiongleu),np.std(t1questiongleu),np.std(t2questiongleu)])"
   ]
  },
  {
   "cell_type": "code",
   "execution_count": null,
   "metadata": {
    "colab": {
     "base_uri": "https://localhost:8080/"
    },
    "id": "PLX5KMDBKrXb",
    "outputId": "3ac7105f-c005-4b87-fa32-40b967c6084c"
   },
   "outputs": [
    {
     "name": "stdout",
     "output_type": "stream",
     "text": [
      "Inter-Annotator Agreement\n",
      "[0.7438322175614764, 0.7808905255240248, 0.7588866930519912]\n"
     ]
    }
   ],
   "source": [
    "# J1\n",
    "labelfilename = folder + 'CrowdWSA2019_J1_label_3temperature_trial0_gpt-4-turbo-preview.tsv'\n",
    "gtfilename = folder + 'CrowdWSA2019_J1_gt.tsv'\n",
    "\n",
    "(workers,sentences,swlabels,truelabels) = loaddata(labelfilename,gtfilename)\n",
    "(labellist,slabelidlists,sworkeridlists,wlabelidlists,wsentenceidlists) = labelformatconversion(workers,sentences,swlabels)\n",
    "(truelabellist) = truelabelformatonversion(sentences,truelabels)\n",
    "\n",
    "quality = QuestionReliabilityGLEUInter(sentences, slabelidlists, np.asarray(labellist), np.asarray(truelabellist))\n",
    "j1questiongleu = quality\n",
    "\n",
    "# T1\n",
    "labelfilename = folder + 'CrowdWSA2019_T1_label_3temperature_trial0_gpt-4-turbo-preview.tsv'\n",
    "gtfilename = folder + 'CrowdWSA2019_T1_gt.tsv'\n",
    "\n",
    "(workers,sentences,swlabels,truelabels) = loaddata(labelfilename,gtfilename)\n",
    "(labellist,slabelidlists,sworkeridlists,wlabelidlists,wsentenceidlists) = labelformatconversion(workers,sentences,swlabels)\n",
    "(truelabellist) = truelabelformatonversion(sentences,truelabels)\n",
    "\n",
    "quality = QuestionReliabilityGLEUInter(sentences, slabelidlists, np.asarray(labellist), np.asarray(truelabellist))\n",
    "t1questiongleu = quality\n",
    "\n",
    "# T2\n",
    "labelfilename = folder + 'CrowdWSA2019_T2_label_3temperature_trial0_gpt-4-turbo-preview.tsv'\n",
    "gtfilename = folder + 'CrowdWSA2019_T2_gt.tsv'\n",
    "\n",
    "(workers,sentences,swlabels,truelabels) = loaddata(labelfilename,gtfilename)\n",
    "(labellist,slabelidlists,sworkeridlists,wlabelidlists,wsentenceidlists) = labelformatconversion(workers,sentences,swlabels)\n",
    "(truelabellist) = truelabelformatonversion(sentences,truelabels)\n",
    "\n",
    "quality = QuestionReliabilityGLEUInter(sentences, slabelidlists, np.asarray(labellist), np.asarray(truelabellist))\n",
    "t2questiongleu = quality\n",
    "\n",
    "print('Inter-Annotator Agreement')\n",
    "print([np.mean(j1questiongleu),np.mean(t1questiongleu),np.mean(t2questiongleu)])"
   ]
  },
  {
   "cell_type": "markdown",
   "metadata": {
    "id": "BagjZ7b6hpXM"
   },
   "source": [
    "### Worker METEOR"
   ]
  },
  {
   "cell_type": "code",
   "execution_count": null,
   "metadata": {
    "colab": {
     "base_uri": "https://localhost:8080/"
    },
    "id": "aY_grZnbhzJF",
    "outputId": "c88b0563-fe4b-423f-ad3b-12bdb8839b71"
   },
   "outputs": [
    {
     "name": "stdout",
     "output_type": "stream",
     "text": [
      "[0.49874032517874584, 0.42472715150037915, 0.41024920189198716]\n",
      "[0.50488034128122, 0.42940969523552575, 0.427814031381003]\n",
      "[0.5102609856206389, 0.4391799480009519, 0.44071832388885007]\n",
      "[0.0039061072151675884, 0.005101665333992812, 0.010294613225262518]\n"
     ]
    }
   ],
   "source": [
    "# J1\n",
    "labelfilename = folder + 'CrowdWSA2019_J1_label_5temperature_trial0_gpt-4-turbo-preview.tsv'\n",
    "gtfilename = folder + 'CrowdWSA2019_J1_gt.tsv'\n",
    "\n",
    "(workers,sentences,swlabels,truelabels) = loaddata(labelfilename,gtfilename)\n",
    "(labellist,slabelidlists,sworkeridlists,wlabelidlists,wsentenceidlists) = labelformatconversion(workers,sentences,swlabels)\n",
    "(truelabellist) = truelabelformatonversion(sentences,truelabels)\n",
    "\n",
    "reliability = WorkerReliabilityMETEOR(workers, sentences, wlabelidlists, wsentenceidlists, np.asarray(labellist), np.asarray(truelabellist))\n",
    "j1workermeteor = reliability\n",
    "\n",
    "# T1\n",
    "labelfilename = folder + 'CrowdWSA2019_T1_label_5temperature_trial0_gpt-4-turbo-preview.tsv'\n",
    "gtfilename = folder + 'CrowdWSA2019_T1_gt.tsv'\n",
    "\n",
    "(workers,sentences,swlabels,truelabels) = loaddata(labelfilename,gtfilename)\n",
    "(labellist,slabelidlists,sworkeridlists,wlabelidlists,wsentenceidlists) = labelformatconversion(workers,sentences,swlabels)\n",
    "(truelabellist) = truelabelformatonversion(sentences,truelabels)\n",
    "\n",
    "reliability = WorkerReliabilityMETEOR(workers, sentences, wlabelidlists, wsentenceidlists, np.asarray(labellist), np.asarray(truelabellist))\n",
    "t1workermeteor = reliability\n",
    "\n",
    "# T2\n",
    "labelfilename = folder + 'CrowdWSA2019_T2_label_5temperature_trial0_gpt-4-turbo-preview.tsv'\n",
    "gtfilename = folder + 'CrowdWSA2019_T2_gt.tsv'\n",
    "\n",
    "(workers,sentences,swlabels,truelabels) = loaddata(labelfilename,gtfilename)\n",
    "(labellist,slabelidlists,sworkeridlists,wlabelidlists,wsentenceidlists) = labelformatconversion(workers,sentences,swlabels)\n",
    "(truelabellist) = truelabelformatonversion(sentences,truelabels)\n",
    "\n",
    "reliability = WorkerReliabilityMETEOR(workers, sentences, wlabelidlists, wsentenceidlists, np.asarray(labellist), np.asarray(truelabellist))\n",
    "t2workermeteor = reliability\n",
    "\n",
    "print([np.min(j1workermeteor),np.min(t1workermeteor),np.min(t2workermeteor)])\n",
    "print([np.mean(j1workermeteor),np.mean(t1workermeteor),np.mean(t2workermeteor)])\n",
    "print([np.max(j1workermeteor),np.max(t1workermeteor),np.max(t2workermeteor)])\n",
    "print([np.std(j1workermeteor),np.std(t1workermeteor),np.std(t2workermeteor)])"
   ]
  },
  {
   "cell_type": "markdown",
   "metadata": {
    "id": "RZF-IDeKhty4"
   },
   "source": [
    "### Question METEOR"
   ]
  },
  {
   "cell_type": "code",
   "execution_count": null,
   "metadata": {
    "colab": {
     "base_uri": "https://localhost:8080/"
    },
    "id": "_HD8E62Ph7pP",
    "outputId": "a10068e4-0d26-40a8-8ed3-dd23080f2487"
   },
   "outputs": [
    {
     "name": "stdout",
     "output_type": "stream",
     "text": [
      "[0.0, 0.013333333333333334, 0.04732235573357069]\n",
      "[0.5051334652022386, 0.42620994282241964, 0.4265553611202379]\n",
      "[0.9994999999999999, 0.8251217578434704, 0.8630595523581134]\n",
      "[0.2336206100690281, 0.19194781358823995, 0.19104400283960798]\n"
     ]
    }
   ],
   "source": [
    "# J1\n",
    "labelfilename = folder + 'CrowdWSA2019_J1_label_3temperature_trial0_gpt-4-turbo-preview.tsv'\n",
    "gtfilename = folder + 'CrowdWSA2019_J1_gt.tsv'\n",
    "\n",
    "(workers,sentences,swlabels,truelabels) = loaddata(labelfilename,gtfilename)\n",
    "(labellist,slabelidlists,sworkeridlists,wlabelidlists,wsentenceidlists) = labelformatconversion(workers,sentences,swlabels)\n",
    "(truelabellist) = truelabelformatonversion(sentences,truelabels)\n",
    "\n",
    "quality = QuestionReliabilityMETEOR(sentences, slabelidlists, np.asarray(labellist), np.asarray(truelabellist))\n",
    "j1questionmeteor = quality\n",
    "\n",
    "# T1\n",
    "labelfilename = folder + 'CrowdWSA2019_T1_label_3temperature_trial0_gpt-4-turbo-preview.tsv'\n",
    "gtfilename = folder + 'CrowdWSA2019_T1_gt.tsv'\n",
    "\n",
    "(workers,sentences,swlabels,truelabels) = loaddata(labelfilename,gtfilename)\n",
    "(labellist,slabelidlists,sworkeridlists,wlabelidlists,wsentenceidlists) = labelformatconversion(workers,sentences,swlabels)\n",
    "(truelabellist) = truelabelformatonversion(sentences,truelabels)\n",
    "\n",
    "quality = QuestionReliabilityMETEOR(sentences, slabelidlists, np.asarray(labellist), np.asarray(truelabellist))\n",
    "t1questionmeteor = quality\n",
    "\n",
    "# T2\n",
    "labelfilename = folder + 'CrowdWSA2019_T2_label_3temperature_trial0_gpt-4-turbo-preview.tsv'\n",
    "gtfilename = folder + 'CrowdWSA2019_T2_gt.tsv'\n",
    "\n",
    "(workers,sentences,swlabels,truelabels) = loaddata(labelfilename,gtfilename)\n",
    "(labellist,slabelidlists,sworkeridlists,wlabelidlists,wsentenceidlists) = labelformatconversion(workers,sentences,swlabels)\n",
    "(truelabellist) = truelabelformatonversion(sentences,truelabels)\n",
    "\n",
    "quality = QuestionReliabilityMETEOR(sentences, slabelidlists, np.asarray(labellist), np.asarray(truelabellist))\n",
    "t2questionmeteor = quality\n",
    "\n",
    "print([np.min(j1questionmeteor),np.min(t1questionmeteor),np.min(t2questionmeteor)])\n",
    "print([np.mean(j1questionmeteor),np.mean(t1questionmeteor),np.mean(t2questionmeteor)])\n",
    "print([np.max(j1questionmeteor),np.max(t1questionmeteor),np.max(t2questionmeteor)])\n",
    "print([np.std(j1questionmeteor),np.std(t1questionmeteor),np.std(t2questionmeteor)])"
   ]
  },
  {
   "cell_type": "code",
   "execution_count": null,
   "metadata": {
    "colab": {
     "base_uri": "https://localhost:8080/"
    },
    "id": "t6kSbt78Kwny",
    "outputId": "324ef19d-1b96-4d51-85c6-259b08b6a2d6"
   },
   "outputs": [
    {
     "name": "stdout",
     "output_type": "stream",
     "text": [
      "Inter-Annotator Agreement\n",
      "[0.868317987887604, 0.8917817354834406, 0.8695972011693966]\n"
     ]
    }
   ],
   "source": [
    "# J1\n",
    "labelfilename = folder + 'CrowdWSA2019_J1_label_3temperature_trial0_gpt-4-turbo-preview.tsv'\n",
    "gtfilename = folder + 'CrowdWSA2019_J1_gt.tsv'\n",
    "\n",
    "(workers,sentences,swlabels,truelabels) = loaddata(labelfilename,gtfilename)\n",
    "(labellist,slabelidlists,sworkeridlists,wlabelidlists,wsentenceidlists) = labelformatconversion(workers,sentences,swlabels)\n",
    "(truelabellist) = truelabelformatonversion(sentences,truelabels)\n",
    "\n",
    "quality = QuestionReliabilityMETEORInter(sentences, slabelidlists, np.asarray(labellist), np.asarray(truelabellist))\n",
    "j1questionmeteor = quality\n",
    "\n",
    "# T1\n",
    "labelfilename = folder + 'CrowdWSA2019_T1_label_3temperature_trial0_gpt-4-turbo-preview.tsv'\n",
    "gtfilename = folder + 'CrowdWSA2019_T1_gt.tsv'\n",
    "\n",
    "(workers,sentences,swlabels,truelabels) = loaddata(labelfilename,gtfilename)\n",
    "(labellist,slabelidlists,sworkeridlists,wlabelidlists,wsentenceidlists) = labelformatconversion(workers,sentences,swlabels)\n",
    "(truelabellist) = truelabelformatonversion(sentences,truelabels)\n",
    "\n",
    "quality = QuestionReliabilityMETEORInter(sentences, slabelidlists, np.asarray(labellist), np.asarray(truelabellist))\n",
    "t1questionmeteor = quality\n",
    "\n",
    "# T2\n",
    "labelfilename = folder + 'CrowdWSA2019_T2_label_3temperature_trial0_gpt-4-turbo-preview.tsv'\n",
    "gtfilename = folder + 'CrowdWSA2019_T2_gt.tsv'\n",
    "\n",
    "(workers,sentences,swlabels,truelabels) = loaddata(labelfilename,gtfilename)\n",
    "(labellist,slabelidlists,sworkeridlists,wlabelidlists,wsentenceidlists) = labelformatconversion(workers,sentences,swlabels)\n",
    "(truelabellist) = truelabelformatonversion(sentences,truelabels)\n",
    "\n",
    "quality = QuestionReliabilityMETEORInter(sentences, slabelidlists, np.asarray(labellist), np.asarray(truelabellist))\n",
    "t2questionmeteor = quality\n",
    "\n",
    "print('Inter-Annotator Agreement')\n",
    "print([np.mean(j1questionmeteor),np.mean(t1questionmeteor),np.mean(t2questionmeteor)])"
   ]
  }
 ],
 "metadata": {
  "accelerator": "TPU",
  "colab": {
   "provenance": [],
   "toc_visible": true
  },
  "kernelspec": {
   "display_name": "Python 3",
   "language": "python",
   "name": "python3"
  },
  "language_info": {
   "codemirror_mode": {
    "name": "ipython",
    "version": 3
   },
   "file_extension": ".py",
   "mimetype": "text/x-python",
   "name": "python",
   "nbconvert_exporter": "python",
   "pygments_lexer": "ipython3",
   "version": "3.7.10"
  },
  "toc": {
   "base_numbering": 1,
   "nav_menu": {},
   "number_sections": true,
   "sideBar": true,
   "skip_h1_title": false,
   "title_cell": "Table of Contents",
   "title_sidebar": "Contents",
   "toc_cell": false,
   "toc_position": {},
   "toc_section_display": true,
   "toc_window_display": false
  }
 },
 "nbformat": 4,
 "nbformat_minor": 1
}
